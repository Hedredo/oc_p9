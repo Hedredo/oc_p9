{
 "cells": [
  {
   "cell_type": "code",
   "execution_count": 1,
   "id": "84b642aa",
   "metadata": {},
   "outputs": [
    {
     "name": "stdout",
     "output_type": "stream",
     "text": [
      "hello\n"
     ]
    }
   ],
   "source": [
    "print(\"hello\")"
   ]
  },
  {
   "cell_type": "code",
   "execution_count": null,
   "id": "eb87fe8c",
   "metadata": {},
   "outputs": [],
   "source": [
    "import gradio as gr\n",
    "from constants import DATASET_PATH, LABELS, IMAGE_FOLDER, CLOUD_FOLDER, SAMPLE\n",
    "import pandas as pd\n",
    "import subprocess\n",
    "import os\n",
    "import numpy as np\n",
    "from PIL import Image\n",
    "from pathlib import Path"
   ]
  },
  {
   "cell_type": "markdown",
   "id": "21a90c7b",
   "metadata": {},
   "source": [
    "# TEMP"
   ]
  },
  {
   "cell_type": "code",
   "execution_count": 12,
   "id": "ad0d9200",
   "metadata": {},
   "outputs": [
    {
     "name": "stdout",
     "output_type": "stream",
     "text": [
      "(14, 4)\n"
     ]
    }
   ],
   "source": [
    "# Pick a few random images from each class (2 par classe soit 14 images)\n",
    "df = pd.read_pickle(DATASET_PATH)\n",
    "df_sampled = pd.concat([df[df['class'] == label].sample(2) for label in LABELS])\n",
    "print(df_sampled.shape)"
   ]
  },
  {
   "cell_type": "code",
   "execution_count": 16,
   "id": "a481ef19",
   "metadata": {},
   "outputs": [],
   "source": [
    "# Populate the image folders and add a constant path to this folder in constants.py\n",
    "for i, row in df_sampled.iterrows():\n",
    "    image_renamed = row['product_name'].replace(\"  \", \"\").strip().capitalize()\n",
    "    df_sampled.at[i, 'image_renamed'] = image_renamed\n",
    "    subprocess.run([\"cp\", IMAGE_FOLDER / row['image'], CLOUD_FOLDER / \"images\" / row['image']])"
   ]
  },
  {
   "cell_type": "code",
   "execution_count": 18,
   "id": "6339029a",
   "metadata": {},
   "outputs": [],
   "source": [
    "df_sampled.to_csv(\"sampled.csv\", index=False)"
   ]
  },
  {
   "cell_type": "markdown",
   "id": "fe9be878",
   "metadata": {},
   "source": [
    "# CONSTRUCTING"
   ]
  },
  {
   "cell_type": "code",
   "execution_count": 17,
   "id": "fd14a9d9",
   "metadata": {},
   "outputs": [],
   "source": [
    "# Fonction lambda pour retourner un label bidon\n",
    "def dummy_label(image):\n",
    "    return str(np.random.choice(LABELS, 1)[0])"
   ]
  },
  {
   "cell_type": "code",
   "execution_count": 22,
   "id": "f241bd3d",
   "metadata": {},
   "outputs": [],
   "source": [
    "df = pd.read_csv(\"sampled.csv\")"
   ]
  },
  {
   "cell_type": "code",
   "execution_count": 23,
   "id": "9f0dce76",
   "metadata": {},
   "outputs": [
    {
     "data": {
      "application/vnd.microsoft.datawrangler.viewer.v0+json": {
       "columns": [
        {
         "name": "index",
         "rawType": "int64",
         "type": "integer"
        },
        {
         "name": "product_name",
         "rawType": "object",
         "type": "string"
        },
        {
         "name": "image",
         "rawType": "object",
         "type": "string"
        },
        {
         "name": "description",
         "rawType": "object",
         "type": "string"
        },
        {
         "name": "class",
         "rawType": "object",
         "type": "string"
        },
        {
         "name": "image_renamed",
         "rawType": "object",
         "type": "string"
        }
       ],
       "conversionMethod": "pd.DataFrame",
       "ref": "d3feb18f-f5b9-4546-9225-409d37d05d5d",
       "rows": [
        [
         "0",
         "Boreal Plastic rectangular hair brush 633D",
         "5ea8ddb8a5104c5d47c708e8a351e701.jpg",
         "Specifications of Boreal Plastic rectangular hair brush 633D Brush Traits Brush Type Flat brush Brush Set Content Small brush Bristle Type Nylon bristles Round Tip Bristle Yes Handle Type Plastic handle Brush Application Grooming, Curling, Detangling Ideal For BoysIIGirls Brush Size Small Brush Set No Suitable Hair Type Medium to long hair, Wet hair In the Box Hair brush Additional Traits Reduces snags and tangles",
         "Baby Care",
         "Boreal plastic rectangular hair brush 633d"
        ],
        [
         "1",
         "Jacadi paris Baby Boy's Striped Casual Blue Shirt",
         "4b500e244f11a45f5171bd3665413044.jpg",
         "Key Features of Jacadi paris Baby Boy's Striped Casual Blue Shirt Cotton stripped dress shirt,Jacadi paris Baby Boy's Striped Casual Blue Shirt Price: Rs. 3,145 Jacadi's classic stripped shirt is crafted in soft cotton, and shaped with a spread collar, button placket, button barrel cuffs, and a gently rounded hem. An embroidered logo detail sits on the left chest.,Specifications of Jacadi paris Baby Boy's Striped Casual Blue Shirt General Details Pattern Striped Ideal For Baby Boy's Occasion Casual Shirt Details Sleeve Full Sleeve Number of Contents in Sales Package Pack of 1 Brand Fit Regular Fabric 100% cotton Fit Regular In the Box 1 Cotton stripped dress shirt Additional Details Style Code 20564159",
         "Baby Care",
         "Jacadi paris baby boy's striped casual blue shirt"
        ],
        [
         "2",
         "RYTHMX FB NAIL POLISHES BLACK LIPSTICKS IMPORTANT COMBO 51",
         "5e84d36ad6db970548498829db8b15de.jpg",
         "Specifications of RYTHMX FB NAIL POLISHES BLACK LIPSTICKS IMPORTANT COMBO 51 (Set of 4) Combo Set Details Number of Contents in Combo Set 4 Combo Set Contents 2 Nail polish, 2 LIPSTICKS Organic Yes Ideal For Women General Traits Professional Care Yes Warranty After use Lipsticks No Exchange / No Return",
         "Beauty and Personal Care",
         "Rythmx fb nail polishes black lipsticks important combo 51"
        ],
        [
         "3",
         "Anna Andre Paris Majesty Deodorant Combo Set",
         "6e44d107ee32412243b19b0ed9b415f3.jpg",
         "Flipkart.com: Buy Anna Andre Paris Majesty Deodorant Combo Set online only for Rs. 199 from Flipkart.com. Only Genuine Products. 30 Day Replacement Guarantee. Free Shipping. Cash On Delivery!",
         "Beauty and Personal Care",
         "Anna andre paris majesty deodorant combo set"
        ],
        [
         "4",
         "HP Compaq Presario CQ43 6 Cell Laptop Battery",
         "9a8fa4fd6524ada03411b033a9daadc1.jpg",
         "Buy HP Compaq Presario CQ43 6 Cell Laptop Battery only for Rs. 0.0 from Flipkart.com. Only Genuine Products. 30 Day Replacement Guarantee. Free Shipping. Cash On Delivery!",
         "Computers",
         "Hp compaq presario cq43 6 cell laptop battery"
        ]
       ],
       "shape": {
        "columns": 5,
        "rows": 5
       }
      },
      "text/html": [
       "<div>\n",
       "<style scoped>\n",
       "    .dataframe tbody tr th:only-of-type {\n",
       "        vertical-align: middle;\n",
       "    }\n",
       "\n",
       "    .dataframe tbody tr th {\n",
       "        vertical-align: top;\n",
       "    }\n",
       "\n",
       "    .dataframe thead th {\n",
       "        text-align: right;\n",
       "    }\n",
       "</style>\n",
       "<table border=\"1\" class=\"dataframe\">\n",
       "  <thead>\n",
       "    <tr style=\"text-align: right;\">\n",
       "      <th></th>\n",
       "      <th>product_name</th>\n",
       "      <th>image</th>\n",
       "      <th>description</th>\n",
       "      <th>class</th>\n",
       "      <th>image_renamed</th>\n",
       "    </tr>\n",
       "  </thead>\n",
       "  <tbody>\n",
       "    <tr>\n",
       "      <th>0</th>\n",
       "      <td>Boreal Plastic rectangular hair brush 633D</td>\n",
       "      <td>5ea8ddb8a5104c5d47c708e8a351e701.jpg</td>\n",
       "      <td>Specifications of Boreal Plastic rectangular h...</td>\n",
       "      <td>Baby Care</td>\n",
       "      <td>Boreal plastic rectangular hair brush 633d</td>\n",
       "    </tr>\n",
       "    <tr>\n",
       "      <th>1</th>\n",
       "      <td>Jacadi paris Baby Boy's Striped Casual Blue Shirt</td>\n",
       "      <td>4b500e244f11a45f5171bd3665413044.jpg</td>\n",
       "      <td>Key Features of Jacadi paris Baby Boy's Stripe...</td>\n",
       "      <td>Baby Care</td>\n",
       "      <td>Jacadi paris baby boy's striped casual blue shirt</td>\n",
       "    </tr>\n",
       "    <tr>\n",
       "      <th>2</th>\n",
       "      <td>RYTHMX FB NAIL POLISHES BLACK LIPSTICKS IMPORT...</td>\n",
       "      <td>5e84d36ad6db970548498829db8b15de.jpg</td>\n",
       "      <td>Specifications of RYTHMX FB NAIL POLISHES BLAC...</td>\n",
       "      <td>Beauty and Personal Care</td>\n",
       "      <td>Rythmx fb nail polishes black lipsticks import...</td>\n",
       "    </tr>\n",
       "    <tr>\n",
       "      <th>3</th>\n",
       "      <td>Anna Andre Paris Majesty Deodorant Combo Set</td>\n",
       "      <td>6e44d107ee32412243b19b0ed9b415f3.jpg</td>\n",
       "      <td>Flipkart.com: Buy Anna Andre Paris Majesty Deo...</td>\n",
       "      <td>Beauty and Personal Care</td>\n",
       "      <td>Anna andre paris majesty deodorant combo set</td>\n",
       "    </tr>\n",
       "    <tr>\n",
       "      <th>4</th>\n",
       "      <td>HP Compaq Presario CQ43 6 Cell Laptop Battery</td>\n",
       "      <td>9a8fa4fd6524ada03411b033a9daadc1.jpg</td>\n",
       "      <td>Buy HP Compaq Presario CQ43 6 Cell Laptop Batt...</td>\n",
       "      <td>Computers</td>\n",
       "      <td>Hp compaq presario cq43 6 cell laptop battery</td>\n",
       "    </tr>\n",
       "  </tbody>\n",
       "</table>\n",
       "</div>"
      ],
      "text/plain": [
       "                                        product_name  \\\n",
       "0         Boreal Plastic rectangular hair brush 633D   \n",
       "1  Jacadi paris Baby Boy's Striped Casual Blue Shirt   \n",
       "2  RYTHMX FB NAIL POLISHES BLACK LIPSTICKS IMPORT...   \n",
       "3       Anna Andre Paris Majesty Deodorant Combo Set   \n",
       "4      HP Compaq Presario CQ43 6 Cell Laptop Battery   \n",
       "\n",
       "                                  image  \\\n",
       "0  5ea8ddb8a5104c5d47c708e8a351e701.jpg   \n",
       "1  4b500e244f11a45f5171bd3665413044.jpg   \n",
       "2  5e84d36ad6db970548498829db8b15de.jpg   \n",
       "3  6e44d107ee32412243b19b0ed9b415f3.jpg   \n",
       "4  9a8fa4fd6524ada03411b033a9daadc1.jpg   \n",
       "\n",
       "                                         description  \\\n",
       "0  Specifications of Boreal Plastic rectangular h...   \n",
       "1  Key Features of Jacadi paris Baby Boy's Stripe...   \n",
       "2  Specifications of RYTHMX FB NAIL POLISHES BLAC...   \n",
       "3  Flipkart.com: Buy Anna Andre Paris Majesty Deo...   \n",
       "4  Buy HP Compaq Presario CQ43 6 Cell Laptop Batt...   \n",
       "\n",
       "                      class                                      image_renamed  \n",
       "0                 Baby Care         Boreal plastic rectangular hair brush 633d  \n",
       "1                 Baby Care  Jacadi paris baby boy's striped casual blue shirt  \n",
       "2  Beauty and Personal Care  Rythmx fb nail polishes black lipsticks import...  \n",
       "3  Beauty and Personal Care       Anna andre paris majesty deodorant combo set  \n",
       "4                 Computers      Hp compaq presario cq43 6 cell laptop battery  "
      ]
     },
     "execution_count": 23,
     "metadata": {},
     "output_type": "execute_result"
    }
   ],
   "source": [
    "df.head()"
   ]
  },
  {
   "cell_type": "code",
   "execution_count": null,
   "id": "5c2624e2",
   "metadata": {},
   "outputs": [
    {
     "name": "stdout",
     "output_type": "stream",
     "text": [
      "* Running on local URL:  http://127.0.0.1:7860\n",
      "* To create a public link, set `share=True` in `launch()`.\n"
     ]
    },
    {
     "data": {
      "text/html": [
       "<div><iframe src=\"http://127.0.0.1:7860/\" width=\"100%\" height=\"500\" allow=\"autoplay; camera; microphone; clipboard-read; clipboard-write;\" frameborder=\"0\" allowfullscreen></iframe></div>"
      ],
      "text/plain": [
       "<IPython.core.display.HTML object>"
      ]
     },
     "metadata": {},
     "output_type": "display_data"
    },
    {
     "data": {
      "text/plain": []
     },
     "execution_count": 43,
     "metadata": {},
     "output_type": "execute_result"
    },
    {
     "name": "stdout",
     "output_type": "stream",
     "text": [
      "Created dataset file at: .gradio/flagged/dataset1.csv\n"
     ]
    }
   ],
   "source": [
    "gr.Interface(fn=dummy_label,\n",
    "             title=\"Image Classification\",\n",
    "             description=\"A simple image classification app.\",\n",
    "             theme=\"default\",\n",
    "             css=\"footer {display: none !important;}\",\n",
    "             inputs=gr.Image(type=\"pil\"),   \n",
    "             outputs=gr.Label(num_top_classes=3),\n",
    "             examples=[\"lion.jpg\", \"cheetah.jpg\"]).launch()"
   ]
  },
  {
   "cell_type": "code",
   "execution_count": 20,
   "id": "7040ed8d",
   "metadata": {},
   "outputs": [],
   "source": [
    "filenames = os.listdir(CLOUD_FOLDER / \"images\")"
   ]
  },
  {
   "cell_type": "code",
   "execution_count": 30,
   "id": "b14ec586",
   "metadata": {},
   "outputs": [],
   "source": [
    "filesrenamed = [df.loc[df['image']==filename, 'image_renamed'].values[0] for filename in filenames]"
   ]
  },
  {
   "cell_type": "code",
   "execution_count": null,
   "id": "3fa029a3",
   "metadata": {},
   "outputs": [
    {
     "data": {
      "text/plain": [
       "{'5c6b9db55291a68d99c4bb9a88266e27.jpg': PosixPath('/home/hedredo/github/oc_p9/frontend/images/5c6b9db55291a68d99c4bb9a88266e27.jpg'),\n",
       " '841b14271aa4c29f291f600c9556145c.jpg': PosixPath('/home/hedredo/github/oc_p9/frontend/images/841b14271aa4c29f291f600c9556145c.jpg'),\n",
       " '7e4c1d31e279a700c6b8e66d820e8601.jpg': PosixPath('/home/hedredo/github/oc_p9/frontend/images/7e4c1d31e279a700c6b8e66d820e8601.jpg'),\n",
       " '9a8fa4fd6524ada03411b033a9daadc1.jpg': PosixPath('/home/hedredo/github/oc_p9/frontend/images/9a8fa4fd6524ada03411b033a9daadc1.jpg'),\n",
       " '321f2ab0dd243778c87ac63ace6639f4.jpg': PosixPath('/home/hedredo/github/oc_p9/frontend/images/321f2ab0dd243778c87ac63ace6639f4.jpg'),\n",
       " '02127f52e96fb72c66bf081d25104ef8.jpg': PosixPath('/home/hedredo/github/oc_p9/frontend/images/02127f52e96fb72c66bf081d25104ef8.jpg'),\n",
       " '7ee2e665b7de2e1cc29e3c65bde0c318.jpg': PosixPath('/home/hedredo/github/oc_p9/frontend/images/7ee2e665b7de2e1cc29e3c65bde0c318.jpg'),\n",
       " '4b500e244f11a45f5171bd3665413044.jpg': PosixPath('/home/hedredo/github/oc_p9/frontend/images/4b500e244f11a45f5171bd3665413044.jpg'),\n",
       " 'be0e65c6d8c2cc8cb913b36aa4168cf0.jpg': PosixPath('/home/hedredo/github/oc_p9/frontend/images/be0e65c6d8c2cc8cb913b36aa4168cf0.jpg'),\n",
       " '8748b6cd9f03afc539f246c55e230502.jpg': PosixPath('/home/hedredo/github/oc_p9/frontend/images/8748b6cd9f03afc539f246c55e230502.jpg'),\n",
       " '5ea8ddb8a5104c5d47c708e8a351e701.jpg': PosixPath('/home/hedredo/github/oc_p9/frontend/images/5ea8ddb8a5104c5d47c708e8a351e701.jpg'),\n",
       " '6e44d107ee32412243b19b0ed9b415f3.jpg': PosixPath('/home/hedredo/github/oc_p9/frontend/images/6e44d107ee32412243b19b0ed9b415f3.jpg'),\n",
       " '5e84d36ad6db970548498829db8b15de.jpg': PosixPath('/home/hedredo/github/oc_p9/frontend/images/5e84d36ad6db970548498829db8b15de.jpg'),\n",
       " 'ee27bc4719ae58c5cb3f1dede61fcf54.jpg': PosixPath('/home/hedredo/github/oc_p9/frontend/images/ee27bc4719ae58c5cb3f1dede61fcf54.jpg')}"
      ]
     },
     "execution_count": 50,
     "metadata": {},
     "output_type": "execute_result"
    }
   ],
   "source": [
    "filename2path"
   ]
  },
  {
   "cell_type": "code",
   "execution_count": null,
   "id": "5b6e7cb6",
   "metadata": {},
   "outputs": [],
   "source": []
  },
  {
   "cell_type": "code",
   "execution_count": 51,
   "id": "429fb6c3",
   "metadata": {},
   "outputs": [],
   "source": [
    "filename2path = {filename: CLOUD_FOLDER / \"images\" / filename for filename in os.listdir(CLOUD_FOLDER / \"images\")}\n",
    "id2filename = {df.loc[df['image'] == filename, 'image_renamed'].values[0]: filename for filename in filenames}"
   ]
  },
  {
   "cell_type": "code",
   "execution_count": 52,
   "id": "2f3d9c8f",
   "metadata": {},
   "outputs": [
    {
     "data": {
      "text/plain": [
       "{'Edimax br6524n n300 wireless router': '5c6b9db55291a68d99c4bb9a88266e27.jpg',\n",
       " 'Home originals abstract, geometric double blanket multicolor': '841b14271aa4c29f291f600c9556145c.jpg',\n",
       " 'Kosher kadhai 5 l': '7e4c1d31e279a700c6b8e66d820e8601.jpg',\n",
       " 'Hp compaq presario cq43 6 cell laptop battery': '9a8fa4fd6524ada03411b033a9daadc1.jpg',\n",
       " 'Sonata 8098ym01 analog watch- for women': '321f2ab0dd243778c87ac63ace6639f4.jpg',\n",
       " 'Prithish believe in yourself double color ceramic mug': '02127f52e96fb72c66bf081d25104ef8.jpg',\n",
       " 'Mavi 237mbb showpiece-15 cm': '7ee2e665b7de2e1cc29e3c65bde0c318.jpg',\n",
       " \"Jacadi paris baby boy's striped casual blue shirt\": '4b500e244f11a45f5171bd3665413044.jpg',\n",
       " 'Lal haveli iron wall decorative musician showpiece-50.8 cm': 'be0e65c6d8c2cc8cb913b36aa4168cf0.jpg',\n",
       " 'Fastrack 9912pp09 tees analog watch- for men, women': '8748b6cd9f03afc539f246c55e230502.jpg',\n",
       " 'Boreal plastic rectangular hair brush 633d': '5ea8ddb8a5104c5d47c708e8a351e701.jpg',\n",
       " 'Anna andre paris majesty deodorant combo set': '6e44d107ee32412243b19b0ed9b415f3.jpg',\n",
       " 'Rythmx fb nail polishes black lipsticks important combo 51': '5e84d36ad6db970548498829db8b15de.jpg',\n",
       " 'Jaipur raga floral double quilts & comforters red': 'ee27bc4719ae58c5cb3f1dede61fcf54.jpg'}"
      ]
     },
     "execution_count": 52,
     "metadata": {},
     "output_type": "execute_result"
    }
   ],
   "source": [
    "id2filename"
   ]
  },
  {
   "cell_type": "code",
   "execution_count": null,
   "id": "395e11dc",
   "metadata": {},
   "outputs": [],
   "source": [
    "# Dictionnaire des fichiers d'exemple disponibles : id -> (chemin de l'image, chemin du masque)\n",
    "example_files: Dict[str, Tuple[Path, Path]] = { \n",
    "    id: get_mask_and_image(id) for id in ids\n",
    "}"
   ]
  },
  {
   "cell_type": "code",
   "execution_count": 53,
   "id": "95b42b69",
   "metadata": {},
   "outputs": [],
   "source": [
    "def load_image(name: str)-> Path:\n",
    "    \"\"\"\n",
    "    Load an image from the specified path.\n",
    "    \"\"\"\n",
    "    filename = id2filename.get(name)\n",
    "    filepath = filename2path.get(filename)\n",
    "    return Image.open(filepath)"
   ]
  },
  {
   "cell_type": "code",
   "execution_count": 54,
   "id": "42e2a9df",
   "metadata": {},
   "outputs": [
    {
     "name": "stdout",
     "output_type": "stream",
     "text": [
      "* Running on local URL:  http://127.0.0.1:7861\n",
      "* To create a public link, set `share=True` in `launch()`.\n"
     ]
    },
    {
     "data": {
      "text/html": [
       "<div><iframe src=\"http://127.0.0.1:7861/\" width=\"100%\" height=\"500\" allow=\"autoplay; camera; microphone; clipboard-read; clipboard-write;\" frameborder=\"0\" allowfullscreen></iframe></div>"
      ],
      "text/plain": [
       "<IPython.core.display.HTML object>"
      ]
     },
     "metadata": {},
     "output_type": "display_data"
    },
    {
     "data": {
      "text/plain": []
     },
     "execution_count": 54,
     "metadata": {},
     "output_type": "execute_result"
    }
   ],
   "source": [
    "# Gradio code pour l'interface utilisateur\n",
    "with gr.Blocks() as demo:\n",
    "    gr.Markdown(\"# Segmentation d'image pour véhicule autonome\")\n",
    "    with gr.Row():\n",
    "        dropdown = gr.Dropdown(\n",
    "            label=\"Choisissez un label dans la liste déroulante\",\n",
    "            choices=list(id2filename.keys()),  # Liste des labels\n",
    "            value=list(id2filename.keys())[0],  # Valeur par défaut\n",
    "        )\n",
    "    \n",
    "    with gr.Row():\n",
    "        image_input = gr.Image(value=list(filename2path.values())[0], type=\"filepath\", label=\"Image à segmenter\")\n",
    "        image_label = gr.Label(label=\"Image d'origine\")\n",
    "\n",
    "        # Charger l'exemple sélectionné\n",
    "        dropdown.change(fn=load_image, inputs=dropdown, outputs=image_input)\n",
    "\n",
    "    with gr.Row():\n",
    "            # Bouton pour lancer la segmentation\n",
    "            submit_btn = gr.Button(\"Segmenter\")\n",
    "            submit_btn.click(dummy_label, inputs=dropdown, outputs=[image_label])\n",
    "\n",
    "demo.launch()"
   ]
  }
 ],
 "metadata": {
  "kernelspec": {
   "display_name": ".venv",
   "language": "python",
   "name": "python3"
  },
  "language_info": {
   "codemirror_mode": {
    "name": "ipython",
    "version": 3
   },
   "file_extension": ".py",
   "mimetype": "text/x-python",
   "name": "python",
   "nbconvert_exporter": "python",
   "pygments_lexer": "ipython3",
   "version": "3.11.11"
  }
 },
 "nbformat": 4,
 "nbformat_minor": 5
}
