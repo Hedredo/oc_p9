{
 "cells": [
  {
   "cell_type": "code",
   "execution_count": 1,
   "id": "eb87fe8c",
   "metadata": {},
   "outputs": [],
   "source": [
    "import gradio as gr\n",
    "from constants import DATASET_PATH, IMAGE_FOLDER, CLOUD_FOLDER, API_URL\n",
    "import pandas as pd\n",
    "import os\n",
    "import glob\n",
    "from PIL import Image\n",
    "from pathlib import Path\n",
    "import base64\n",
    "from io import BytesIO\n",
    "import requests\n",
    "import json\n",
    "\n",
    "# plotly\n",
    "import plotly.express as px"
   ]
  },
  {
   "cell_type": "markdown",
   "id": "21a90c7b",
   "metadata": {},
   "source": [
    "# Préparation des images pour le frontend"
   ]
  },
  {
   "cell_type": "markdown",
   "id": "1bae7e45",
   "metadata": {},
   "source": [
    "Afin de reproduire les étapes nécessaires pour créer l'échantillon d'images pour le front-end, il faut reproduire les étapes suivantes.\n",
    "\n",
    "#### 1. Créer un échantillon d'images\n",
    "``` python\n",
    "df = pd.read_pickle(DATASET_PATH)\n",
    "df_sampled = pd.concat([df[df[\"class\"] == label].sample(2) for label in LABELS])\n",
    "print(df_sampled.shape)\n",
    "```\n",
    "\n",
    "#### 2. Déplacer les images dans le dossier approprié et renomager les images avec le nom du produit de manière plus lisible\n",
    "``` python\n",
    "import subprocess\n",
    "for i, row in df_sampled.iterrows():\n",
    "    image_renamed = row[\"product_name\"].replace(\"  \", \"\").strip().capitalize()\n",
    "    df_sampled.at[i, \"image_renamed\"] = image_renamed\n",
    "    subprocess.run(\n",
    "        [\"cp\", IMAGE_FOLDER / row[\"image\"], CLOUD_FOLDER / \"images\" / row[\"image\"]]\n",
    "    )\n",
    "```\n",
    "\n",
    "#### 3. Finalement, sauvegarder le df_sampled dans un csv\n",
    "``` python\n",
    "df_sampled.to_csv(\"sampled.csv\", index=False)\n",
    "```"
   ]
  },
  {
   "cell_type": "markdown",
   "id": "051b4156",
   "metadata": {},
   "source": [
    "# BLOCK DASHBOARD"
   ]
  },
  {
   "cell_type": "code",
   "execution_count": 2,
   "id": "f241bd3d",
   "metadata": {},
   "outputs": [
    {
     "name": "stderr",
     "output_type": "stream",
     "text": [
      "/home/hedredo/github/oc_p9/frontend/.venv/lib/python3.11/site-packages/PIL/Image.py:3442: DecompressionBombWarning: Image size (93680328 pixels) exceeds limit of 89478485 pixels, could be decompression bomb DOS attack.\n",
      "  warnings.warn(\n"
     ]
    }
   ],
   "source": [
    "df_dashboard = pd.read_pickle(DATASET_PATH)\n",
    "\n",
    "images_name_dashboard = os.listdir(IMAGE_FOLDER)\n",
    "images_path_dashboard = list(glob.glob(str(IMAGE_FOLDER / \"*.jpg\")))\n",
    "assert len(images_name_dashboard) == len(images_path_dashboard)\n",
    "len(images_path_dashboard)\n",
    "\n",
    "df_dashboard[\"size\"] = df_dashboard[\"image\"].apply(\n",
    "    lambda x: Image.open(IMAGE_FOLDER / x).size\n",
    ")\n",
    "df_dashboard[\"largeur\"] = df_dashboard[\"size\"].apply(lambda x: x[0])\n",
    "df_dashboard[\"hauteur\"] = df_dashboard[\"size\"].apply(lambda x: x[1])\n",
    "df_dashboard.drop(columns=[\"size\"], inplace=True)\n",
    "df_dashboard.rename(\n",
    "    columns={\n",
    "        \"product_name\": \"Nom du produit\",\n",
    "        \"image_renamed\": \"Nom du produit (renommé)\",\n",
    "        \"class\": \"Catégorie\",\n",
    "        \"image\": \"fichier\",\n",
    "    },\n",
    "    inplace=True,\n",
    ")"
   ]
  },
  {
   "cell_type": "code",
   "execution_count": 3,
   "id": "1255fefa",
   "metadata": {},
   "outputs": [
    {
     "data": {
      "application/vnd.plotly.v1+json": {
       "config": {
        "plotlyServerURL": "https://plot.ly"
       },
       "data": [
        {
         "customdata": [
          [
           "55b85ea15a1536d46b7190ad6fff8ce7.jpg"
          ],
          [
           "d4684dcdc759dd9cdf41504698d737d8.jpg"
          ],
          [
           "6325b6870c54cd47be6ebfbffa620ec7.jpg"
          ],
          [
           "b85f8843bb1c297dd5712f0bd287006d.jpg"
          ],
          [
           "a4b09aa7927c59fbb39960b3d7919909.jpg"
          ],
          [
           "81e739c7f3be737152f2e6f520e3494b.jpg"
          ],
          [
           "66191b4a311b5d9babfc00a71ef97c5b.jpg"
          ],
          [
           "a79117ea49a0533f641facdb4c99f502.jpg"
          ],
          [
           "707b160df4c4dece6cde52b222ce624b.jpg"
          ],
          [
           "f2658bad8c2b7d5b08984c6ac34267f7.jpg"
          ],
          [
           "0a8a1e9c6659361c0c2b247f8a6471d0.jpg"
          ],
          [
           "04f9ff160a1561e3656350f4bd6b8c50.jpg"
          ],
          [
           "dfbd96036cbc28566e964cff04b5b3a8.jpg"
          ],
          [
           "336fc49639a5cc45aa532ace3ee1a044.jpg"
          ],
          [
           "789cf5578f48577a44586fca3adc35d0.jpg"
          ],
          [
           "b515014adccb1fdf5ff1e2c4a8ff9ea6.jpg"
          ],
          [
           "5aacf8f5154afea2ac22fc767d072677.jpg"
          ],
          [
           "7cbbe686c4a233e8cf53528748f75223.jpg"
          ],
          [
           "16c18ce0affca13159e362227c83683c.jpg"
          ],
          [
           "db3e2eeb4fe90d4755f2911d661eae95.jpg"
          ],
          [
           "a66a68fbed935f90b62d5d29003267fc.jpg"
          ],
          [
           "26269fd0df12630eec4508c2cf3c94e1.jpg"
          ],
          [
           "2231a6fc63274c46043e353f1728f077.jpg"
          ],
          [
           "cc24426f00c1cf9ae0bf76e8bd23c336.jpg"
          ],
          [
           "f0d5e49c1a5aead18d5ff2e8f611de4e.jpg"
          ],
          [
           "e6b483fce5fd910afda67d97dc04e775.jpg"
          ],
          [
           "8ec6ee9814a27423e66c3c9ea26f77aa.jpg"
          ],
          [
           "050ea3acb555bf641e7ae9b4f3ba684a.jpg"
          ],
          [
           "994f1d8ade16b9fddce3c127eb7f38ed.jpg"
          ],
          [
           "bd14484c68d8a2992a6fecad36bd9f37.jpg"
          ],
          [
           "721c1b67f86176f741d43cae1d1c7e93.jpg"
          ],
          [
           "a0133654f3911e47f021da4e49d42926.jpg"
          ],
          [
           "62a1044ba64031b9e40f98a4fb890d9d.jpg"
          ],
          [
           "e0e261a0d4fd2ffdcbcad324e91a0dd4.jpg"
          ],
          [
           "73901494efea71869576898c68b5eee4.jpg"
          ],
          [
           "43f4a023dd92830ab5b26886c496f23e.jpg"
          ],
          [
           "f89ebd1d0889fbafa7c9453dbb0dfffd.jpg"
          ],
          [
           "90453db0386931707b256dfa1e32c404.jpg"
          ],
          [
           "bd2a71a635bf307de0056b74205918b7.jpg"
          ],
          [
           "70d571a25d37e16d5d5f4e94faccf454.jpg"
          ],
          [
           "dd9a5979c32bbdd836984529af862303.jpg"
          ],
          [
           "2bf0ca6d25501c067cd12a2a4939443f.jpg"
          ],
          [
           "ce9cb60201f1cdc33e4b58d3583c7a5c.jpg"
          ],
          [
           "10b6738d7058738a9a7d107bbb2833f4.jpg"
          ],
          [
           "59247d4024d85bfaf9e48368cba6d870.jpg"
          ],
          [
           "7d99ac27ad194bc62000c46779c42732.jpg"
          ],
          [
           "14bc693d9b86c58696e5917045e9d4de.jpg"
          ],
          [
           "3f9f12fa8fc6d7ebef136040f179a201.jpg"
          ],
          [
           "7915f1c0703450d4b1446c06066d9a59.jpg"
          ],
          [
           "595f508cdfbfa162d0fe7b97cc99ef42.jpg"
          ],
          [
           "ff24511994fc459d04145231c8876d6c.jpg"
          ],
          [
           "ce9207944cedeaa82e4ea6269586af2a.jpg"
          ],
          [
           "28401ff0dbc191d34c2f1103e78e082a.jpg"
          ],
          [
           "841b14271aa4c29f291f600c9556145c.jpg"
          ],
          [
           "6acca991d2353781779b866e4f96edd9.jpg"
          ],
          [
           "d68b774e9529a4b94a5c6c8943a1b8b3.jpg"
          ],
          [
           "83b7c331ebdd018bea7cecb6171eda96.jpg"
          ],
          [
           "a371cfcae8c6ec3b82ae37a83a8ae9b9.jpg"
          ],
          [
           "b33d82c619bf88c3e3bb8f53beab0c4b.jpg"
          ],
          [
           "5cd3d274d71e1e0d6bf075421461b2d5.jpg"
          ],
          [
           "52a8d66e466da645e413d2cecc294bd9.jpg"
          ],
          [
           "7091af252a785131c5a124fb90705fda.jpg"
          ],
          [
           "7c785e9e26092c0b6ed038085e90d89d.jpg"
          ],
          [
           "00cbbc837d340fa163d11e169fbdb952.jpg"
          ],
          [
           "cc2acb156df3202f172b280132ab459a.jpg"
          ],
          [
           "ed1a2a831475966a779524ba67ae2ac7.jpg"
          ],
          [
           "037c2402fee39fbc80433935711d1383.jpg"
          ],
          [
           "b2e4a7feb6bbca9cca2c0c1e18acbcfc.jpg"
          ],
          [
           "a18d4ddb1a1c3463d6719e526573c4ba.jpg"
          ],
          [
           "a5e1b49a1ddf038888e6de3523b475fb.jpg"
          ],
          [
           "83cef279f0ea5d772523d0d8b2923fbe.jpg"
          ],
          [
           "998a39dca0ef610c3a0ea4e9cc6e1681.jpg"
          ],
          [
           "08e8af585235d7403ca2b7b56a51a6d4.jpg"
          ],
          [
           "8872dd7ca802f56c1c3ee07e22e84cfd.jpg"
          ],
          [
           "8ed6faebe087745cc1a3ed5aec2a57cf.jpg"
          ],
          [
           "49852d7f69839e0b1006adc55d56938a.jpg"
          ],
          [
           "5188dd28a627807407d93549580afb74.jpg"
          ],
          [
           "285075cfac3036e8d51591dfe5ba24ab.jpg"
          ],
          [
           "ffc2e1fc7c886ec09a331040ada038aa.jpg"
          ],
          [
           "39242e5488cf65d8d59eccb2b80e4a65.jpg"
          ],
          [
           "414d2065e1aed847064bcf14538eabc8.jpg"
          ],
          [
           "fc59187b2e011cf098ce420a0ee02e10.jpg"
          ],
          [
           "7436c011ebdfd24b56a77893f210ed3b.jpg"
          ],
          [
           "dcab5c08ed8e6c2fa039e01367390071.jpg"
          ],
          [
           "ca82e1f23bb6cac66a32fce1c22534a3.jpg"
          ],
          [
           "0ec47240feda42c63e42f1e9cee60f7a.jpg"
          ],
          [
           "ad55b7ac6f7284b90d31a1a2f175df8d.jpg"
          ],
          [
           "112a8a56ee40ee31ea06fb7ff23b5c25.jpg"
          ],
          [
           "4f6006b716c6546033fbaf9ff32de577.jpg"
          ],
          [
           "d218c32df572e82db50faecd62179db2.jpg"
          ],
          [
           "9e81a24714e06b0ca9b4fed8cae42611.jpg"
          ],
          [
           "736191946aaeaa637a0865a42c18b580.jpg"
          ],
          [
           "7b1dd192151777c246a1c4e1fe0ddb4c.jpg"
          ],
          [
           "159b45e4dede207f28319bf1cacee3bc.jpg"
          ],
          [
           "da8017c195b3bfa4ef002968a3542707.jpg"
          ],
          [
           "e56ffc10078972b5f4e7302383db8d72.jpg"
          ],
          [
           "f3dec6a97225941bf9c3213e73943bd3.jpg"
          ],
          [
           "c943647eee4de99fc1b4e233b9a7f47d.jpg"
          ],
          [
           "dc777afc918f513a7253187e00a11948.jpg"
          ],
          [
           "fc976caafdebbab15560dad48bc6ff0f.jpg"
          ],
          [
           "fc3eb6ffed257270c26943e9f9c347b9.jpg"
          ],
          [
           "b6c4cb6a29dcbaf7fa958f04c8215547.jpg"
          ],
          [
           "a6c820b76bc29bbe2d85eecad3de03f8.jpg"
          ],
          [
           "d395b2f3d13ff8897f403c6141e0e39a.jpg"
          ],
          [
           "a30aa3b765b613c158fd3a295ed934fa.jpg"
          ],
          [
           "ee27bc4719ae58c5cb3f1dede61fcf54.jpg"
          ],
          [
           "f0bc8dff0e2ef0b75f1c78b4f67bcd63.jpg"
          ],
          [
           "72db37ec42ee76d79cf395221e0f4cce.jpg"
          ],
          [
           "463492671c5c19316a0fb9fe1c53da48.jpg"
          ],
          [
           "6858fd9265d348803b18667fe43cd054.jpg"
          ],
          [
           "526cb1e7675adb39a1ea68f1f2a3fd59.jpg"
          ],
          [
           "3ddd2f062730c2aea8bb8843d5a96125.jpg"
          ],
          [
           "597a9549a3e397d52dca62ee47b1f60a.jpg"
          ],
          [
           "2eb07dc77e2fc7e3668fd7ed9b864039.jpg"
          ],
          [
           "e1e2883b6845cb214ec8d365cd496008.jpg"
          ],
          [
           "f54d0c5cbd8e2270742293edf9075cb1.jpg"
          ],
          [
           "e87bad0de3447c9ac3a8555e89545c75.jpg"
          ],
          [
           "62e36e018c9ee4b282cf674e84054df8.jpg"
          ],
          [
           "fb42fce44e11f4dab8de99f8488281f8.jpg"
          ],
          [
           "3f9c4d0e8c3bca9c870e41f5098f90d6.jpg"
          ],
          [
           "60395c709b4a933319e2713e3ae620d4.jpg"
          ],
          [
           "cf1be83386eb96b2ab9598944ebca6fc.jpg"
          ],
          [
           "43da6e88dcb61e027ea9112cfab158ee.jpg"
          ],
          [
           "b7e42b52534c5e49eb03817d754c2153.jpg"
          ],
          [
           "c12fd368ff03f5224b92771824cafb9c.jpg"
          ],
          [
           "283e2c4d728bdb193834d876ec27e6dd.jpg"
          ],
          [
           "8026dc3e27e8e318cc7431a723f7ebc1.jpg"
          ],
          [
           "f41761a931135c6c043c7e04abda41b0.jpg"
          ],
          [
           "cd71b07a1d37a5e2cc04240e8498cc76.jpg"
          ],
          [
           "5be86e35f21b1514d0e7742893d6cfba.jpg"
          ],
          [
           "13596c5cc53a74268613e5c0b7d46b60.jpg"
          ],
          [
           "bba68d75eff1b7b5eef7f6c1c68f2227.jpg"
          ],
          [
           "2476ae5a5e045876aa08f5919cb3b91b.jpg"
          ],
          [
           "f622e6c12de2c6534c94635f671af107.jpg"
          ],
          [
           "9c41f67773da27940d77460715e880be.jpg"
          ],
          [
           "cf6a4daf0e795838061b0eb832bbc99d.jpg"
          ],
          [
           "8ff973688c976a08fc7242da37101417.jpg"
          ],
          [
           "bcb51cec3d290e6a661586d0df30e091.jpg"
          ],
          [
           "06b8da0c6a24b91c8020f8b1c78d04c3.jpg"
          ],
          [
           "b3e5f93856cce162850713bb8edce52a.jpg"
          ],
          [
           "c4ac93e194281d6d1450ffdaa52f5f99.jpg"
          ],
          [
           "bc6b11881b783f275edd051431e531a8.jpg"
          ],
          [
           "4748b7ea0e01cffa561f1a7a7a432813.jpg"
          ],
          [
           "6eaa9bd9e9285d77891bb76d30e6ebe7.jpg"
          ],
          [
           "7ec5ac2dea80b6c5e4cfd20eba597d20.jpg"
          ],
          [
           "3f97735a6c61a3587cefceaef36c280c.jpg"
          ],
          [
           "362714cbba2f5ae412d2f26bae99a266.jpg"
          ],
          [
           "90906358dac904c4f05c12c798ac5221.jpg"
          ],
          [
           "ace154420a51fad090b3543995630051.jpg"
          ],
          [
           "678ebb5f6057dcc51948253c1b39b0b8.jpg"
          ]
         ],
         "hovertemplate": "<b>%{hovertext}</b><br><br>Catégorie=Home Furnishing<br>largeur=%{x}<br>hauteur=%{y}<br>fichier=%{customdata[0]}<extra></extra>",
         "hovertext": [
          "Elegance Polyester Multicolor Abstract Eyelet Door Curtain",
          "SANTOSH ROYAL FASHION Cotton Printed King sized Double Bedsheet",
          "Jaipur Print Cotton Floral King sized Double Bedsheet",
          "SANTOSH ROYAL FASHION Cotton Embroidered Diwan Set",
          "House This Queen Cotton Duvet Cover",
          "Riva Carpets Cotton Free Bath Mat Classic Loop Shag Bathmat_RI-527",
          "JMD Printed Cushions Cover",
          "Kripa's Printed Cushions Cover",
          "Prime Printed 4 Seater Table Cover",
          "Prime Printed 8 Seater Table Cover",
          "Jaipur Print Cotton Floral Diwan Set",
          "Craft Trade Oval Wood Coaster Set",
          "Rama Floral Single Quilts & Comforters Pink-Red",
          "Rama Floral Single Quilts & Comforters Yellow",
          "Shop Rajasthan Abstract Single Dohar Multicolor",
          "Artisan Creation Checkered Single Quilts & Comforters Brown",
          "Rama Floral Single Quilts & Comforters Blue-Beige",
          "Remtex Export Cartoon Single Dohar Multicolor",
          "Quilt India Floral Cushions Cover",
          "Bhavya Velvet Sofa Cover",
          "Dreamshomes Velvet Sofa Cover",
          "JewelKraft Designs Brown, Pink Table Linen Set",
          "Tidy Printed Cushions Cover",
          "JBC Collection Cotton Printed Single Bedsheet",
          "Lushomes Plain Back Cushion",
          "Bed & Bath Cotton Floral Double Bedsheet",
          "Scalabedding Cotton Striped King sized Double Bedsheet",
          "SRP Linen Cotton Plain King sized Double Bedsheet",
          "Amit Carpet Polyester Medium Door Mat ACI20160340",
          "Cotonex Black, White Cotton Kitchen Linen Set",
          "Cotonex Blue, White Cotton Kitchen Linen Set",
          "Cotonex Yellow, Green Cotton Kitchen Linen Set",
          "Furnishing Zone Printed Back Cushion",
          "Ally The Creations Printed Cushions Cover",
          "Ville Style Polyester Maroon Floral Eyelet Door Curtain",
          "HomeeHub Polyester Multicolor Self Design Eyelet Window Curtain",
          "Home Creations Polyester Blue Floral Eyelet Door Curtain",
          "Handloomhub Polyester Pink Self Design Eyelet Door Curtain",
          "Fabutex Polyester Black, White Abstract Eyelet Window & Door Curtain",
          "Hargunz Polyester Brown, White Motif Eyelet Long Door Curtain",
          "Galaxy Decorations Polyester Royalblue Plain Eyelet Door Curtain",
          "Home Fashion Gallery Polyester Black Plain Eyelet Door Curtain",
          "Handloomhub Polyester Baby Pink Self Design Eyelet Long Door Curtain",
          "HouseAttire Abstract Cushions Cover",
          "Moonleaf Geometric Cushions Cover",
          "Vgstore Rectangular Pack of 6 Table Placemat",
          "Sapatos Plain Single Duvet White",
          "Sapatos Plain Single Dohar Fushia",
          "Home Originals Abstract, Abstract Double Blanket Multicolor",
          "RajasthaniKart Floral Double Quilts & Comforters Multicolor",
          "Home Originals Polka, Abstract Double Blanket Multicolor",
          "Indigocart Plain Double Dohar Grey",
          "Frabjous Floral Single Quilts & Comforters Multicolor",
          "Home Originals Abstract, Geometric Double Blanket Multicolor",
          "Home Originals Abstract, Checkered Double Blanket Multicolor",
          "Pioneer Pragati Floral Single Duvet Orange",
          "Home Originals Geometric, Striped Double Blanket Multicolor",
          "Sapatos Plain Single Duvet Blue",
          "Home Originals Abstract Double Quilts & Comforters Multicolor",
          "Sapatos Geometric Single Duvet Purple & Pink",
          "SPANGLE Floral King Blanket CC0070001",
          "Sapatos Plain Single Duvet Red",
          "House This Yellow 150 cm Table Runner",
          "Flazee Home Trends Beige 144.78 cm Table Runner",
          "Dhrohar Red 72 cm Table Runner",
          "Tidy Green Cotton Kitchen Linen Set",
          "eCraftIndia Floral Cushions Cover",
          "Rajasthan Crafts Abstract Single Quilts & Comforters Maroon",
          "Rajasthan Crafts Abstract Single Quilts & Comforters Multicolor",
          "Rajasthan Crafts Abstract Single Quilts & Comforters Pink",
          "Rajasthan Crafts Abstract Single Quilts & Comforters Green",
          "Tuktuk Abstract Single Dohar Black",
          "Onlinemaniya Abstract Single Quilts & Comforters Multicolor",
          "Buy Clues Abstract Single Quilts & Comforters Gold",
          "Rajlaxmi Checkered Single Quilts & Comforters Multicolor",
          "Bajya Abstract Single Quilts & Comforters MultiColour",
          "Rajrang Animal Cushions Cover",
          "Raymond Abstract Double Blanket Pink",
          "Raymond Abstract Double Blanket Grey",
          "Raymond Abstract Double Blanket Green",
          "Raymond Abstract Double Blanket Blue",
          "Raymond Abstract Double Blanket Red",
          "Raymond Abstract Single Blanket Orange",
          "Raymond Abstract Single Blanket Purple",
          "Raymond Abstract Single Blanket Brown",
          "SWHF Cotton Maroon Striped Eyelet Window & Door Curtain",
          "meSleep Abstract Cushions Cover",
          "meSleep Animal Cushions Cover",
          "Jums Cotton Bath Towel",
          "Homec Geometric Cushions Cover",
          "Bianca Cotton Face Towel Set",
          "Zikrak Exim Floral Cushions Cover",
          "Trident Cotton Set of Towels",
          "MSenterprises Floral Cushions Cover",
          "Mafatlal Cotton Bath Towel",
          "Nikunj Abstract Cushions Cover",
          "Textile India Paisley Double Quilts & Comforters Green",
          "Nkp Cotton Bath Towel",
          "Woven Terry Cotton Bath Towel",
          "Casa Copenhagen Set of Towels",
          "Maspar Cotton Set of Towels",
          "Sassoon Cotton Bath Towel",
          "Mandhania Cotton Bath Towel",
          "Amber Cotton Set of Towels",
          "Bagru Crafts Cotton Set of Towels",
          "Jaipur Raga Floral Double Quilts & Comforters Red",
          "Trident Cotton Face Towel",
          "IWS Cotton Bath Towel",
          "LukLuck Cotton Bath Towel",
          "MB Cotton Set of Towels",
          "Durga Home Trendz Cotton Hand Towel",
          "Right Abstract Cushions Cover",
          "Just Linen Cotton Bath Towel",
          "Rustic India Geometric Cushions Cover",
          "NKP Cotton Hand Towel",
          "The Intellect Bazaar Abstract Double Dohar Blue, Brown",
          "Baby Bucket Cartoon Single Blanket blue",
          "Valtellina Plain Single Top Sheet White",
          "Nagar Handloom Floral Double Quilts & Comforters Multicolor",
          "Valtellina Checkered Double Blanket Brown",
          "Jaipur Textile Hub Floral Double Quilts & Comforters Green",
          "Valtellina Abstract Double Blanket Brown",
          "Aurraa Printed Single Quilts & Comforters Green",
          "Welhouse Geometric Double Blanket Grey",
          "The Intellect Bazaar Geometric Single Blanket Gold",
          "The Art Box Floral Single Dohar Multicolor",
          "Unnati Floral Double Blanket Multicolor",
          "Welhouse Geometric Double Blanket Black",
          "eCraftIndia Floral Single Quilts & Comforters Multicolor",
          "Unnati Abstract Single Top Sheet Multicolor",
          "Craft And Curtain Multicolor 178 cm Table Runner",
          "The Intellect Bazaar Plain King Blanket Grey",
          "M S Rugs Pink, Blue Wool Dhurrie",
          "GIMS Brown Viscose Carpet",
          "Cotonex Beige Cotton Kitchen Linen Set",
          "FURNISHINGLAND Green Silk Carpet",
          "FURNISHINGLAND Black Polyester Carpet",
          "loomkart Blue Polyester Runner",
          "FURNISHINGLAND Maroon Silk Carpet",
          "Swastik Velvet Sofa Cover",
          "Shop Rajasthan Cotton Floral Single Bedsheet",
          "Balaji Velvet Sofa Cover",
          "Aroma Comfort Polyester Cream Self Design Eyelet Window Curtain",
          "Aroma Comfort Polyester Blue Floral Eyelet Long Door Curtain",
          "Aroma Comfort Polyester Brown Floral Eyelet Long Door Curtain",
          "Aroma Comfort Polyester Green Self Design Eyelet Door Curtain",
          "Aroma Comfort Polyester Brown Self Design Eyelet Long Door Curtain",
          "Aroma Comfort Polyester Brown Printed Eyelet Window Curtain",
          "Aroma Comfort Polyester Dark Blue Plain Eyelet Window Curtain",
          "Aroma Comfort Polyester Brown Self Design Eyelet Door Curtain"
         ],
         "legendgroup": "Home Furnishing",
         "marker": {
          "color": "rgb(136, 204, 238)",
          "line": {
           "color": "DarkSlateGrey",
           "width": 2
          },
          "size": 12,
          "symbol": "circle"
         },
         "mode": "markers",
         "name": "Home Furnishing",
         "showlegend": true,
         "type": "scattergl",
         "x": {
          "bdata": "EA5MBG4KTARMBEwEAAXcBVIFtAVREfsC+wdcB2gQuQRECEwEUARMBEUW9AIQBzwDiAZYB0wETAR1D0wETARMBEwErAPxAkwETARqBv8EUgOWAykHrwbnCqAUTAQjEBgQ0wNMBNMDGxRMBNMD0wNMBNMDGBDiBHgFQBR4BagDQwW2BfEDcARgCXAJOAnQCAgH6APBA2ULTATyA0wETARMBEwEnQT/BEwETAToA0wETAQiDQcETASgCHgBTARMBEwETAQDBIANIQKwAngENAksEEwETAROEFQD/gqcAogCMgVMBJIHTAQvA5kFvwlMBAAETARQC2gGoQlMBEwETATQCtAHTARYE0wE8QRMBEwEIBDYDkwEKRDfFnMRrApFBDIETARFBOQOrAPkDkUE",
          "dtype": "i2"
         },
         "xaxis": "x",
         "y": {
          "bdata": "EA4/AygITARQA54D4AStAkcFLgWXCUwErwVkBhoLiQVaBpkDWgSSA1sJTAQYBUwE0AUjBlcD4QKYCjcDZgOhAygCTARMBN0EKQMjCBgD4wNMBBkIHwc7C6gJAATWDNsMTATkAkwE4wVMBEwETAR9A0wE2wywBOgDgA3oA0ABRgHnA2UCkQK4B+AIUAhyCKgEmwKlAicJSQNMBIEDrwNwA4wDoQMPBGgDfQNMBDkEMAQGCEwE3AXQBsABZQO0AuMC4wFMBAAJEAKoAuwI5g24C90CJgQ8CEwEsAZ4AUwEfgVHA54HGgNMBIIFdAbkAqgCyQJoB5AEDwf4A6oCTATaBtAHTARwBBwDkgdzAm8DaAd4CHICzQbLDEcQigeMBEwERQSMBOQOTATkDowE",
          "dtype": "i2"
         },
         "yaxis": "y"
        },
        {
         "customdata": [
          [
           "7b72c92c2f6c40268628ec5f14c6d590.jpg"
          ],
          [
           "64d5d4a258243731dc7bbb1eef49ad74.jpg"
          ],
          [
           "90e56526f4c5892beac49f262b85150a.jpg"
          ],
          [
           "5325213d84c80ad310b6e4b37a1ac824.jpg"
          ],
          [
           "f4e7f269319ba9cf5507a9e2febacbf5.jpg"
          ],
          [
           "903d63e2b71d692ccd628e1de516516e.jpg"
          ],
          [
           "141d2b743c477043041faddf9233c8ad.jpg"
          ],
          [
           "7a3f11f380a1bf85338ab3771ff81e9f.jpg"
          ],
          [
           "ae45b64d808a883aa35f2bf4de879cac.jpg"
          ],
          [
           "320833ab08c9a94ef83520612899a85f.jpg"
          ],
          [
           "601817defaff9d0e30e1b72f96d3975f.jpg"
          ],
          [
           "3cdfd9df09f61a8fd178bafcc8dbed31.jpg"
          ],
          [
           "184ecf07ca4e2872eaf53d2344a1e783.jpg"
          ],
          [
           "f1ee63a5f0db853e2c1b377778580d39.jpg"
          ],
          [
           "8015db34d09642b046c775e8157dd729.jpg"
          ],
          [
           "bc784846bd59a16832454416ac708003.jpg"
          ],
          [
           "be09f5a3a88ac10ae14c791fc8ac0dae.jpg"
          ],
          [
           "7dd5e83e2108a97659577e50879f9d9f.jpg"
          ],
          [
           "70578f48cc96bbb60d040e08025e521d.jpg"
          ],
          [
           "32cf0691248297655e2c1728b12e2262.jpg"
          ],
          [
           "719677b02bfccafb86e9be78f36f938b.jpg"
          ],
          [
           "a8ea6fc2b3cd95f46bced80853ce8e0e.jpg"
          ],
          [
           "7f7c64d439d64656d6baa40f5798cdf5.jpg"
          ],
          [
           "8876d7569efdaff5a21b33a1ab44a13d.jpg"
          ],
          [
           "7c15895bbfd7da97c219be5b28150a06.jpg"
          ],
          [
           "c2efa8aa11898bdb5fc4e46201973a42.jpg"
          ],
          [
           "688bb32bf0d9b6e350d2c0912a3b7c9f.jpg"
          ],
          [
           "6ed34e1ab886e8a702ec59dd66ba4dff.jpg"
          ],
          [
           "70461caa9038cfa34d109ea056d57f5a.jpg"
          ],
          [
           "dd5d6f0649f40d49791bbd5c00758e2f.jpg"
          ],
          [
           "ee78c1e94bdc217d1d0eaef5c567417a.jpg"
          ],
          [
           "b90046b67cafcedfd363afba5fafc1c7.jpg"
          ],
          [
           "c6f4475e2385cc16ce83f21f975614b3.jpg"
          ],
          [
           "750f964cf8e6a16412aaf2b0d0350d0a.jpg"
          ],
          [
           "49f7763dc9c7ece284a1ae27166f8c6c.jpg"
          ],
          [
           "95feec21a9d076cff084159d61bf9b8e.jpg"
          ],
          [
           "8c62cbbd23958ae380fea906f6b5a994.jpg"
          ],
          [
           "c063d07d78a55a21bf6c0e7c8ae46a6d.jpg"
          ],
          [
           "da2ce8d17a17f9d19b368434aedea5e9.jpg"
          ],
          [
           "3bc98543c7dd0d8fce5b8185b4a58c43.jpg"
          ],
          [
           "0bff0eda7a6677dc1acb0477a1f7a121.jpg"
          ],
          [
           "948699ab8c947ce56c256f9cf7996761.jpg"
          ],
          [
           "25ce025c38c55f28fd0ea3bb0200df79.jpg"
          ],
          [
           "9ec6285cc619688d787d641cb87c10d6.jpg"
          ],
          [
           "87f256eeace1a0c2b1f934f061646da5.jpg"
          ],
          [
           "30ab693b54e99a469a1152b5db14aa40.jpg"
          ],
          [
           "84b2e623a4a4327b88f7fe197a09be31.jpg"
          ],
          [
           "44218245b37581c534038cc27d081093.jpg"
          ],
          [
           "4e03d4e81e6a876f512536f6a57c053e.jpg"
          ],
          [
           "5ea8ddb8a5104c5d47c708e8a351e701.jpg"
          ],
          [
           "99b5905a1079edc2744b06a4049719e0.jpg"
          ],
          [
           "6e812fbc03331ab363789b0f2d6b3ff2.jpg"
          ],
          [
           "aa41433dfba2c7561fa30be3fed1e8f0.jpg"
          ],
          [
           "4e5ebfc871992e7e22365c0c036a1b89.jpg"
          ],
          [
           "8a184fe2c82ba6a17fbe07f94d0dd875.jpg"
          ],
          [
           "46ca672fdfff8a1b3641642a9795344a.jpg"
          ],
          [
           "672d1c3272eae4586eb5994fe408c12a.jpg"
          ],
          [
           "0991e8d8f884003ab18890971191085d.jpg"
          ],
          [
           "e10cbc680042d27fb747db2ac8e7a585.jpg"
          ],
          [
           "9d3ca83f7017d6e9e129964e88503ff0.jpg"
          ],
          [
           "d774c05556d3de1f991d1a46e204a0ad.jpg"
          ],
          [
           "e40e9b4ae48e452dc407d299b467d0c3.jpg"
          ],
          [
           "96bc1fbb83ad5a2c0441d132fe8bcf97.jpg"
          ],
          [
           "a51b2c34b3d5a6e5d0591ee6e0b4d335.jpg"
          ],
          [
           "32da1bbf4f523bc8a8735701ce4b7726.jpg"
          ],
          [
           "e3ae62ed831fd8b4c20e1742c30d35b5.jpg"
          ],
          [
           "a378736c1510a13966b42c2d6462f526.jpg"
          ],
          [
           "dc0b5ef48b4c132d0651613a9c1e8e40.jpg"
          ],
          [
           "6d460d2e12ff7c84cb6b9af783d465ae.jpg"
          ],
          [
           "eaed0897074ee52230ff6c6d73c18dd4.jpg"
          ],
          [
           "4d638f7a608a76db27cd7bab13582a93.jpg"
          ],
          [
           "68b32e026c109c1bae017d024dd8f590.jpg"
          ],
          [
           "31376e77d4621c06a45440d42b9fe2ac.jpg"
          ],
          [
           "f79ad10ae634dcfdab6625790d5c5d54.jpg"
          ],
          [
           "3dfd14b667357e26ff6d66761cdc203f.jpg"
          ],
          [
           "9656b0a52d364da5eed38a4bb2d9f6e5.jpg"
          ],
          [
           "705b90361aeda1849a728d80625a78a9.jpg"
          ],
          [
           "e1d8c5b60f9157f8e21c77cf795952f2.jpg"
          ],
          [
           "f79c9db3abd7faca714c92aeba9b6728.jpg"
          ],
          [
           "260c74b5a09272dec1a8207db3541a0d.jpg"
          ],
          [
           "51b6809d527ea36798bddc2bb8557bc2.jpg"
          ],
          [
           "c9c4720bca91b8ce27d8190a7c4c139c.jpg"
          ],
          [
           "d6a50203fad654981605a70a7bde52b7.jpg"
          ],
          [
           "f9a8320c182841024f47ebcba284085a.jpg"
          ],
          [
           "5eec66ec172ce096cd4e5c947686b56a.jpg"
          ],
          [
           "d0fee79693c7dc3132d30491323b6407.jpg"
          ],
          [
           "d06bb04b096c77dc3302eaf2db336f96.jpg"
          ],
          [
           "6eabdbbbffdfae86c3c5177ba0f96ea7.jpg"
          ],
          [
           "7f6678a6217c831b716feca796f689fd.jpg"
          ],
          [
           "22ac36ba254a68d7dd6173f099771147.jpg"
          ],
          [
           "fd10586bf7f01bc57e0c5364d4b2c3f7.jpg"
          ],
          [
           "dbca6ab4ebf827884073e2890388b744.jpg"
          ],
          [
           "227fc5c4fca14c424ff33e40941d22fa.jpg"
          ],
          [
           "3dfdf277bccb74532c0387adfed2897d.jpg"
          ],
          [
           "eda00df2c5e1d006a8608e881bfcf300.jpg"
          ],
          [
           "2bf95e5f8c4d7d0126de92e476d4fc8b.jpg"
          ],
          [
           "63523a600ab69f276664d0eade9d076e.jpg"
          ],
          [
           "42643c1c9403f67921a18654bcf45ead.jpg"
          ],
          [
           "8818424349b75a67775353d1feef2635.jpg"
          ],
          [
           "109e235d4838002246599f987d935c21.jpg"
          ],
          [
           "093bcad64d11c0aed903a8dd787ef069.jpg"
          ],
          [
           "93618b8a998782d4d847ee5cba5c7de2.jpg"
          ],
          [
           "c1e9b5875e442203073211c522072973.jpg"
          ],
          [
           "9a0413117aa91c668ba5944770347cc5.jpg"
          ],
          [
           "fb435889d257c924c7bf77396a555e04.jpg"
          ],
          [
           "29d7a1b4d4f658fc3082905f65e1b009.jpg"
          ],
          [
           "389197b67a189c703f3deb9ca6f1f678.jpg"
          ],
          [
           "fda0890dba67c93a7c80b0993651caec.jpg"
          ],
          [
           "9e90fb6c7870637b6f794e4b4c26bd7e.jpg"
          ],
          [
           "8f41c6931b5220c2bb34d1cab21cb220.jpg"
          ],
          [
           "2c8912b849cf73676d025aa99203b6d1.jpg"
          ],
          [
           "7bbcbd91b8865a9f7b254760e5e2e10a.jpg"
          ],
          [
           "b454f9f449c9dff58b90113ba984ea98.jpg"
          ],
          [
           "a541b3aba326d7749b4c086c3cea9273.jpg"
          ],
          [
           "480d24adbc304a52a4e01e45bf8bbccc.jpg"
          ],
          [
           "a445d1f73be8f81dd902fd5dc8529416.jpg"
          ],
          [
           "3aaa50eb5d2cf4c18b57346423871624.jpg"
          ],
          [
           "23b0bdd337f7d1b4b70ad13726a122ab.jpg"
          ],
          [
           "762b6b22cccf91935e92446efe298fe3.jpg"
          ],
          [
           "f7514f6068377bcaed80043a5e321131.jpg"
          ],
          [
           "d627a270302d23eef773d05ad01fd03c.jpg"
          ],
          [
           "634c89325a6c7752985a74a67f985c1f.jpg"
          ],
          [
           "3e2b2a04696f7d83a7835e9894d79df7.jpg"
          ],
          [
           "0906fd9cc604fbba05a502e01d763cd9.jpg"
          ],
          [
           "729864e0d25e06cbf68561529bcdd4f0.jpg"
          ],
          [
           "4b500e244f11a45f5171bd3665413044.jpg"
          ],
          [
           "967d91e162afb44a67c0281f71766e4d.jpg"
          ],
          [
           "c44a5dc5b5ebe5b3e0535b7c2b7921e4.jpg"
          ],
          [
           "27b7851ae3dfc2ae8c1958cebe93bf0b.jpg"
          ],
          [
           "86089ddd9f9e52127ce838f210f776d7.jpg"
          ],
          [
           "bdcc7e18ffed5390cd3107030992ffa6.jpg"
          ],
          [
           "b58309ed929c2bf7d6096c03667b654f.jpg"
          ],
          [
           "e347e7eca70e01badc3bdf6c154ac7c4.jpg"
          ],
          [
           "fe05e9ff9e31a310c35626ab6f2b4fe2.jpg"
          ],
          [
           "873a955df5a2f677a41a7efc94060e41.jpg"
          ],
          [
           "31ac1b66cc6bb396c83f124317589f8c.jpg"
          ],
          [
           "6325bf868b9040a0599f257aba42e9e0.jpg"
          ],
          [
           "9ff54c12cc7ffd7c1a6724477b8fea2f.jpg"
          ],
          [
           "11f06dffebf7edf9e15351834a190c2c.jpg"
          ],
          [
           "721d6fc10f52e76007c3c0405cf967c5.jpg"
          ],
          [
           "3b465b02720ef7c930cb2e065a8fc05d.jpg"
          ],
          [
           "b1644f47c7dfa58f8c06677f2a27ee09.jpg"
          ],
          [
           "057836ecde71565f8ebdd576e41fdc96.jpg"
          ],
          [
           "38782cce965307ddcdbedfcb7fa409c3.jpg"
          ],
          [
           "be0f39341d771aac57084970f1ed6425.jpg"
          ],
          [
           "958f54f4c46b53c8a0a9b8167d9140bc.jpg"
          ],
          [
           "fd6cbcc22efb6b761bd564c28928483c.jpg"
          ],
          [
           "5912e037d12774bb73a2048f35a00009.jpg"
          ],
          [
           "c3edc504d1b4f0ba6224fa53a43a7ad6.jpg"
          ],
          [
           "f2f027ad6a6df617c9f125173da71e44.jpg"
          ]
         ],
         "hovertemplate": "<b>%{hovertext}</b><br><br>Catégorie=Baby Care<br>largeur=%{x}<br>hauteur=%{y}<br>fichier=%{customdata[0]}<extra></extra>",
         "hovertext": [
          "Sathiyas Cotton Bath Towel",
          "Eurospa Cotton Terry Face Towel Set",
          "Mom and Kid Baby Girl's Printed Green Top & Pyjama Set",
          "Mom and Kid Baby Girl's Printed Blue, Grey Top & Pyjama Set",
          "KOHL Wine Bag Yellow",
          "CHHOTE JANAB COZY MATTRESS PROTECTOR(SET OF 2)",
          "Vitamins Solid Baby Girl's Basic Shorts",
          "Vitamins Graphic Print Baby Girl's Basic Shorts",
          "Vitamins Embroidered Baby Girl's Denim Shorts",
          "florence9 baby cap red checks Cap",
          "CHINMAY KIDS Printed Cotton Padded Mosquito Net",
          "HEAVENLY Dress Baby Boy's  Combo",
          "Bestway 1.47m x 1.47m x 1.22m/Play With Sun Shade Inflatable Play Pool",
          "TWISHA Printed Kurti & Salwar",
          "FS Mini Klub Baby Boy's Sleepsuit",
          "Lollipop Lane Tiddly Wink Safari Bath Set",
          "Anthill Baby Boy's, Baby Girl's Bodysuit",
          "Toffyhouse Baby Boy's Sleepsuit",
          "Earth Conscious Graphic Print Baby Boy's Jumpsuit",
          "Poppins Printed Baby Boy's Jumpsuit",
          "Babeezworld Baby Boy's Romper",
          "cherry crumble california Baby Boy's Dungaree",
          "Kandyfloss Baby Boy's, Baby Girl's Romper",
          "MKB Baby Girl's Shirt Dress",
          "Toddla Baby Girl's Gathered Dress",
          "Baby Moshai Baby Girl's A-line Dress",
          "My Little Lambs Baby Girl's Gathered Dress",
          "Globe Graphic Print Baby Boy's Round Neck Orange T-Shirt",
          "BASRA uepgrn Green Changing Table",
          "Graco LiteRider Click Connect � Marco",
          "Budding Bees Printed Baby Girl's Jumpsuit",
          "Baby Bucket SHERIN MULTI BEAR Sleeping Bag",
          "Rute Baby Girl's Sleepsuit",
          "3kFactory Baby Shower Cap- Purple",
          "Saba Garments Baby Girl's Gathered Dress",
          "Upside Down Sleeveless Applique Baby Girl's, Baby Boy's Jacket",
          "Beebay Baby Girl's Fit and Flare Dress",
          "Fs Mini Klub Baby Girl's Fit and Flare Dress",
          "Chokree Baby Girl's, Girl's A-line Dress",
          "Shaun Printed Baby Boy's Yellow, Grey, Black Track Pants",
          "Shaun Solid Baby Boy's Grey, Dark Blue Track Pants",
          "Tks Cotton Hair Towel",
          "Babyoye Premium Baby Girl's Grey Leggings",
          "Babyoye Premium Baby Girl's Multicolor Leggings",
          "GREENWICH Baby Girl's Black Jeggings",
          "LITTLE FEETZ Baby Girl's Solid Top & Skirt Set",
          "Next Steps Baby Girl's Layered Dress",
          "Cheeky Chompers The Neckerchew - Simple Classic",
          "Piyo Piyo Four Stage Waterproof Bib",
          "Boreal Plastic rectangular hair brush 633D",
          "Pokizo Baby Girl's A-line Dress",
          "Titrit Baby Girl's Gathered Dress",
          "Young Birds Baby Girl's Fit and Flare Dress",
          "FS Mini Klub Baby Boy's Bodysuit",
          "chota packet Baby Boy's, Baby Girl's Bodysuit",
          "You Got Plan B Baby Boy's, Baby Girl's Romper",
          "Mee Mee Multifunctional Nursery Diaper Bag",
          "Zero Baby Girl's Leggings",
          "Oxolloxo Solid Single Breasted Casual Women's Blazer",
          "Kushies baby Baby Girl's Shrug",
          "Wow! Baby Girl's Gathered Yellow Dress",
          "CHOCOBERRY Baby Girl's Printed White, Dark Blue Top, Capri & Shorts Set",
          "Lilliput Solid Baby Boy's Blue Cargo Shorts",
          "Jacadi Paris Baby Girl's Gathered Dark Blue Dress",
          "Wow! Baby Girl's Gathered Pink Dress",
          "Wow! Baby Girl's Gathered Red Dress",
          "Jacadi Paris Baby Girl's Gathered Blue Dress",
          "FS Mini Klub Printed Baby Boy's Multicolor Basic Shorts",
          "NammaBaby Baby Girl's Animal Print Top & Pyjama Set",
          "Thakkar Baby Girl's Printed Top & Pyjama Set",
          "next steps Baby Girl's Striped Top & Pyjama Set",
          "MKB Baby Girl's Empire Waist Dress",
          "NeedyBee Baby Girl's Layered Dress",
          "Seals Baby Girl's A-line Dress",
          "Chokree Baby Girl's A-line Dress",
          "Esteem Baby Boy's Drawer",
          "Marvel Cotton Bath Towel",
          "The Intellect Bazaar Cotton Bath Towel, Baby Towel",
          "Wood Beauty Wood Photo Frame",
          "BornBabyKids Cotton Bath Towel",
          "Munchkin Mighty Grip Trainer Cup",
          "Blue Bell Popfun Sipper",
          "Welhouse Cotton Hand & Face Towel Set",
          "Portia Polka Print Trendy Cap",
          "RTD Baby Girl's Kurta and Pyjama Set",
          "Shrikant Traders Cotton Bath Towel",
          "MH MDF Photo Frame",
          "Indha Craft Cloth Photo Frame",
          "BabyBucket Cotton Bath Towel",
          "Neyth Cotton Set of Towels",
          "Cocovey Metal Photo Frame",
          "U & ME Cotton Plastic Diaper Reuseable Pad Small -Blue",
          "MyKid Nappy",
          "Pompom Sweethearts Velcro U Shape Nappy Set Of 5",
          "HoA Baby Nappy Set of 6 - Plain Pure Cotton - Assorted",
          "Sonpra Baby Boy's Bodysuit",
          "Offspring Solid Single Blanket Pink",
          "Offspring Printed Single Blanket Blue",
          "Offspring Printed Single Wrapper Multicolor",
          "Ireeya Abstract Single Coral Blanket Blue",
          "Offspring Embroidered, Solid Single Wrapper White, Pink",
          "Carter'S Self Design Single Blanket Multicolor",
          "My NewBorn Solid Single Wrapper Assorted Muti Colors",
          "Funcart Party Time  - Food Grade Plastic",
          "EZ Life Funky 3-Pc Kids Cutlery Set-Pleasing Panda  - Stainless Steel, Food Grade Plastic",
          "Funcart Frolic Birthday  - Food Grade Plastic",
          "Love Baby Cartoon Set of Towels",
          "Ollington St. Collection Baby Reusable Diaper With One Insert",
          "Feetje Trousers",
          "kawal fashion Pyjama Baby Girl's  Combo",
          "Lula Baby Girl's Dark Blue Bodysuit",
          "Shagun Gold Tea Tree Essential Aroma Therapy Oil",
          "Intex Kids Inflatable Air Chair",
          "Relaxfeel Floral Single Dohar White",
          "Fs Mini Klub Baby Boy's Woven Casual Shirt",
          "Cotton On Kids Baby Boy's Printed Casual Shirt",
          "Portia Hat",
          "Beebay Baby Boy's Checkered Casual Shirt",
          "612 League Baby Boy's Checkered Casual Shirt",
          "FS Mini Klub Baby Boy's Woven Casual Shirt",
          "Mahadev Handicrafts Cotton Cartoon Double Bedsheet",
          "Sparklings Cotton Checkered Double Bedsheet",
          "Bela Home Cotton Cartoon Single Bedsheet",
          "Sparklings Cotton Geometric Double Bedsheet",
          "CALCULUS Baby Boy's Printed Casual Beige Shirt",
          "Jacadi paris Baby Boy's Striped Casual Blue Shirt",
          "FS Mini Klub Baby Girl's Bodysuit",
          "dongli Striped Baby Boy's Polo Neck T-Shirt",
          "Fs Mini Klub Printed Baby Boy's Round Neck T-Shirt",
          "Aarika Self Design Kurta & Patiyala",
          "Rishan Printed Baby Boy's V-neck T-Shirt",
          "YK Striped Baby Boy's Round Neck T-Shirt",
          "CoffeeBean Regular Fit Baby Girl's Pink Trousers",
          "TRESemme Naturals Vibrantly Smooth Shampoo",
          "L Oreal Eversleek Sulfate - Free Smoothing System Intense Smoothing Shampoo",
          "Mom & Me Baby Girl's Bodysuit",
          "Doraemon Gift Family Ceramic Coffee Mug Multicolour Mug - 325 ml",
          "Dongli Striped Baby Boy's Polo Neck T-Shirt",
          "SJ Tulip multi use cotton Balls",
          "Toons Printed Baby Boy's Round Neck T-Shirt",
          "Elite Collection Medium Acrylic Sticker",
          "Wallmantra Extra Large Vinyl Stickers Sticker",
          "WallDesign Small Vinyl Sticker",
          "999store Medium Paper Sticker",
          "Wallmantra Medium Vinyl Stickers Sticker",
          "Oren Empower Extra Large Self Adhesive Sticker",
          "Wallmantra Large Vinyl Sticker Sticker",
          "Uberlyfe Extra Large Pigmented Polyvinyl Films (Imported) Sticker",
          "Wallmantra Medium Vinyl Sticker Sticker",
          "Uberlyfe Large Vinyl Sticker"
         ],
         "legendgroup": "Baby Care",
         "marker": {
          "color": "rgb(204, 102, 119)",
          "line": {
           "color": "DarkSlateGrey",
           "width": 2
          },
          "size": 12,
          "symbol": "circle"
         },
         "mode": "markers",
         "name": "Baby Care",
         "showlegend": true,
         "type": "scattergl",
         "x": {
          "bdata": "VAnWA2ICXwL3AbMFdAWTBc8GSAQABFUJTgUeA0YFkAEcBKkF2A3/AycELwLRCLoGKQQkBN4F6AMDBBAFoAEaBLIDTATrA6ADIARFBUADzw00BugRIAKcAugG6AMlBEcEWANDAWQH0AXoAw4FOgMSAkwEvAJgAnADmQUqBAIDagSgBeAFDwR9BVoLMAqUApgJZAKgAwkEfwP3AvIBOQPoBBMF8QNMBLwC9wFMBEAEwAFMBE8OuAMQCWwEsAQNA5kGpQO0A0wEWgXzA6AI/AdMBHkCTASEAnAE6AMHBBwEAwOiAUwEAwSzAbIG+QOPA18KTARgCU0J3QQVA5cFKQRACFcEAAsQBDgEvgt6AW0BqASQBOcBTATQAbAEhANED+gDhANMBIQDTASEA0wE",
          "dtype": "i2"
         },
         "xaxis": "x",
         "y": {
          "bdata": "DQXZAikEIQQHCAMDzwQNBXwFTARMBCgGnwT2A0cFIwECBHIECBMABF0FXQWuC/AGeQYtA1IIdQNMBNwH6QNMBOgDMQKTBegDOgRfBYIF2wzICfwJ6APoA0gU8AIXA0wETARMBDIHyARwA4EF6AO8AtsCbAF2BegDawUoBIEDlAXgBAAFDgULBEoJwAcnBBgI6AMoB3gF6APRBUwETAT0A9wFKwiOAisC6AM1A+gEiAMVBNoNkQSBBF8DQAZMBCwHkwSgBEgEgARMBLAIAwV2AuEDGAMABCAEeAXMBlADegR7AToECwWIBawCcgMCBC4K3gMIB/wHTAQVBGAEfwWQAxkFUBMDA6AFyxBMBEwEaQP4AegDCAO8ArAEsARED+gDsASpA7AE8wOwBEwE",
          "dtype": "i2"
         },
         "yaxis": "y"
        },
        {
         "customdata": [
          [
           "893aa5ed55f7cff2eccea7758d7a86bd.jpg"
          ],
          [
           "f355cc1ccb08bd0d283ed979b7ee7515.jpg"
          ],
          [
           "dd0e3470a7e6ed76fd69c2da27721041.jpg"
          ],
          [
           "41384da51732c0b4df3de8f395714fbb.jpg"
          ],
          [
           "710ed5f2393a4b9e8823aa0029f71f93.jpg"
          ],
          [
           "920154acbe49d3202ed7d2ed2df1ea13.jpg"
          ],
          [
           "08452abdadb3db1e686b94a9c52fc7b6.jpg"
          ],
          [
           "1e8741b5ae27a513546c94b3f3312aee.jpg"
          ],
          [
           "189fa66a5fa6f08d2802a62ecf0be298.jpg"
          ],
          [
           "bbb8cdc5406ff60ff06ff64630f2ca47.jpg"
          ],
          [
           "1120bc768623572513df956172ffefeb.jpg"
          ],
          [
           "5479bb7028827d60000720a2c135976a.jpg"
          ],
          [
           "733aa1e801a139fa8dc7be9f0eff5ee0.jpg"
          ],
          [
           "62c35de4df27437d3597963fac55a8b6.jpg"
          ],
          [
           "33d97d63c037078cd3f08033966d6a88.jpg"
          ],
          [
           "d7ca2b06b4f4d3b98c61c377b18a2d6b.jpg"
          ],
          [
           "f74476ba64365d97a5be7d375cbf4c7a.jpg"
          ],
          [
           "fda50982a672ef8835de5c1cc86f8bfc.jpg"
          ],
          [
           "4788f5466992da09024b8ffcc8a5cba4.jpg"
          ],
          [
           "653826cd53f1d9e2c086c0ac7846ef70.jpg"
          ],
          [
           "3c74db45cbfc14a78b8466dca494b3bb.jpg"
          ],
          [
           "4aa047f14885c74f155ce5f973e14dff.jpg"
          ],
          [
           "7c4fec2331da8d40f2cb146eb198cb57.jpg"
          ],
          [
           "b52073e7ed9c00c4108cae4eb0c49c1a.jpg"
          ],
          [
           "ee8d9ff65e0fe4278afce7c933d30941.jpg"
          ],
          [
           "788dc3a3da91c0f46a7c465e07f91dd4.jpg"
          ],
          [
           "29b1ca231e10d5269516b80bf9d0dffc.jpg"
          ],
          [
           "8b268c1e68f198ae2e934717d49f48e9.jpg"
          ],
          [
           "14826adf9bc4c34ea566dae3d85ef7cf.jpg"
          ],
          [
           "113783ce1db999778b5a4bd374e61209.jpg"
          ],
          [
           "553aa0252537751d153e7c50029f0242.jpg"
          ],
          [
           "e2cec0756030a25f294ead3acc0570d2.jpg"
          ],
          [
           "009099b1f6e1e8f893ec29a7023153c4.jpg"
          ],
          [
           "4d2e9f36823bad0f6fe8c6b19bb92bdb.jpg"
          ],
          [
           "64a9d0488652194fd8e879d5e6dc8015.jpg"
          ],
          [
           "08613e8b27838b997069b1fedb6e88d2.jpg"
          ],
          [
           "a124d6e4c30b00918c594289266a383c.jpg"
          ],
          [
           "40efb9474b44fba54b5d2a8df121d727.jpg"
          ],
          [
           "087e83a2406dc98d941b8555356da477.jpg"
          ],
          [
           "75015382e469d36e397c5b47ea613314.jpg"
          ],
          [
           "11502f02601ff063bf7db0a618354652.jpg"
          ],
          [
           "d5d6c94b78fb0875b2894d44e7c46312.jpg"
          ],
          [
           "6776795cc4521a0cb0d54059649f7d72.jpg"
          ],
          [
           "2e474c49a7dfe704c35cf3990740daa3.jpg"
          ],
          [
           "71ff6abd7764f2a42fcbefc11429be2d.jpg"
          ],
          [
           "c36ea960a14f164ee0f39ad6beb3796a.jpg"
          ],
          [
           "8284c10b2890ed53e17de5cfc33cdb96.jpg"
          ],
          [
           "8fc61e0dae2460bc6e8f152283d20173.jpg"
          ],
          [
           "88650de379b6ecb085ecb3c2e6b42d4c.jpg"
          ],
          [
           "93f01d6cd167fa549928a9b649f87ccc.jpg"
          ],
          [
           "c9531b92270ef77516d5b5b7ba2568e9.jpg"
          ],
          [
           "9823c07cc256788556e424307f5ae9b6.jpg"
          ],
          [
           "d77279c8268e231b685cdbaf299e83f2.jpg"
          ],
          [
           "86b358a265312c139e5714e663daff05.jpg"
          ],
          [
           "c0a7134d52d4aa3eb5874aef112f809f.jpg"
          ],
          [
           "dbcaa93cc0542079e9c88db51ec23676.jpg"
          ],
          [
           "b64149a8a9235f5199c6d8225d5dc602.jpg"
          ],
          [
           "66b75f053cb7626f49f1a9bffe77b451.jpg"
          ],
          [
           "c7d81193e868b50355412ced7a67f8f3.jpg"
          ],
          [
           "8d1abb3504a19ab41e7d8b8b1d5dd839.jpg"
          ],
          [
           "797d10fe966b3aa35933669c3425525b.jpg"
          ],
          [
           "d21409978f5e404b53f89e444f7893fe.jpg"
          ],
          [
           "9059227d71995f88a1f48ff63830f716.jpg"
          ],
          [
           "41ae5a7304f3dc1dc8bc2dfc7765ae4d.jpg"
          ],
          [
           "4a4ccd1ac291cfc8b3894e691a1c0f7a.jpg"
          ],
          [
           "c8c7385b1b9589f009aa836f0590e646.jpg"
          ],
          [
           "1e15dbd9f59a8b2001f91d18ddc84b5a.jpg"
          ],
          [
           "b4e829e38d69d299a923abf8d11ac18d.jpg"
          ],
          [
           "64247967cbf6cd8bb2e243ac53aa5928.jpg"
          ],
          [
           "5db6bd89da44841c1a5b686e67137704.jpg"
          ],
          [
           "4019ad332ca3ce22449ff54fdd49a273.jpg"
          ],
          [
           "b19c9174113c2b9288157e14c48a8250.jpg"
          ],
          [
           "2b278ad355318a87c336285689d214f0.jpg"
          ],
          [
           "f242a2cf1525f7700770cf1262b4b660.jpg"
          ],
          [
           "3864ab10ef7006452fef45513de8f868.jpg"
          ],
          [
           "052559ede419996737893eb47568ee7f.jpg"
          ],
          [
           "19a570b6717955a8c48e5f280617ef24.jpg"
          ],
          [
           "54749618b728306f9b3dc518dec315ee.jpg"
          ],
          [
           "3fa21f35257649e1513ca4ce22c6a68c.jpg"
          ],
          [
           "d98fac46793639eceaaa2e74cadd4973.jpg"
          ],
          [
           "894904e26516d491bf1c7711fe800e78.jpg"
          ],
          [
           "5f8ebf77ba4064b68ea23a41cda71d97.jpg"
          ],
          [
           "797bb7813ec0bbc99e8b6f1b32c32e52.jpg"
          ],
          [
           "987e13b445c34bfedb9796d2bb78d593.jpg"
          ],
          [
           "2541b59d54a3a9f2681c0049f7ddd85c.jpg"
          ],
          [
           "8a15fa23b8c39ac1c7eaac94cbbe6fc6.jpg"
          ],
          [
           "321f2ab0dd243778c87ac63ace6639f4.jpg"
          ],
          [
           "d98147c96d2eebf723b2b67d791bcdaa.jpg"
          ],
          [
           "f2aaeda52ac1f77c2886af013fded02b.jpg"
          ],
          [
           "235410c63d373e2fe141c129de2f624f.jpg"
          ],
          [
           "b144a363c107c7bdd91f32d6e28ba6f2.jpg"
          ],
          [
           "51c9062e6538c787b14a75a6a7cb7fb3.jpg"
          ],
          [
           "9d2d833bf63095902417c2a35f72432a.jpg"
          ],
          [
           "1fcff864d6e397e1424d5366e6c6b8fa.jpg"
          ],
          [
           "ae03731c3482a5e42d040dbf723c49af.jpg"
          ],
          [
           "8c81ed9792bee1c2d6c3b8289d80eece.jpg"
          ],
          [
           "c205b200b10aab43be31df8fc1db6d86.jpg"
          ],
          [
           "49658948b5f4eb06a3ddc2fa75eb41d0.jpg"
          ],
          [
           "3693c4e7f7efb47edb3d9eec067ffd93.jpg"
          ],
          [
           "e15195f2a5ebaa2168ccd65324e65e8e.jpg"
          ],
          [
           "7037dbd17682322c89bdf7203b403381.jpg"
          ],
          [
           "51eb5d22eda4be2a409a336651c50bb1.jpg"
          ],
          [
           "ac209ee3c602efed4ff093854a4ade06.jpg"
          ],
          [
           "97fba8a02361aa56eaa9fa51bc1d7661.jpg"
          ],
          [
           "f559fdabbcc1f4980f215f847bfdd589.jpg"
          ],
          [
           "9412b6fe7b97e405def91f24f064c547.jpg"
          ],
          [
           "7616c21074fe889defce033dcd0d7cb6.jpg"
          ],
          [
           "d0e09eaa7fcc9e7de3349959800d2141.jpg"
          ],
          [
           "2cbad7ead8eb8dd92823b9f525c87b9c.jpg"
          ],
          [
           "8fffcfe66dfde658580f98f6e28a6a46.jpg"
          ],
          [
           "a1a266a37d38f7ce41d11f1868d8c9bf.jpg"
          ],
          [
           "144a5e05bd6e69535c53366a805a8b5f.jpg"
          ],
          [
           "c7207128c680a437e1cad834a8880007.jpg"
          ],
          [
           "059bc43e03e1824a9ab6466e32e5f137.jpg"
          ],
          [
           "5338c00e0ddaec0f3af737077e0bbd91.jpg"
          ],
          [
           "6c53dbd7a9d43744920bfae3bc06327f.jpg"
          ],
          [
           "6f9c169adda9b562a841a9cf54b16f06.jpg"
          ],
          [
           "15a0364d0efc54d4e272a49f85b149fc.jpg"
          ],
          [
           "a7bd63ef1d3b345d7f9a162865bb7c0d.jpg"
          ],
          [
           "35a68b44bef47a809314493d28535b9d.jpg"
          ],
          [
           "8748b6cd9f03afc539f246c55e230502.jpg"
          ],
          [
           "a70ea60f971825b2eb57261029f317ec.jpg"
          ],
          [
           "87e0ba259a84a10580bd659466e73e23.jpg"
          ],
          [
           "6b04c746cac2aa811d7a8753e54dc96e.jpg"
          ],
          [
           "156bcd3aba1838a2b6bad856654db964.jpg"
          ],
          [
           "c91f9dc1fdd8b4d60c6b2a2b607e3e8f.jpg"
          ],
          [
           "0dc4d2767fe8424a3263ab141884f83d.jpg"
          ],
          [
           "62cbea6012792cdbe5ff7cac2a6b76d0.jpg"
          ],
          [
           "44a6d9f64668b004c3254f3904142064.jpg"
          ],
          [
           "e80e5151787eb21b0cca0d7dc3b0c338.jpg"
          ],
          [
           "79e6b64a09ec7d393be193430ea732fe.jpg"
          ],
          [
           "294a26262643797cb07f72f1b55262ae.jpg"
          ],
          [
           "53b9357d16d4db0a1f9ec4e8ac91e743.jpg"
          ],
          [
           "fc93a41f31c4e997fbfcc5bd0a63ee65.jpg"
          ],
          [
           "e24ef34ede03630207f0d367f633d8ea.jpg"
          ],
          [
           "8aa19c1f26ee1f256d4c3ab5f2f849be.jpg"
          ],
          [
           "46c7cb82a768ad8811db821d8649f6e0.jpg"
          ],
          [
           "35b5dfdda9214c94ab15bf5390e07de9.jpg"
          ],
          [
           "9924fba9b2a738e5a141995952e73104.jpg"
          ],
          [
           "30305ade337a4dde171afb90141bcaaa.jpg"
          ],
          [
           "c705a5735a94aeee547d1798e3e46ec4.jpg"
          ],
          [
           "7264f56639c8c54158b94ced769082c8.jpg"
          ],
          [
           "b5aafdb7cfde56f3e9e1364eb1efb691.jpg"
          ],
          [
           "75549ef6adc47e9b6dc2b69f530d9097.jpg"
          ],
          [
           "22146eaca9aee0223a4302d87cb3e122.jpg"
          ],
          [
           "170fdf050c7a1f8d30ef5a98c4216f9c.jpg"
          ],
          [
           "697ad1d2e45c1af54cab7847cbe324d8.jpg"
          ],
          [
           "3a7b224bf1bc9cee9052f9c9df0355f6.jpg"
          ],
          [
           "700dfd088162ea00deda33123cd7f2da.jpg"
          ],
          [
           "89b95537d8697203ab278237289a52a8.jpg"
          ]
         ],
         "hovertemplate": "<b>%{hovertext}</b><br><br>Catégorie=Watches<br>largeur=%{x}<br>hauteur=%{y}<br>fichier=%{customdata[0]}<extra></extra>",
         "hovertext": [
          "Maserati Time R8851116001 Analog Watch  - For Boys",
          "Camerii WM64 Elegance Analog Watch  - For Men, Boys",
          "T STAR UFT-TSW-005-BK-BR Analog Watch  - For Boys",
          "Alfajr WY16B Youth Digital Watch  - For Men, Boys",
          "TAG Heuer CAU1116.BA0858 Formula 1 Analog Watch  - For Boys, Men",
          "Calibro SW-125 Analog-Digital Watch  - For Men, Boys",
          "Cartier W6701005 Analog Watch  - For Boys, Men",
          "Lois Caron LCS-4032 Analog Watch  - For Boys, Men",
          "Titan 1639SL03 Analog Watch  - For Boys, Men",
          "Srushti Art Jewelry Megnet_Led_Sport_BlackRed1 Digital Watch  - For Men, Women, Boys, Girls",
          "Escort E-1700-906_Blk Analog Watch  - For Men, Boys",
          "Jack klein BlackLed Digital Watch  - For Boys",
          "North Moon IW-005-FK Silicone Ion Digital Watch  - For Boys, Girls, Women",
          "Franck Bella FB74C Analog Watch  - For Boys, Men",
          "Ridas Apl_led_black Apple Shape Digital Watch  - For Boys",
          "Skmei AD1057-Dark-Orange Sports Analog-Digital Watch  - For Men, Boys",
          "Now SP-ETHNIC Analog Watch  - For Boys",
          "Franck Bella FB127A Analog Watch  - For Boys, Men",
          "Skmei DG0939-Red Sports Digital Watch  - For Men, Boys",
          "fastrack 38015PL01 Analog Watch  - For Men, Boys",
          "Alfajr WQ18 Qibla Compass Digital Watch  - For Men, Boys, Girls",
          "Disney 98189 Analog Watch  - For Boys, Girls",
          "Disney DW100405 Digital Watch  - For Boys",
          "Vizion 8502-7PURPLE Sports Series Digital Watch  - For Boys, Girls",
          "Elantra S 10 Analog Watch  - For Boys, Men",
          "Marvel DW100243 Digital Watch  - For Boys, Girls",
          "Lenco Bdblue Tango Analog Watch  - For Men, Boys",
          "D'Signer 681GM_WHT Analog Watch  - For Men, Boys",
          "Pittsburgh Polo Club PBPC-505-GRN Analog Watch  - For Men",
          "palito PLO 169 Analog Watch  - For Girls, Women",
          "Adino ADF04 Analog Watch  - For Girls",
          "ESIDON AKADA06 Analog Watch  - For Women",
          "palito PLO 166 Analog Watch  - For Girls, Women",
          "Yves Bertelin YBSCR557 Analog Watch  - For Women",
          "palito PLO 149 Analog Watch  - For Girls, Women",
          "V9 METAL STRAP Analog Watch  - For Men",
          "Sonata Gold Plated GOLDP Analog Watch  - For Men",
          "Sonata 7007YL08 Watch",
          "Sonata 7016YM04 Watch",
          "Times 284TMS284 Party-Wedding Analog Watch  - For Women",
          "Times Times_51 Party-Wedding Analog Watch  - For Women, Girls",
          "Maxima 03918CMLY Analog Watch  - For Women",
          "Nexus NX_7668 Analog Watch  - For Men",
          "Sonata 8959YL01 Yuva Gold Analog Watch  - For Women",
          "Maxima 01433CMGY Gold Analog Watch  - For Men",
          "Sonata 77036SM02J Watch",
          "Maxima 24990LMLI Swarovski Analog Watch  - For Women",
          "Maxima 17321CMLY Gold Analog Watch  - For Women",
          "Logues LGSWATCHES760SL Analog Watch  - For Women",
          "Global Nomad GNLBBL0314 Analog Watch  - For Men",
          "Maxima 04615CMGY Gold Analog Watch  - For Men",
          "Noise NOSWW032 I M Famous Analog Watch  - For Women, Men",
          "Sonata 7016YM09 Watch",
          "Sonata 87001SL01 Analog Watch  - For Women",
          "Maxima 23952LMLI Swarovski Analog Watch  - For Women",
          "Maxima 21131CPGI Mac Attivo Analog Watch  - For Men",
          "Maxima 29923LPGY Analog Watch  - For Men",
          "Maxima 20981LMGI Attivo Analog Watch  - For Men",
          "Maxima 24742LMGY Gold Analog Watch  - For Men",
          "Maxima 09321CMGY Gold Analog Watch  - For Men",
          "Noise NOSWW001 Analog Watch  - For Men, Women",
          "SF by Sonata 7991PP02 Ocean Digital Watch  - For Men",
          "Fluid FU203-GR01 Analog-Digital Watch  - For Men",
          "Maxima 06362CMGY Gold Analog Watch  - For Men",
          "Sonata 8944SL03 Analog Watch  - For Women",
          "Times 317TMS317 Party-Wedding Analog Watch  - For Men",
          "Maxima 12011PPGW Analog Watch  - For Men",
          "Times 333TMS333 Party-Wedding Analog Watch  - For Women",
          "HMT HMTWHQ Analog Watch  - For Men",
          "Sonata 1141YM22 Analog Watch  - For Men",
          "Timewel 1100-N1685 Analog Watch  - For Men",
          "Maxima 24864LMGY Analog Watch  - For Men",
          "Times 280TMS280 Party-Wedding Analog Watch  - For Women",
          "Maxima 01784BMLY Gold Analog Watch  - For Women",
          "Sonata 7092SL01 Yuva Analog Watch  - For Men",
          "Maxima 26512PPGN FIBER COLLECTION Analog Watch  - For Men",
          "Times 109B0109 Sports Analog Watch  - For Boys",
          "Petrol PCWBL68 Analog Watch  - For Men",
          "Maxima 01741LPLN Analog Watch  - For Women",
          "Sonata 7052YM07 Watch",
          "Only Kidz 20600 Digital Watch  - For Boys, Girls",
          "Kool Kidz DMK-011-PK 01 Analog Watch  - For Boys, Girls",
          "Maxima 19431CMGY Gold Analog Watch  - For Men",
          "Maxima 01727LPLN Mac Gold Analog Watch  - For Women",
          "Timewel 1100-N145 Analog Watch  - For Men",
          "HMT S3648 Analog Watch  - For Men",
          "Sonata 8098YM01 Analog Watch  - For Women",
          "Timewel 1100-N2017 Analog Watch  - For Women",
          "Olvin 1697 SM05 Analog Watch  - For Women",
          "Sonata 8974PP01 Analog Watch  - For Women",
          "Timewel 1100-N1192 Analog Watch  - For Men",
          "Sonata 7007SL02 Analog Watch  - For Men",
          "Timewel 1100-N1639 Analog Watch  - For Women",
          "HMT Sonata Gold Plated Watch For Men Sonata Analog Watch  - For Men",
          "Times SD_147 Casual Analog Watch  - For Women",
          "Times 101B0101 Sports Analog Watch  - For Boys",
          "Fastrack 9913PP03 Tees Analog Watch  - For Women",
          "Hourglass HG 006 Analog Watch  - For Men",
          "Maxima 19413PPSN FIBER COLLECTION Digital Watch  - For Men",
          "Fluid FS201-BL01 Analog-Digital Watch  - For Women",
          "Gift Island SW13388E Fashionin Digital Watch  - For Men",
          "Sonata 8097YM03 Analog Watch  - For Women",
          "Maxima 19883BMLI Swarovski Analog Watch  - For Women",
          "Sonata 8925YM06 Analog Watch  - For Women",
          "Flippd FD15102 Analog Watch  - For Men",
          "Neo Classic NC11-5004_G Analog Watch  - For Women",
          "Now Q710-SOS07 NOW Analog Watch  - For Girls",
          "HMT OLSS 01 Analog Watch  - For Women",
          "Times 327TMS327 Party-Wedding Analog Watch  - For Women",
          "Gift Island AST906 Analog Watch  - For Women",
          "Neo Classic NC11-5004_W Analog Watch  - For Women",
          "Sonata 7926SL01 Watch",
          "Sonata super fiber Digital Watch  - For Boys, Men, Girls",
          "Maxima 05712LMLY Analog Watch  - For Women",
          "Timewel 1100-N1949_B Analog Watch  - For Women",
          "Timewel 1100-N31 Analog Watch  - For Men",
          "Sonata 7085YL01 Analog Watch  - For Men",
          "Times TIMES_98 Formal Analog Watch  - For Women, Girls",
          "Flippd FD040149 Casual Analog Watch  - For Women, Girls",
          "Timewel 1100-N1944_B Analog Watch  - For Women",
          "Fastrack 9912PP09 Tees Analog Watch  - For Men, Women",
          "Flippd FDRBB1614 Fibre Analog Watch  - For Men",
          "SF by Sonata 7963PP02 Dean Analog Watch  - For Men",
          "Maxima 07034LMLI Attivo Analog Watch  - For Women",
          "Timewel N1536(GW)_1 Analog Watch  - For Men",
          "Curren Nx Blue Dial Stiched Strap Analog Watch  - For Men, Boys",
          "Romex Ultimate Urban Analog Watch  - For Boys, Men",
          "Fogg Fashion Store 3003-PK Modish Analog Watch  - For Women",
          "SVM Navratri Special 7 Analog Watch  - For Girls, Women",
          "Fighter FIGH_008 Digital Watch  - For Couple",
          "Luba rk526 Rked Analog Watch  - For Women",
          "Perucci PC-301 Analog Watch  - For Men",
          "Perucci PC-303 Analog Watch  - For Men",
          "Perucci PC-310 Analog Watch  - For Men",
          "Chappin & Nellson CNL-50-White-RG Analog Watch  - For Women",
          "Xemex ST1025SL07 New Generation Analog Watch  - For Women",
          "RRTC RRTC1105SM00 Basic Analog Watch  - For Women",
          "Perucci PCC-501C Decker Analog Watch  - For Men",
          "Perucci PC-222 Decker Analog Watch  - For Men",
          "Perucci Pc-122 & Pc-126 Decker Analog Watch  - For Men",
          "Perucci PC-122 Decker Analog Watch  - For Men",
          "Perucci PC-218 Decker Analog Watch  - For Men",
          "Perucci PC-414W Decker Analog Watch  - For Men",
          "LUBA HF45 Stylo Analog Watch  - For Men",
          "Rana Watches Bw-Prsmd Barbie Analog Watch  - For Girls",
          "R.S D&G16 Analog Watch  - For Men",
          "Firstrace 101-107 Analog Watch  - For Couple",
          "CB Fashion 108-121 Analog Watch  - For Women",
          "Timex TI000I70600 Analog Watch  - For Men",
          "Like Analog Purple Clock"
         ],
         "legendgroup": "Watches",
         "marker": {
          "color": "rgb(221, 204, 119)",
          "line": {
           "color": "DarkSlateGrey",
           "width": 2
          },
          "size": 12,
          "symbol": "circle"
         },
         "mode": "markers",
         "name": "Watches",
         "showlegend": true,
         "type": "scattergl",
         "x": {
          "bdata": "PgRqBIsCPgGgAZwHqAPPAiEB1AHvAi4BJgTnAWwDKAImAgUCRwRIAT0BBQFBAccCvgJmAekErAJPAkoCdAWtCa8CLgRaAoAECAK5AKwAjQJEAh4CoAPgBsgAEQK4AvsBfgo/A90DFAIJAZAEvQHYBFQD8gHqAXgDJgVQAr0A0gIXAgACIgOyAZ0B6ABwAjADwQK6AcgCIAJEA5ABrAHzAEkChgFYAtgBggJ5AhcCTgHEAVsBmQEcAtsBwgGpAXUDAAOwBP4A0AGwAawAIgFeATYEcAE5AioCnwEzA08BuQH0AboBUwKHAQEBqQEsBAoCogPSAxEDLQP9Ac4D6gOsAuoFiAEpAuwDVwQFBKMBFAOIAocEQAVUDGgGFgVGBbgC4AFmA4gGdQRHA6AS",
          "dtype": "i2"
         },
         "xaxis": "x",
         "y": {
          "bdata": "6gY5BugD/gEQAz8F7wZ5BN8BxwMABOgDTAToA6YF3gLoA+gDsgX8Af8BkAFrAhgFVQQfBQEIowToA4sEwAbeBIoEBweXBBgH0wOQAZABswTtBFAFUAULDZAByQRQBVAFoQdQBYsKAwOQATkNUAVSCFAF6ANnAwgH6wZ6A5ABUAVQBS0EUAV5BHED+AHAA1AFVgRQBVAFwAOGBEUCUAWQAVAFywLxBlAFvANQBVAF8AO7A5kDogNQBXgDnAMrBLUEUAW4BZABxwK4Av8BBAREA1AFAAToA1AFqQTJAQAE1gJEA1AFUAXOA1gCtQSgBVAFUAVQBdMERAigA8gFaQRCBQIQUwWTA1EHdAdrB0sCZwRQBWIHXQeRCNAHUwdgB+MD6ANuBWQFFgRQBdAO",
          "dtype": "i2"
         },
         "yaxis": "y"
        },
        {
         "customdata": [
          [
           "f0938b0d88eac91deee6d5add54097d3.jpg"
          ],
          [
           "57578c1e6ec61a880a6f3f971f5f77b8.jpg"
          ],
          [
           "4e130ed339dcfe20d2c8b66892278a94.jpg"
          ],
          [
           "374e63028d691c380bc43b0dc60e460d.jpg"
          ],
          [
           "61c0139f3d5c97f1615797dbf046cc0c.jpg"
          ],
          [
           "aebf3a2172b33ef09acb472009967812.jpg"
          ],
          [
           "6ae332e2bafd23267caedfcc4453257c.jpg"
          ],
          [
           "57800d48b001f3fad34a4f8fa9207f29.jpg"
          ],
          [
           "d1e18b4a3aafb0040da2111c8b8ce2e5.jpg"
          ],
          [
           "46e6853da6b0c796b7a0d8203ceaa88e.jpg"
          ],
          [
           "22296bfc1c79d9dc88eabbd01220ef0c.jpg"
          ],
          [
           "f4d4c2eec77732f56e47722d7a355f2b.jpg"
          ],
          [
           "f12a06b7dbfc55638afafcf8bb03d836.jpg"
          ],
          [
           "18bd9b88e23b82fd19f8ab0c9cad6a1a.jpg"
          ],
          [
           "c7fcd0d983a51283e58b806f065cc920.jpg"
          ],
          [
           "b78586222de9a1095d0a9d88455ee75f.jpg"
          ],
          [
           "0bb0f7b7a3075f4b9459121abe2185fa.jpg"
          ],
          [
           "53f4bc7d7321f5c41de6b86e41f13e80.jpg"
          ],
          [
           "d202ea988ab11f2327279093ac71975d.jpg"
          ],
          [
           "5c77aa1fc09901ae07c392c152a70e41.jpg"
          ],
          [
           "3ba13df7877fd979d64c87c7586a5ca6.jpg"
          ],
          [
           "302c95f6eae5f4ce217fcedc4ef91262.jpg"
          ],
          [
           "2f756aa2ceb1efda609c428a47308758.jpg"
          ],
          [
           "2e3586dc60df258c5478446d65a317d2.jpg"
          ],
          [
           "40829ac110f344ef35f1c8c32fb311c7.jpg"
          ],
          [
           "d75705ad163412347cba51f882e9c0f0.jpg"
          ],
          [
           "168618e93387ad7171d4e4e1eeff9d1a.jpg"
          ],
          [
           "9c4ab8ab059c912090c83cb0818e7f1c.jpg"
          ],
          [
           "5b378b0925d5409b5d84ceb416fc2afc.jpg"
          ],
          [
           "c109187e7975ee8fdb2b3dfbdd9dce20.jpg"
          ],
          [
           "8962b50b699ddf4712ad18d29c6a3862.jpg"
          ],
          [
           "a4d9e71172f619f8e3122e34bb0bf3cc.jpg"
          ],
          [
           "55ce1309b69e1912d2fd60a3ee3f351b.jpg"
          ],
          [
           "a9b35b94610a3d7f4fa91f19693c5248.jpg"
          ],
          [
           "3113367c72125a3355af42426fe14f17.jpg"
          ],
          [
           "e99d9abb115a9bd580bcccf9ff4d4881.jpg"
          ],
          [
           "de29bf3288345e23b0e25345a3a057fb.jpg"
          ],
          [
           "e3e7c584f317d1b5d6ac0088c411565e.jpg"
          ],
          [
           "9d279c825ba12804c337f883b366a6e2.jpg"
          ],
          [
           "198dbe7be6f84f6448197148d7b5e5a5.jpg"
          ],
          [
           "2ede595489db33a036d135ce22645515.jpg"
          ],
          [
           "81a695f80d3f5c445910d310f1a83eb8.jpg"
          ],
          [
           "922a04084481d4b3275a3f7bb54e90f3.jpg"
          ],
          [
           "cc2e2bb105a5c2b2e43842886d057b81.jpg"
          ],
          [
           "67d6b4a8aa19d57740b0440365b77624.jpg"
          ],
          [
           "f39a2cce8929f5b44087d688995994e4.jpg"
          ],
          [
           "4451f1b01168b6a085738d0b0f2f02aa.jpg"
          ],
          [
           "9f76aaed44b540869da862c5dd4b266f.jpg"
          ],
          [
           "caabe6014b914fe2874a9a8d7284f79b.jpg"
          ],
          [
           "968a2b3be84193e3f755c2fe71033a2c.jpg"
          ],
          [
           "f8c1b5fb422d8418dc9e40a43fece55a.jpg"
          ],
          [
           "4642d967bc34a36454b281de632f6c11.jpg"
          ],
          [
           "34d3b2b8d263294107a3ffc69b35ff8f.jpg"
          ],
          [
           "cf2ba696547459733c6bbfad4e3bcf62.jpg"
          ],
          [
           "be0e65c6d8c2cc8cb913b36aa4168cf0.jpg"
          ],
          [
           "8f41774c16a931d71fcf01f8fee171e0.jpg"
          ],
          [
           "45d0af2c709de47268c80c35a117de44.jpg"
          ],
          [
           "17611e6e94d73ef376834e5c6ee03dde.jpg"
          ],
          [
           "fda51c31a1b7ae8f3c7b5c0174d3e201.jpg"
          ],
          [
           "73b692cdfce9a77b721a54d4b7fb35a7.jpg"
          ],
          [
           "40d7d3d1961236dd814e15592fa52994.jpg"
          ],
          [
           "9833d0de7f7e1927c807411c10b19189.jpg"
          ],
          [
           "04f9f818e2d657b873b07578cfe2eade.jpg"
          ],
          [
           "e1b2b3ad430dd738d958292441b6d046.jpg"
          ],
          [
           "9a3cdc88ebbba7612e88eac1b82c5f82.jpg"
          ],
          [
           "a4951eb41979fe482879f777c8f21d2b.jpg"
          ],
          [
           "412d0425bb7076610aace6549ded265c.jpg"
          ],
          [
           "908cc351957d02f72f60916006c531ba.jpg"
          ],
          [
           "7ee2e665b7de2e1cc29e3c65bde0c318.jpg"
          ],
          [
           "9906d8f74589c452b00f2b5642a63c5f.jpg"
          ],
          [
           "0f7a56876c61ba98dfed48ede5d3f3e1.jpg"
          ],
          [
           "63f2d92a3f5fc6cfc11e7f99d5798eac.jpg"
          ],
          [
           "2aaa6083689193df5ab01fe37dea1b5e.jpg"
          ],
          [
           "45204a03550940bdcbc8e4703c07f550.jpg"
          ],
          [
           "4b8728226cc2934095782f7e7f3ce740.jpg"
          ],
          [
           "26d8d458084ef90d395d303eaeb71587.jpg"
          ],
          [
           "a554abb9699959ec78425eac2b997c27.jpg"
          ],
          [
           "95cb9561009bd6707c67f05e6a00c16e.jpg"
          ],
          [
           "906b5b16c78ba1c718501138702cb32c.jpg"
          ],
          [
           "7e11aaffb1d08f8091ea94598f7865aa.jpg"
          ],
          [
           "a12d9ae5720ae41446e084911f0c2865.jpg"
          ],
          [
           "521528ccaa29dd645e869550cae7a249.jpg"
          ],
          [
           "2f40e01331bc00216d147d4ebfdfbaf3.jpg"
          ],
          [
           "e921fc17a0ed9a58f76d38558deb9337.jpg"
          ],
          [
           "3589e80e8f7f3f3a5b65447389b90c2e.jpg"
          ],
          [
           "dde89969aecfa2c5245e8059c660b139.jpg"
          ],
          [
           "e4922f01eda047582cd72e9d1063ab7a.jpg"
          ],
          [
           "20a06aad5f04727dd54bf13dd5923518.jpg"
          ],
          [
           "08bdf59c9dcb241e3a57eb4f3729ec70.jpg"
          ],
          [
           "2414e4b7e5948263b8dbb4843557be4d.jpg"
          ],
          [
           "4589c5021b21525b4779260f7e86f355.jpg"
          ],
          [
           "0a3b5fdf77a361c2d7d9b29c259b8c4e.jpg"
          ],
          [
           "7cf36a3f1f2bd785954cc876a941da40.jpg"
          ],
          [
           "5ae4626271e8eefe5eb2aaf42c00724f.jpg"
          ],
          [
           "8c90f3ca64ea1a8ce104c3c3f5fc173f.jpg"
          ],
          [
           "6c441a6ca8eb4e5ca882c9c0df03ff0c.jpg"
          ],
          [
           "c6adf41cd378b1f6a7ac62675b060411.jpg"
          ],
          [
           "0ae859a69c7608d8197c3ba8c37bc6ec.jpg"
          ],
          [
           "3bf09b28e3bf526c2dfebfe591921103.jpg"
          ],
          [
           "82fbc93cd45ab747e7e606f2c52c7335.jpg"
          ],
          [
           "07912328f580cf080d721e6466287896.jpg"
          ],
          [
           "1218fd9be42d45a81846db9f65a983bd.jpg"
          ],
          [
           "8a306758531cffad41e7a28e41576c49.jpg"
          ],
          [
           "7729e54756a60aecb2067a747c890913.jpg"
          ],
          [
           "282102897daa1c2513cf76837a8d5a4c.jpg"
          ],
          [
           "fd75569f00649bda69d490d54e01378c.jpg"
          ],
          [
           "984983d05e18e63d1a314e86cb362ae5.jpg"
          ],
          [
           "f28dbe6996336f063e804f353d7de4ce.jpg"
          ],
          [
           "5fdb912462da9891e5b21c677ceb15e4.jpg"
          ],
          [
           "ee6d5fe464237e85f61cc9128710ce32.jpg"
          ],
          [
           "b362b56f7ee80dcfe9d8bb643df87007.jpg"
          ],
          [
           "3fd4d7ea04624ada39fde3957c7b9b7c.jpg"
          ],
          [
           "f0ab5f12bd777e28a401a728fcb93a4b.jpg"
          ],
          [
           "5c0fe2919e49f30aff91d46800cdf149.jpg"
          ],
          [
           "a060b5acc6e3fb814769805db61f589b.jpg"
          ],
          [
           "d136aa676ef52b09eab65762940957fe.jpg"
          ],
          [
           "9b00cab981ab825158c05c9e54b866d4.jpg"
          ],
          [
           "7e3d8e737aec8f1eca019302593c732e.jpg"
          ],
          [
           "e225be101bbad1ea9d031261ba4387b8.jpg"
          ],
          [
           "c5c559012b742d9966df82182b90c6da.jpg"
          ],
          [
           "27175ea71cc5f2879882c77b9931cf8b.jpg"
          ],
          [
           "66d91765da568f133f040b951f25e702.jpg"
          ],
          [
           "b1d61c60791a01827e3251e362c78573.jpg"
          ],
          [
           "486e98154514ed485f0b2f9bc9f24549.jpg"
          ],
          [
           "cf03921bd7eb3afd84c4b12a434d03e5.jpg"
          ],
          [
           "5307e0db12b1018746ac3801d189c379.jpg"
          ],
          [
           "af13232271963742c118a1c58affa259.jpg"
          ],
          [
           "7c333641c63bd7519432ae83744b8db4.jpg"
          ],
          [
           "037b39bef3db7ccd264c577a0edf0c0a.jpg"
          ],
          [
           "6e6694c52c9273cde2163d34d5b44e94.jpg"
          ],
          [
           "09f9f9b420edea2f39c0dc3c24d5be07.jpg"
          ],
          [
           "9e07a3eeee6aa9e656106281cdd30d67.jpg"
          ],
          [
           "9c9385abdb73ec1f1f93acaf81c6e1d7.jpg"
          ],
          [
           "9cd443dad2c8f354fd01869a57fdc171.jpg"
          ],
          [
           "8b7a51c69b47f4714b5f7131077b5d30.jpg"
          ],
          [
           "4946e2411d24801b9e8f7dbe97ab1b93.jpg"
          ],
          [
           "c417f408340252f170f05dadf88160d7.jpg"
          ],
          [
           "edec3bb5df9c4bc618752e94532bb36e.jpg"
          ],
          [
           "1738ddb8f47f11ff0cb96fe6cad302c2.jpg"
          ],
          [
           "e488005c7fb68747d3458c7d73760bae.jpg"
          ],
          [
           "798346b99002495667bb87626d33b99c.jpg"
          ],
          [
           "b0229d4466ac60c7ba53c7ce9fabad7c.jpg"
          ],
          [
           "357432a848c3f13fa614efe5dddd99b6.jpg"
          ],
          [
           "c3c23b5aa5e388e5f71883f61d1a0561.jpg"
          ],
          [
           "42770faa04bfcf2b62e7ef335e1b1965.jpg"
          ],
          [
           "216c6c3527984be3d7ad9023d5cd9bd1.jpg"
          ],
          [
           "032e812adcd11a38fd8b764891a852ff.jpg"
          ],
          [
           "9bd8526e99697998cdf7dcbdfa044847.jpg"
          ],
          [
           "29def171d7e31d48571a52f0fb3e6b07.jpg"
          ],
          [
           "3b96a152c8fac4421fb67b6190584976.jpg"
          ]
         ],
         "hovertemplate": "<b>%{hovertext}</b><br><br>Catégorie=Home Decor & Festive Needs<br>largeur=%{x}<br>hauteur=%{y}<br>fichier=%{customdata[0]}<extra></extra>",
         "hovertext": [
          "Myesquire Ceramic Burner Pot Lemongrass Liquid Air Freshener",
          "VarEesha Wooden Key Holder",
          "Treasure Showpiece  -  23 cm",
          "@home Glass Vase",
          "Smart Wall Guru Medium Adhesive Sticker",
          "Parv Collections Showpiece  -  12 cm",
          "Exotic India Adi Buddha Vajrasattva Showpiece  -  27.94 cm",
          "Aapno Rajasthan Princess Design Showpiece  -  22 cm",
          "Exotic India Vaishnava Symbols - Shankha And Chakra Showpiece  -  37 cm",
          "Exotic India Relaxing Ganesha Showpiece  -  11.43 cm",
          "BeYOUtiful Copper Repouss�� - Man With Dhol Showpiece  -  36 cm",
          "Exotic India Blessing Buddha Showpiece  -  36.83 cm",
          "My Angel Gifts Show Piece Showpiece  -  5 cm",
          "Diviniti DG Royal Ornamental Size 4 Gurunanak religious wall hanging Showpiece  -  30.5 cm",
          "Diviniti MDF Color Religious Wall Hanging Size 4 Radha Krishna Showpiece  -  36.4 cm",
          "K&P Lord Ganesha Regular 16 Showpiece  -  13 cm",
          "Eternity Handcrafted unique Mosaic Glass Table Lamp",
          "Recrafto Buddha Showpiece  -  15.24 cm",
          "Exotic India Lord Ganesha (Carved in Hematite) Showpiece  -  5.08 cm",
          "Craftcart Parrot Antique Brass Key Holder",
          "Arsalan 10.5 inch Glass Hookah",
          "Rastogi Handicrafts Showpiece  -  20 cm",
          "NEHP NEH006 Showpiece  -  38.1 cm",
          "S C Handicrafts Sandalwood Carved Chinese Queen Big Showpiece  -  20 cm",
          "Tatvaarts Urli Showpiece  -  21.59 cm",
          "Surface180 Wonderful Wooden Antique Drawer Box Showpiece  -  20 cm",
          "MA Design Hut Showpiece  -  8 cm",
          "Lal Haveli Rajasthani Wooden Crafted Unique Chowkidar Statues Wooden Darwam Showpiece  -  50.8 cm",
          "Purpledip Showpiece  -  12 cm",
          "Shoppingtara Elephant Pair Gift Showpiece  -  4 cm",
          "Orange Tree Dune Wall Decor Set Of 3 Showpiece  -  8 cm",
          "Unique Design Handcrafted Brass Mini Chair Table Set Showpiece  -  10 cm",
          "Tatvaarts Elephant Mini ( Fine-Finish) Showpiece  -  8.89 cm",
          "Port Interiordesign Showpiece  -  16 cm",
          "Lal Haveli Beautiful Attractive Hand Painted Decorative Iron Wood Musician 5 Pcs Set Showpiece  -  55.88 cm",
          "Lal Haveli Wooden Table Decor Mother & Baby Elephant Painted Showpiece  -  10.16 cm",
          "Orange Tree Maxim Wall Decor Set Of 3 Showpiece  -  4 cm",
          "Tatvaarts Tribal Face Showpiece  -  21.59 cm",
          "Shoppingtara Paper Mache 3 Piece Elephant Home Decor Gift Showpiece  -  4 cm",
          "RoyalsCart KTH505 Showpiece  -  33 cm",
          "MCB Exports Mini 6 Drawer Chest Showpiece  -  33 cm",
          "S C Handicrafts Sandalwood Chinese Queen. Showpiece  -  16 cm",
          "Purpledip Kattle Showpiece  -  15 cm",
          "Lal Haveli Traditional Hand Crafted Beautiful Iron Musician 5 Pcs Set Showpiece  -  33 cm",
          "Lal Haveli Decorative Dholak Musician Showpiece  -  8.89 cm",
          "Tiedribbons We Love Mom With Green Background Tile Showpiece  -  28 cm",
          "Rajo Raja Magan Buddha Artpiece Showpiece  -  20.5 cm",
          "Lal Haveli Rajasthani Handcrafted Decorative Showpiece Statue Musicians Showpiece  -  17.18 cm",
          "Surface 180 Elephant Shape Handpainted Wooden Round Stool Showpiece  -  17.78 cm",
          "Sovam International Krishna With Cow Idol Showpiece  -  6 cm",
          "Lal Haveli Beautifully crafted and painted Horse with bells Showpiece  -  33 cm",
          "Sovam International Radha Krishna God Showpiece  -  6 cm",
          "The Ethnic Story Royal Durban Showpiece  -  30.48 cm",
          "Unique Design Mobile Stand Showpiece  -  15 cm",
          "Lal Haveli Iron Wall Decorative Musician Showpiece  -  50.8 cm",
          "Ruchiworld Marble Pot Showpiece  -  4 cm",
          "Malhar Niko Male Doll Showpiece  -  25 cm",
          "TRUE Bong",
          "The Crafts House Showpiece  -  6.5 cm",
          "Tiedribbons Mamma'S Fairies Gifts Tile Showpiece  -  28 cm",
          "Unravel India Showpiece  -  16 cm",
          "Ruchikainternational ruc0015 Showpiece  -  4 cm",
          "Monil Cow With Calf Showpiece  -  10.2 cm",
          "Shoppingtara Marble Elephant Pair Showpiece  -  5 cm",
          "Woodino Handicrafts Showpiece  -  6.5 cm",
          "Unique Handicrafts Inlaid Marble Box Showpiece  -  4.5 cm",
          "Lal Haveli Rajasthani Handmade Vintage Wooden Camel Design Jharoka Photo Frame Showpiece  -  43.18 cm",
          "Rajo Raja Mahavastu Buddha Artpiece Showpiece  -  20.5 cm",
          "Mavi 237MBB Showpiece  -  15 cm",
          "S C Handicrafts Showpiece  -  40 cm",
          "Ruchikainternational ruc0013 Showpiece  -  13 cm",
          "Services Junction Beautiful Black and Golden color Diamond Ganesh idol for Pooja Showpiece  -  5 cm",
          "Services Junction Gold Plated Ganesh Idol Showpiece For Pooja Showpiece  -  6.5 cm",
          "Brahmz Glass Mossiac Table Lamp",
          "Craftuno Handcrafted Soapstone Mini Cannon Showpiece  -  6.25 cm",
          "Nihar Pirangi Bomber Showpiece  -  10 cm",
          "NEHP NEH0012 Showpiece  -  22.86 cm",
          "Homedesires Showpiece  -  10.5 cm",
          "Pg handicrafts Beaded two drawers sofa set showpiece Showpiece  -  10.5 cm",
          "Lal Haveli Rajasthani Handmade Decorative Wood Jharoka Showpiece  -  30.48 cm",
          "Aapno Rajasthan Marvel In Marble - Gold Embossed Roli Tika Chopra Showpiece  -  7.62 cm",
          "Ravishing Variety Statue Showpiece  -  17 cm",
          "Infinity India Antique Gemstone Brass Surahi Handicraft Gift -1001 Showpiece  -  10 cm",
          "Reiki Crystal Products Showpiece  -  8 cm",
          "Miracle Retail Bonsai Wild Plant Artificial Plant  with Pot",
          "Mayursflora Bonsai Aloe, Maple, Arecaceae, Palm, Maguey Artificial Plant  with Pot",
          "V Creations Bonsai Cactus Artificial Plant  with Pot",
          "R&Mshoppee MDF Wall Shelf",
          "Rrsskids Swing King Cotton Hammock",
          "Smart Wall Guru Large Adhesive Sticker Sticker",
          "Innovative Single Corner Stainless Steel Wall Shelf",
          "SHOPOJ Blue Paper Sky Lantern",
          "KLOCX Analog Wall Clock",
          "Creative Width Decor Medium Vinyl Sticker Sticker",
          "Divine Gifts & Artificial Jewellery Shanker Blue Showpiece  -  7.5 cm",
          "AsiaCraft Goddess of Wealth Laxmi Brass Statue Showpiece  -  7.62 cm",
          "Wallmantra Christ The Redeemer Framed Print Canvas Painting",
          "Tallenge Christmas Collection - Echoes Of Winter - Gallery Wrap Canvas Painting",
          "Wallmantra Golden Buddha On Red Background Framed Print Canvas Painting",
          "Tallenge Christmas Collection - Nativity Art - Gallery Wrap Canvas Painting",
          "Wallmantra Abstract Colors Modern Art Wall Hanging Canvas Painting",
          "Jaipur Raga Lord Krishna Showpiece  -  14 cm",
          "Golmaalshop Showpiece  -  27.9 cm",
          "Golmaalshop Showpiece  -  12.7 cm",
          "Craftartz Buddha Brass Idol Dhyan Mudra Showpiece  -  14 cm",
          "Gift Studios Ganesha Stone Showpiece  -  17.6 cm",
          "VRCT 196 inch Green Rice Lights",
          "Radhika's World of Crafts Ganesha with Prabhavali Showpiece  -  19 cm",
          "brass gift center Showpiece  -  48 cm",
          "Regent Analog 28 cm Dia Wall Clock",
          "eCraftIndia Analog 2.5 cm Dia Wall Clock",
          "Bharatcraft Wall Hanging Of Lord Ganesha On A Creative Leaf Showpiece  -  34.29 cm",
          "Bharatcraft Showpiece  -  5 cm",
          "@home Earthy Wine Net Ceramic Vase",
          "BRANDWAGON DIGIPRINT Digital Reprint Painting",
          "scarlet tanager bird normal POSTER Paper Print",
          "good-night-angel-sleep-well-pics Paper Print",
          "painting_art_couple_love__Dance Paper Print",
          "Bourne Supermacy Canvas Art",
          "wallskart Floral & Botanical Wallpaper",
          "Megaway 196.85 inch White Rice Lights",
          "Anjalika Brass Laddu Gopal Showpiece  -  6 cm",
          "Digilight 400 inch White, Blue Rice Lights",
          "Agrasen International Radha Krishna Statue Showpiece  -  20 cm",
          "Pinc Ginger 90.6 inch Black, White Rice Lights",
          "Home Delight 130 inch Pink Rice Lights",
          "Adaa Sitting Nandi with Round Base Showpiece  -  4 cm",
          "Utsav Handicraft UHD004 Showpiece  -  8 cm",
          "Gift Studios Buddha Stone Showpiece  -  17.6 cm",
          "My Party Suppliers 720 inch Multicolor Rice Lights",
          "GrandShop 444 inch Multicolor Rice Lights",
          "eCraftIndia Lord Ganesha on Elephant Showpiece  -  13.97 cm",
          "Digilight 200 inch Blue Rice Lights",
          "Al Fakher Pegs'N'Pipes Mint, Double Apple Hookah Flavor",
          "Weldecor 1800 inch Red Rice Lights",
          "Eshoppee Shiv face antique color brass idol Showpiece  -  8 cm",
          "Arabian Nights Soex Cranberry Assorted Hookah Flavor",
          "The Art Treasure Decorative Shankh",
          "Digilight 400 inch Red, Yellow Rice Lights",
          "Nutcase Multicolor Column Floor Lamp",
          "ROYLE KATOCH Showpiece  -  24 cm",
          "Jaycoknit Mediterranean Sea's Lucky Wooden Handcrafted Ship Part II Showpiece  -  17 cm",
          "Art Godaam Colored figure Showpiece  -  50 cm",
          "Vedic Deals Couple Radium Statues Showpiece  -  28 cm",
          "Hand Art Terracotta Mask Showpiece  -  28 cm",
          "Kaatru Surya Bhagavan Showpiece  -  23.5 cm",
          "CTW Ganpati Bapa Moriya Statue Showpiece  -  12 cm",
          "Wall Decal Small Self Adhesive Sticker",
          "Ech oly Ceramic Inside Fitting Hookah Mouth Tip",
          "Reiki Crystal Products Showpiece  -  6 cm"
         ],
         "legendgroup": "Home Decor & Festive Needs",
         "marker": {
          "color": "rgb(17, 119, 51)",
          "line": {
           "color": "DarkSlateGrey",
           "width": 2
          },
          "size": 12,
          "symbol": "circle"
         },
         "mode": "markers",
         "name": "Home Decor & Festive Needs",
         "showlegend": true,
         "type": "scattergl",
         "x": {
          "bdata": "hginA5AJbgNMBKwDAwLABMgHyAdCA2wGTASDA3ADqAj5BdAHsAY0DkUDigKQBPUCiAVvA0wEmAPCBkwETARMBOcEPgNMBPACTAQIA0wEPgQHBf4B/gNMBH4D2wQdBUwETATZA1AC2QKGA8cDTAQUBEgBaQGYBdsEhQFIBEwETARMBCAK/AN4ApAFyAJMBNcBQgPgA0wEjQpeBJUDkgWMA+gDoAWqAkMDEAdVBegJTQVMBHgJTATnA84F3AVUA/ADqAToA6gE6AOoBOgDShCfA0wETARMBGsCDQFMBEUEFANMBOUIAApABkwETATvArEEYAKuAgAEqQLoBswFlApVB0wEAxDlDbAEAARMBEwEkASgA0wEAARMBMwDSgQXAhEG3AXwDnoDeAm4B0wE",
          "dtype": "i2"
         },
         "xaxis": "x",
         "y": {
          "bdata": "tQNMBMAMOAViA0wEIANABfAFVwhkBLYHKgNMBEwEsAcXC2wHwAdRCkwETAQxBUwEJgVMBPUCTARvBfcBeAVbA+EETARDBEwEeAV4BeoBTASNBUwETASgAkUM0QV3BB8CHQRMBFgITARMBEwEuQJMBNEDTARYA9EF3gJMBKoDLQLbA3gHUAWPBFcGHgNwAzYCuAPaBIwC6gZSBEwE8wSwBugDqAtMBEwEDA1VBekMAgLIAUMIIgRMBNAF3AUgBf0EZgNMBGYDTARoA+gD6ApMBDkETASaAkwETARMBEwETAShApwLQAawBN0C3QJMBCADOAJMBKoCTARpBkgFWwsDA0wEUgloDbAEqgLqAn8D4AiFArIBqgJMBEwETARMBGgNNAiYDkQHQwgABkED",
          "dtype": "i2"
         },
         "yaxis": "y"
        },
        {
         "customdata": [
          [
           "e9420e9483f16db81c64dddf99f34841.jpg"
          ],
          [
           "a3dea07b2f7bf48276d32513091be717.jpg"
          ],
          [
           "8050d31bffe6827c804b8222338aafb2.jpg"
          ],
          [
           "493d1eb6ad7a48a926092bf994cd0bb0.jpg"
          ],
          [
           "3388d05e88972ff9f3e1321dc0cfdc28.jpg"
          ],
          [
           "e7cab08a267e815c72a26513222783e0.jpg"
          ],
          [
           "69446af66066146718cd569f87e99fff.jpg"
          ],
          [
           "f01140c02fd09e5c56312a64fa8db3da.jpg"
          ],
          [
           "80e9cb3d2d7f9ff7bc497c34df366d03.jpg"
          ],
          [
           "2baa415ebcc4fe563ce13b50e60efc1c.jpg"
          ],
          [
           "ed9817e8960a6a0d509061c54cfe5ac1.jpg"
          ],
          [
           "5a7a1287fef0d986a5e237797beee286.jpg"
          ],
          [
           "9ba898ecb77ab5a6799c8b047c6b6008.jpg"
          ],
          [
           "afc3ebd18df498dd87abb7ad7536b5c7.jpg"
          ],
          [
           "0096e89cc25a8b96fb9808716406fe94.jpg"
          ],
          [
           "0ddc40c08d9a9bafc4d14eddd98db7c0.jpg"
          ],
          [
           "f1484a63c0dc79e96c98b2a250380ed8.jpg"
          ],
          [
           "f01ff0a82401117e9da22dd680fd2f36.jpg"
          ],
          [
           "de911421573d3e234450040374b55b38.jpg"
          ],
          [
           "614dbfa2f42c4684c0bb6152091113a6.jpg"
          ],
          [
           "5531b9f454e2d75cfe00c3f795e06de5.jpg"
          ],
          [
           "258444ac7bb7ad8026800efad5c3502b.jpg"
          ],
          [
           "fd369a1bb58ae02cd925dda7e9e1d00a.jpg"
          ],
          [
           "73f460cd6f3fd206902d7097a1816405.jpg"
          ],
          [
           "0d3e1dc0d38be59e9927e47f152e48aa.jpg"
          ],
          [
           "118b411bf265538461b084ce7abd55a8.jpg"
          ],
          [
           "06749cbff1487f470438823f6952cfd1.jpg"
          ],
          [
           "202fc276e672eb8c29891aa50aef0771.jpg"
          ],
          [
           "feefbdff924dd6b7cc266449c9a36d69.jpg"
          ],
          [
           "af1ac46194b5488048c459102a16a57e.jpg"
          ],
          [
           "a1fd886094826c3f25c6ffb380073974.jpg"
          ],
          [
           "3847353a4b8de1efc504d589aea74ffe.jpg"
          ],
          [
           "60efd61370e70267dc60b11ff2bf974c.jpg"
          ],
          [
           "63bc43c0000e71eb11bfafd2f46214a4.jpg"
          ],
          [
           "f8794f7a06b530782c66f7c0911bb437.jpg"
          ],
          [
           "8507eb0ef32c1c0db700f20aad6d9bcd.jpg"
          ],
          [
           "fc7abdf67b4d7dbf64dffbab7b37599c.jpg"
          ],
          [
           "1afa5f2c3c9b4b43def6dc2e695d2c87.jpg"
          ],
          [
           "73503fe89ea77420a598f4a1019e5b6d.jpg"
          ],
          [
           "ec590694e8bf85f75c9200cf418127aa.jpg"
          ],
          [
           "7956d9586de3e25ff586bca58be7195e.jpg"
          ],
          [
           "63f6ef8f3fda2c306b27cfbf5a005f1e.jpg"
          ],
          [
           "328b66226952d8733c0c48295fae1108.jpg"
          ],
          [
           "6efd5d260667b94f04edbbd18bb300b9.jpg"
          ],
          [
           "beaa6285a2b9c66db0e294767711ca3f.jpg"
          ],
          [
           "41fd5af61752be98b19b611a6ff9a0ef.jpg"
          ],
          [
           "219b24362655097cb41bf06a0be8ee79.jpg"
          ],
          [
           "b5d1b8ef70b1ce27726f7f6c2f373e56.jpg"
          ],
          [
           "69515ea06da8b2b1c881ce34fbf6575a.jpg"
          ],
          [
           "02127f52e96fb72c66bf081d25104ef8.jpg"
          ],
          [
           "c4581cae6bf751a7ae5c40bb16b74e98.jpg"
          ],
          [
           "c8f42da0f9f695f07067676eae4135c8.jpg"
          ],
          [
           "785b4383b12106dd172306d427d8f7b2.jpg"
          ],
          [
           "d19d17140fdd9adc09ba6e2ad1e1ebb9.jpg"
          ],
          [
           "aadbc3b9c32c4535b1bfee7321c4c0e7.jpg"
          ],
          [
           "ea16e13a7cf16d8665d1bc44738dfa88.jpg"
          ],
          [
           "a341f915962ee99754e962520f279708.jpg"
          ],
          [
           "9077acd25761ea067ac6d9369d8fdf16.jpg"
          ],
          [
           "cab75cad4b3a3c593c753a1759df28e2.jpg"
          ],
          [
           "c5590e238d44b370337624f5987fb9b8.jpg"
          ],
          [
           "6b043b37c38f081d96886acb5acfbdf5.jpg"
          ],
          [
           "b92e13d5ef945d086fd4f42b95bc04ac.jpg"
          ],
          [
           "22ea3b69860bc9a5e0c69b87db2dcdab.jpg"
          ],
          [
           "154920adb9d584b55d419227f9b01cc6.jpg"
          ],
          [
           "5dbf978ab2cf9d2da6446d3e4595f690.jpg"
          ],
          [
           "b7ef3e6ec248f17f3a6a4697120ddb96.jpg"
          ],
          [
           "aab46b84f70cc6774afaafe1d6035de3.jpg"
          ],
          [
           "58d7fbbe6d306ecf16e0a7ac05b211d4.jpg"
          ],
          [
           "59af3731b809a25f2bf99e99f645d8dd.jpg"
          ],
          [
           "3c4ca34c50a5437a1bcc42b72fc1351f.jpg"
          ],
          [
           "3830dda3491cd5b28ed42ae544bc44f0.jpg"
          ],
          [
           "2f712e172ee77a913b6d627657986b72.jpg"
          ],
          [
           "6da53319cc12c9729881f5478ff67223.jpg"
          ],
          [
           "8bf65b132179faf26f61e26274b2b819.jpg"
          ],
          [
           "f69bef5db54cb4c83b2aa8d0ce829d4e.jpg"
          ],
          [
           "ffbf3794aa8cb6bb8d3f313d0a549a09.jpg"
          ],
          [
           "acd2f21d63ac0bbed4d52e6010d9460b.jpg"
          ],
          [
           "b46d7b8e6826ad4c8b40a991da0f54d7.jpg"
          ],
          [
           "ce2f67c3365846170cb709784d87e45b.jpg"
          ],
          [
           "b4ccd4c315d99edd7c00d015b714485a.jpg"
          ],
          [
           "e3c741a05c82c54343b94ed8c1292e2a.jpg"
          ],
          [
           "90f86ac4065397340e8012261577c220.jpg"
          ],
          [
           "6775e3b91baa4d368f6d91eb7c24578b.jpg"
          ],
          [
           "91a5328e7235424885d271dfa0959eeb.jpg"
          ],
          [
           "2110699b945ae766c8b8112038ac58b9.jpg"
          ],
          [
           "ce02ab514e4c623dcf7acd7182a7762d.jpg"
          ],
          [
           "f2751cf0dd59d223cacbc5da5df42a1a.jpg"
          ],
          [
           "ed139e0d1b5c973495e1aa35dd4a5533.jpg"
          ],
          [
           "e1e133cbe616bee3b3e9e6f4f0882e3d.jpg"
          ],
          [
           "2e8df36b35d22cf219cf8bae6c2af752.jpg"
          ],
          [
           "7e4c1d31e279a700c6b8e66d820e8601.jpg"
          ],
          [
           "1357e9d24661c3b5797aa1016e0c3be1.jpg"
          ],
          [
           "799ddb97164ff2d5d53bb8b27b8c355f.jpg"
          ],
          [
           "607dc41467008ee7a8dba0276f180f63.jpg"
          ],
          [
           "0c4718ae90f2889b7021a99ee1cc106c.jpg"
          ],
          [
           "85fe188e1ee8237b70df0d475907bf24.jpg"
          ],
          [
           "ea42376c9c52752d9d01bba12eb2999b.jpg"
          ],
          [
           "87f1807e002d3555b8dfb465a8a61df2.jpg"
          ],
          [
           "0131e5d87b72877702d536299cf83b75.jpg"
          ],
          [
           "72cbc043d14ee578c789c9fab3c43cdd.jpg"
          ],
          [
           "6bc04b3ec1f8d4da2a00f8662f4fbed3.jpg"
          ],
          [
           "fb733e04ff2d72c59d8513eb574e81a2.jpg"
          ],
          [
           "c38eb8abdaa1d8c28bc8c262761dfbc5.jpg"
          ],
          [
           "724e6eb7edc83eb48b6492d12e940ebd.jpg"
          ],
          [
           "273982a65b9c7dabe56c8345552bfad7.jpg"
          ],
          [
           "0e73201f6d8807776e1d21c969078289.jpg"
          ],
          [
           "86dcb7d4ce6ec7bfb3e26d1bd859f4fb.jpg"
          ],
          [
           "093097cfe5626f4ad8914e0a16a940b5.jpg"
          ],
          [
           "6a1afb657e9ac01e3ca1956dfdcc3e9a.jpg"
          ],
          [
           "c3e1435782c0929327449eec11475b96.jpg"
          ],
          [
           "735820e1614052fde55659da9dc10ccc.jpg"
          ],
          [
           "2971287a1ac427bd98c4778112d20d06.jpg"
          ],
          [
           "8c6942026d53b881d1da9359ea19c9fc.jpg"
          ],
          [
           "a54b94096938252901d3f7f8de97bffb.jpg"
          ],
          [
           "0b8c4bc35aee94af356cb1fd2dfa0219.jpg"
          ],
          [
           "7cb1ea7b2257aeeeba701a8f6e3e0127.jpg"
          ],
          [
           "3b0f02b3acf1825f8bbc1fb3b860dbb8.jpg"
          ],
          [
           "3b80ac036843b278083fabfd9a3c84ff.jpg"
          ],
          [
           "0b852704f2002f8865a68818ad4951da.jpg"
          ],
          [
           "10ad262ebfdc8614e847d36e6fe9ecf9.jpg"
          ],
          [
           "dea88a5f46d5fc19236651e6b3e0b3fa.jpg"
          ],
          [
           "0f4f761de4224b004402c1f97e871ba4.jpg"
          ],
          [
           "5e52d6ce133e5307814f9f3eedc5806d.jpg"
          ],
          [
           "baa093d149982b010ab72ecbeec6110f.jpg"
          ],
          [
           "6ed4eb71c0707f1d6fdddcf62562cb02.jpg"
          ],
          [
           "aa68675f50a0551b8dadb954017a50a1.jpg"
          ],
          [
           "3f025b9dc8065fe5a155573e5b21a70d.jpg"
          ],
          [
           "0ca8e323551dd7107ef57ef7c3e77aee.jpg"
          ],
          [
           "c997312abfa36281d41366cb4a3b908e.jpg"
          ],
          [
           "5518124b75d6c6dfee4c2e4c0cfa716a.jpg"
          ],
          [
           "025a85a3d1cddc6307f7dc075d8d2132.jpg"
          ],
          [
           "55195de3873fffaa9e37b041533d7305.jpg"
          ],
          [
           "52877a6306aef18af67ab54c8233c931.jpg"
          ],
          [
           "a97b85d31d715c65b2970c4177eb0fda.jpg"
          ],
          [
           "d47f1cb78db4a23e2516e2d34da34c8a.jpg"
          ],
          [
           "73523a8cc9a5c04a010d0307f2f2827a.jpg"
          ],
          [
           "daf06eb2b9613900299539558e287701.jpg"
          ],
          [
           "3d8222014ec36292c1c143c5f5e12c29.jpg"
          ],
          [
           "503bb08f7bdf6a395ec564dd1dc83619.jpg"
          ],
          [
           "4b59516432fbc3d61e8e58d547fde431.jpg"
          ],
          [
           "b91b13aceec0a140944a2c8915e45e59.jpg"
          ],
          [
           "378d7dbdb97ecc62c9ad52cb6df23a86.jpg"
          ],
          [
           "74e5a3f6edb34d7e593a0d1854b0b886.jpg"
          ],
          [
           "06fdaa2b03d70da4358311d260456729.jpg"
          ],
          [
           "d79e6ae847a561c284a2b14e42500698.jpg"
          ],
          [
           "fc8ff72b68b0f3736a9aff8f03aa712f.jpg"
          ],
          [
           "78fcb634d9838127464d827234ab05ad.jpg"
          ],
          [
           "4cc971d2c9c0f1056bc124031ed52c1e.jpg"
          ],
          [
           "0c70a580d96e50966130e2885d8c3505.jpg"
          ],
          [
           "cdf4aedfc9420a2e212fb64e2688bcdc.jpg"
          ]
         ],
         "hovertemplate": "<b>%{hovertext}</b><br><br>Catégorie=Kitchen & Dining<br>largeur=%{x}<br>hauteur=%{y}<br>fichier=%{customdata[0]}<extra></extra>",
         "hovertext": [
          "Dungri India Craft Ducjug010-ducgl012-2 Jug Glass Set",
          "BFT 6 W LED Bulb",
          "AKUP i-loves-music Ceramic Mug",
          "AKUP i-love-my-mom Ceramic Mug",
          "AKUP keep-calm Ceramic Mug",
          "AKUP league-of-legends Ceramic Mug",
          "AKUP life-is-not-living Ceramic Mug",
          "Cookart Elegant S.S. Handi With Hot Pot Pack of 4 Casserole Set",
          "Shopmania Happy Birthday Gift For Starting Letter Q Ceramic Mug",
          "Shopmania Happy Birthday Gift For Starting Letter G Ceramic Mug",
          "SKI WINNER GIFT SET SKYBLUE02 2 Containers Lunch Box",
          "GAYATRI CREATIONS ORANGE KIDS SET 2 Containers Lunch Box",
          "Caffeine Handmade Tribal Print Influenced Katori Bowl (Set of 2) Stoneware Bowl Set",
          "Garnet Traveller 1500 ml Bottle",
          "oxford Tawa 15 cm cm diameter",
          "Omic Poto-Blue 1000 ml Sipper",
          "Prithish Alphabets With Illustrations Double Color Ceramic Mug",
          "Rockmantra Old Art Ceramic Mug",
          "Prithish Word of The Day: Bullshit Double Color Ceramic Mug",
          "Prithish Independence Day Design 7 Ceramic Mug",
          "Rockmantra Vintage Mini Leafs Ceramic Mug",
          "Rajesh Digital BEST DAD 107 Ceramic Mug",
          "Prithish Working on my own Grass Ceramic Mug",
          "Rockmantra Fantasy Art 18 Ceramic Mug",
          "Prithish Gemini Black Ceramic Mug",
          "Rockmantra Night City Ceramic Mug",
          "Prithish Hop Jump Skip Black Ceramic Mug",
          "Rockmantra Fogg Tree Ceramic Mug",
          "Rockmantra Red Flowers In Bucket Ceramic Mug",
          "Rockmantra Abstracts 16 Ceramic Mug",
          "Prithish Warm Up The Evil In Me Double Color Ceramic Mug",
          "Rockmantra Tele PhoneRMMW50000160 Ceramic Mug",
          "Prithish Abstract Design 40 Ceramic Mug",
          "Printland PMBA1044 Ceramic Mug",
          "Rockmantra Fantasy ArtRMMW50000330 Ceramic Mug",
          "Rockmantra Sonakshi Sinha Beautiful Look Ceramic Mug",
          "Prithish Monster Kids Ceramic Mug",
          "Printland PMR1336 Ceramic Mug",
          "Prithish Pscychological Illusions Design 5 Ceramic Mug",
          "Prithish Abstract Design 21 Ceramic Mug",
          "Rockmantra 3d Flawers 2 Ceramic Mug",
          "Rockmantra Cute Beautiful Girl Playing With Her Hair Ceramic Mug",
          "Printland PMR1918 Ceramic Mug",
          "Printland PMBA1872 Ceramic Mug",
          "Prithish Better Than Having You For A Husband Double Color Ceramic Mug",
          "Prithish Friend Indeed Ceramic Mug",
          "Prithish Merry Christmas Design 4 Double Color Ceramic Mug",
          "Rockmantra Classic Vintage Black Car Ceramic Mug",
          "Prithish Aries Black Ceramic Mug",
          "Prithish Believe In Yourself Double Color Ceramic Mug",
          "Printland PMBA1310 Ceramic Mug",
          "Rockmantra Colorful Ceramic Mug",
          "Rockmantra Cute Two Cats Ceramic Mug",
          "Prithish Happy Birthday Ceramic Mug",
          "Printland PMR1174 Ceramic Mug",
          "Printland PMR1464 Ceramic Mug",
          "Prithish Never Ever Give Up Ceramic Mug",
          "Prithish Eye Abstract Painting Ceramic Mug",
          "Prithish We're All Mad Here Ceramic Mug",
          "Rockmantra Abstrcts 8 Ceramic Mug",
          "Rockmantra Water Fire Ceramic Mug",
          "Prithish Independence Day Design 9 Double Color Ceramic Mug",
          "Prithish I'm A Mom. What'S Your Superpower? Red with Blue Bubbles Double Coloured Ceramic Mug",
          "Printland PMR1051 Ceramic Mug",
          "Printland PMR1834 Ceramic Mug",
          "Prithish I'm A Mom. What'S Your Superpower? Multicoloured Bubbles Black Ceramic Mug",
          "Rockmantra Beautiful Girl With Big Feather Hat Ceramic Mug",
          "Printland PMR1332 Ceramic Mug",
          "Printland CMW1670 Ceramic Mug",
          "Printland PMR1902 Ceramic Mug",
          "Rockmantra Blue Water Abstracts Ceramic Mug",
          "Prithish Pschedelic Collection 1 Ceramic Mug",
          "Printland CMW1657 Ceramic Mug",
          "Rockmantra Gamming Wallpaper Ceramic Mug",
          "Prithish Wild And Free Ceramic Mug",
          "Returnfavors Cartoon shaped Coffee For Kids Ceramic Mug",
          "Rockmantra 3D Stone Ceramic Mug",
          "Rockmantra Vintage Sea Evening Ceramic Mug",
          "Prithish Blue & Gold Heart, I Love You Ceramic Mug",
          "Famous Wheel Pizza Cutter",
          "Sam Rolling Pizza Cutter",
          "Step4deal Wheel Pizza Cutter",
          "Tirupati 4\"- Green Wheel Pizza Cutter",
          "King International Ergonomic Design with Long Gripped Handle Rolling Pizza Cutter",
          "Go Hooked Wheel Pizza Cutter",
          "Apex Rolling Pizza Cutter",
          "Agromech YIBOO Rolling Pizza Cutter",
          "JSM Hard Anodized Kadhai 4 L",
          "Celebrity Wheel Pizza Cutter",
          "Metallino Hard Anodised Kadhai 1.2 L",
          "Kosher Kadhai 5 L",
          "Recon SuperChef Kadhai",
          "Indian Art Villa 2.3\" X 6.9\" X 2.3\" Handmade High Quality Stainless Steel Copper Dish Serving Indian Food Daal Curry Karahi Kadai Wok Bowl Kadhai 0.7 L",
          "Suruchi Kadhai 4.5 L",
          "Bergner Kadhai NA L",
          "Kalash Kadhai 11.5 L",
          "Peacock Kadhai 3.8 L",
          "Leo Natura Paniarakkal 7 Hole Kadhai NA L",
          "Sumeet Hard Anodised 14 Kadhai 3 L",
          "Kalash Kadhai 3.5 L",
          "Metallino Kadhai NA L",
          "Metallino Hard Anodised WGlass Lid Kadhai 3.5 L",
          "Jaipan KD2.5 Kadhai 2.5 L",
          "Nirlon Kadhai 3 L",
          "Pristine Hard Anodised Kadhai 2 L",
          "Pigeon Kadhai 1.2 L",
          "Sahara Q Shop Kadhai 1.5 L",
          "Mom Italy Wheel Pizza Cutter",
          "Ndura Kadhai 1.7 L",
          "Supreme Cookwares Kadhai 1.5 L",
          "arnavs Multi1 Bottle Opener Set",
          "JayEnterprise Plastic Hand Juicer",
          "Elephant 9.84 inch Lid",
          "ocean VGLASS0051",
          "Prestige Deluxe Plus 10 L Pressure Cooker",
          "Milton Opaque Series 630 ml Water Bottle",
          "Milton School 750 ml Water Bottle",
          "vatika Advance Standard Idli Maker",
          "Ocean CPGW087",
          "giftsthatwow GTW-G-04",
          "giftsthatwow GTW-G-06",
          "Art n Beyond 150013",
          "posterchacha Ishita Personalised Custom Name Happy Birthday Gift Tea And Coffee  For Gift Use Ceramic Mug",
          "Kosher Kadhai 1 L",
          "Wonderchef Windsor Roaster 26cm Pot 3.4 L",
          "Geol Wooden Wet and Dry Broom",
          "Ornate 7 W LED Bulb",
          "NIKsales 7 W LED Bulb",
          "VRCT 5 W LED Bulb",
          "Simoco 7 W, 9 W, 12 W LED Bulb",
          "Soy Impulse LED Bulb",
          "Philips 9.5 W LED B22 3000K A55 IND Bulb",
          "Buyer's Beach BB349",
          "Nutcase Sticker Wrap Design - North 800 ml Bottle",
          "Nutcase Sticker Wrap Design - Pineapple 800 ml Bottle",
          "Nutcase Sticker Wrap Design - Gummy Bears 800 ml Bottle",
          "Nutcase Sticker Wrap Design - Mint & Grey Chevron 800 ml Bottle",
          "Nutcase Sticker Wrap Design - Teal & Pink Watercolors 800 ml Bottle",
          "Nutcase Sticker Wrap Design - Lucky Elements 800 ml Bottle",
          "Prisha India Craft m_jug015-1-prishaindia Water Jug",
          "Bhalaria Dessert Fork Stainless Steel Dessert Fork Set",
          "Checkered Chef Steel All-Purpose Scissor",
          "Deep kitchen press Steel Grater and Slicer",
          "Seven Seas Stainless Steel Twisting Pull Corkscrew",
          "Pedrini Steel Waiters Corkscrew",
          "AM Creation Magic  Ceramic Mug",
          "Happiness Is Printed Bone China Mug",
          "Lock&Lock Kitchen  - 5.5 L Polypropylene Multi-purpose Storage Container",
          "HuppmeGift Happy Birthday Navneet Inner Red Ceramic  (350ml) Ceramic Mug",
          "King Traders KI-BD-01 1 Kitchen Tool Set"
         ],
         "legendgroup": "Kitchen & Dining",
         "marker": {
          "color": "rgb(51, 34, 136)",
          "line": {
           "color": "DarkSlateGrey",
           "width": 2
          },
          "size": 12,
          "symbol": "circle"
         },
         "mode": "markers",
         "name": "Kitchen & Dining",
         "showlegend": true,
         "type": "scattergl",
         "x": {
          "bdata": "ZATcBUAEQARABEAETAS0BkwETASYB6EMsQToA8YFKQFMBEwETARMBEwETARMBEwETARMBEwETARMBEwETARMBEwETARMBEwETARMBEwETARMBEwETARMBEwETARMBEwETARMBEwETARMBEwETARMBEwETARMBEwETARMBEwETARMBEwETARMBEwETARMBEwETARMBEwETARMBEwETARMBJAEwgMwB0wEmANwF3ADTARMBIAWTARMBEwEqQHwCkwETAToAQACTATYA+cVSxJMBEwEiAhMBKEDJhCgAUwETAR/DPcDsAY/AZEA1QO+A0wETARMBPMDTARMBBAOJgV4BdgDJCFuAwgDTATfAN8AoADfAN8A3wD4AkwE2AWiA0wEGARMBMYETARMBHwE",
          "dtype": "i2"
         },
         "xaxis": "x",
         "y": {
          "bdata": "oATcBUwETARMBEwERwTPBO0D7AO/CTUJGwKHAogDTAT4A0wD7APuA0wDTAQfBEwD9wNMA/cDTANMA0wD7gNMAxgEvgNMA0wDGAQHBBgEGARMA0wDCQS+A+8D7gP4A0wD9wPuA74DTANMAxkECQQHBPEDGAQZBEwDTAPuA+0DCQQJBPoDTAMJBOEDBwRMA+4D4QNMAysEpwNMA0wDGARHBLAFUwk/BbcBTAR+C0wE1AEkBAAP3AE4AiEC/wDQBbMBnQGgANsBBQJDAmMMHQkbAvwB4ANMBL4CagoeAeMCcwM9CEwE4QVMBJABTARMBDkDOQN1AyoELQIRAqQEfgmgBUwEIiu/AmQFGwP0AfQB7wH0AfQB9AGHBGkDhAVMBNgCTATvARMETQPsA44C",
          "dtype": "i2"
         },
         "yaxis": "y"
        },
        {
         "customdata": [
          [
           "2d50e4c6ccf8befe9335ac8f97a11712.jpg"
          ],
          [
           "02a53d335775b652f22f41b529b9d646.jpg"
          ],
          [
           "24e85c590481a7cedfe66597f253f2b2.jpg"
          ],
          [
           "5e84d36ad6db970548498829db8b15de.jpg"
          ],
          [
           "3c4604dba348a99a2dfbbc2cd3928101.jpg"
          ],
          [
           "0abfcbe0e17dd50c4cf5fb1d6037d514.jpg"
          ],
          [
           "4a1b23dacd7d2a9ec7414f7159f25a48.jpg"
          ],
          [
           "95330f6f0f44d17b918feec36bedcdef.jpg"
          ],
          [
           "66a5a21ea332aefcc7b90dbad94053aa.jpg"
          ],
          [
           "1971dcd2f3058a4c87bdd7d87d4baeba.jpg"
          ],
          [
           "4942e0a9c0527dc00319a39fc8f103e6.jpg"
          ],
          [
           "5749bae8ccead7997ebf370b6b081d07.jpg"
          ],
          [
           "059493eeb88ebb4cc08d1522f3f87c3f.jpg"
          ],
          [
           "9613f2f1e65fb1fc7e181e7f83c217da.jpg"
          ],
          [
           "640fd08bb3ba538d67a5c0c2c61a5c4c.jpg"
          ],
          [
           "7241df1acae1fac892c692097ea3fb98.jpg"
          ],
          [
           "a85a7dbd31267a7b02eda3a4d484632d.jpg"
          ],
          [
           "13de17e59a92f8bcaec8bf103bbff8c1.jpg"
          ],
          [
           "23704dd51c975e845c574b044aae0a9f.jpg"
          ],
          [
           "ecb5bba9a5984d2b35b8ac3f56056c67.jpg"
          ],
          [
           "6c8f99e979d4de9ab5d1ad20455622c7.jpg"
          ],
          [
           "3adb36e4275733d0d113d9039e6814ea.jpg"
          ],
          [
           "e93cd13f5269dd51b8359ccf93ca5ace.jpg"
          ],
          [
           "b551f20c6a8a1dc3d102a5f04bc8d7d6.jpg"
          ],
          [
           "a898bd6978f9f2c6aa940b9fa3352c27.jpg"
          ],
          [
           "8e94fbcd81112a21860355b3b11cf52d.jpg"
          ],
          [
           "3ee79b1e51c9f9262e8373ce6b717606.jpg"
          ],
          [
           "48b9e7f78348b95955d7484910b7af15.jpg"
          ],
          [
           "3945cc3920106c04648e8ba17ef2b009.jpg"
          ],
          [
           "7c4c57dda1b2e50f40b331cc8f9d233b.jpg"
          ],
          [
           "f2689f048b3b6f0ff863bf0cce28873d.jpg"
          ],
          [
           "417ae3e8b08acc19a023b8a958644799.jpg"
          ],
          [
           "7680c6bf930669dc0646e3315187dc8c.jpg"
          ],
          [
           "fe1bd3e2be8112198506daecbac7dc5c.jpg"
          ],
          [
           "8963e56482bbd3e9d05e0709d61ee0ca.jpg"
          ],
          [
           "17a73d7c4b02ada2bfeed1115fed08a4.jpg"
          ],
          [
           "6e44d107ee32412243b19b0ed9b415f3.jpg"
          ],
          [
           "52c5fe837181962a7c1d5883bb9d7007.jpg"
          ],
          [
           "539f82930cfad8afef1a75882eb45703.jpg"
          ],
          [
           "9a02f44389bda4c60e7dc23947dbca58.jpg"
          ],
          [
           "79b78739b0ae84780001fec304ce036c.jpg"
          ],
          [
           "91e22428c0dd8871288ba5dac35a7382.jpg"
          ],
          [
           "4b0e6f200426b1db8824b2ca0c59ecfa.jpg"
          ],
          [
           "cc9412969fab14faba65c70e00fef4a8.jpg"
          ],
          [
           "dd0b73d97cea6cc71d263a77fa7982be.jpg"
          ],
          [
           "42c5c528ad7ac8ad7a4e7c31f958e25f.jpg"
          ],
          [
           "8932c9a89b487bf9f2b3fce06c7c6553.jpg"
          ],
          [
           "7bcabeb38f148041087fafdad40e2c57.jpg"
          ],
          [
           "47d7792e50e69b048b1f17176f170141.jpg"
          ],
          [
           "f386f28cbc2ca9a63b5dc7a8fe6d5098.jpg"
          ],
          [
           "b42a9b597a3a3dc8f428e2e2323e9aff.jpg"
          ],
          [
           "ea82cb68a6e79d3c10fe9c4255c6a508.jpg"
          ],
          [
           "df11d370920e09a2985e574ffd9b0ff1.jpg"
          ],
          [
           "4c096ad79f63c12a42f56fe8cec37f36.jpg"
          ],
          [
           "15f45d08050e8ba24a14804cba000589.jpg"
          ],
          [
           "94a0d2804a77f7d2bfab6f3f0ae5254d.jpg"
          ],
          [
           "955abcd11312fce2fd02a91a9b05ae71.jpg"
          ],
          [
           "079d049de21fb2426b516a8d2f9a8bdb.jpg"
          ],
          [
           "4c449766e715bc41023244c9042e0a82.jpg"
          ],
          [
           "67119571e4b46deb266236d8e7fad65d.jpg"
          ],
          [
           "f2fa99bfaa4aa65a2bd53337e140f949.jpg"
          ],
          [
           "59d964c38c787f829c6cfa5629e4df90.jpg"
          ],
          [
           "36b965559aa2b97cb961a603f18a9183.jpg"
          ],
          [
           "98ad5b99ad96695568d8f143b11ab740.jpg"
          ],
          [
           "51dc964c7a47293ff0ed0c6912813722.jpg"
          ],
          [
           "d376da2235096f74600d842b6f5f2d1a.jpg"
          ],
          [
           "ab3f4b2d2ec007b7e0eaec213bfdbffc.jpg"
          ],
          [
           "862c7462f12de819d93f93dc573289c5.jpg"
          ],
          [
           "387ecd9ec173d61b6dc5ceddc079b150.jpg"
          ],
          [
           "50be4cd92fda2755e1e884421a52e345.jpg"
          ],
          [
           "726de30d1473ecb9641c1cd5286b6344.jpg"
          ],
          [
           "07f8bdc4372a73d0820507683a936b6e.jpg"
          ],
          [
           "a231459c1562ee1117e95a61128820b7.jpg"
          ],
          [
           "fa6f5eb34be4ad5daec225bfe09f2414.jpg"
          ],
          [
           "a7a294ddbcd9bbbc46c034079529c17c.jpg"
          ],
          [
           "c6cd71c28144224b080cdec222bc4833.jpg"
          ],
          [
           "5c7b493625b5fc6689cae49d25e1ae17.jpg"
          ],
          [
           "f6fbce5fffb82a83d7529815c4be9a72.jpg"
          ],
          [
           "2d4f1232af970bd19881ceacad6ccfe3.jpg"
          ],
          [
           "b17d093c269db6ad3bf4b6076461fd72.jpg"
          ],
          [
           "723e472f98180745980efe32411d30c6.jpg"
          ],
          [
           "f74e1afad2c545c25ee38193d0eb87d5.jpg"
          ],
          [
           "1d829e0eac91d7e85cdd6d581c363360.jpg"
          ],
          [
           "0e1e3861d54a8a17b7b91f04071a4ca3.jpg"
          ],
          [
           "1be8161a259813bca5d068d5730464e7.jpg"
          ],
          [
           "b6c339777814451815fe7950fd4c8536.jpg"
          ],
          [
           "f8aa59c4a170e8a90ae832b173b2b2d9.jpg"
          ],
          [
           "4e09d5a71d46d61de3d4c9c5aedb73f2.jpg"
          ],
          [
           "17582ae953860b5320683768b8e97d3a.jpg"
          ],
          [
           "9b9fc81808086cfd1ce5a2b46e2f9926.jpg"
          ],
          [
           "ba9f3a5ab1517a644322d856a7d25946.jpg"
          ],
          [
           "1c0fdd598671f6f4e10b21435d766cf3.jpg"
          ],
          [
           "afc829d45be38102afaa20f4bce2f627.jpg"
          ],
          [
           "1fb0fc88acf0dc6ab9528c26252447e6.jpg"
          ],
          [
           "42a8fef62716772c391fbdd148cc9c16.jpg"
          ],
          [
           "e47b9f88b773b3fd97ab3b51642ff6fb.jpg"
          ],
          [
           "91795f4b0e4aac27314477a91b63bfb7.jpg"
          ],
          [
           "ead122f4b1da293eb2d719baf104dfc9.jpg"
          ],
          [
           "8396537a124f502d11ab99972c816129.jpg"
          ],
          [
           "6b5cdfe68595fbcab0e05dc625d3d66a.jpg"
          ],
          [
           "911a6efe69bde398fbbddcb0b4bb466f.jpg"
          ],
          [
           "d61b368146f83075937e144dab93c6a1.jpg"
          ],
          [
           "bc2aaae47829fd5825f6cc2ec51c2c5f.jpg"
          ],
          [
           "cdc33ed715261b08e315a2a19427bc23.jpg"
          ],
          [
           "c65fa0b38ab99792630468bd7dd26416.jpg"
          ],
          [
           "142994b421c052a6193052c6c8c3d076.jpg"
          ],
          [
           "cabeeb2c7f68a833964bf7329d360886.jpg"
          ],
          [
           "aa82b75da7579007963e53b6f818281b.jpg"
          ],
          [
           "e33795f66b2a42ac56095ae704ab25b6.jpg"
          ],
          [
           "1dbe1f3ba28460dffef4a1d664549621.jpg"
          ],
          [
           "5321f76936848ccc0003f6c11e923fb5.jpg"
          ],
          [
           "532fd66d24261d77d9d8b18cfd1ca0f2.jpg"
          ],
          [
           "2abb35d6affd2796e664349a747bd302.jpg"
          ],
          [
           "4f8f64f93f789af51bb07296639acbd2.jpg"
          ],
          [
           "dbb55b8da8c30cb67014d81405d98a41.jpg"
          ],
          [
           "141ab1fbe0f943463d4971098647000c.jpg"
          ],
          [
           "4676a8f96abb86c5d1dc5b06c7a11d95.jpg"
          ],
          [
           "a67d4b8df18ac476cd1b0bbd80e589a4.jpg"
          ],
          [
           "aba92798c4b2723e23131478d6c97293.jpg"
          ],
          [
           "9d20743a61f62fe6f9cdc5ff24d46d23.jpg"
          ],
          [
           "9993de7e2bcced43dc9edb3b2c81f23d.jpg"
          ],
          [
           "95ea40dc6c0e81407e13d70bd52a5c95.jpg"
          ],
          [
           "020d2daba55a723128e4e07c0b0393a9.jpg"
          ],
          [
           "648b52926285610670a756923b8a6f99.jpg"
          ],
          [
           "0b793c1727ef52285a25dedf8b86626b.jpg"
          ],
          [
           "9c06a95a82c3bd6635b9fe6e92b15902.jpg"
          ],
          [
           "d0af95243e993331c4357fdf90dc4692.jpg"
          ],
          [
           "f9f9cd4297b6667488785c2794a754f5.jpg"
          ],
          [
           "1d1be744e491ed61e705c20e4a72320d.jpg"
          ],
          [
           "a1fa0e24b2249ffa81f688c4840f1eb8.jpg"
          ],
          [
           "00d84a518e0550612fcfcba3b02b6255.jpg"
          ],
          [
           "a11773bc4188f1c6226b941ec61c2024.jpg"
          ],
          [
           "456ec612b30d4b091639843cdb66bf54.jpg"
          ],
          [
           "4b03cdfc7d1135c972e5c620dd7da66c.jpg"
          ],
          [
           "d3f4a4336324a3d180de23df1e75b9b7.jpg"
          ],
          [
           "a618354ba17cff64826558d81afc77ab.jpg"
          ],
          [
           "7b1c5edc85bc7e31edf49ab70034bb3a.jpg"
          ],
          [
           "2cc24452688ed35dfbff566e22e53c95.jpg"
          ],
          [
           "9c8fdf6c9c631d0892e9a6f55a4a2fd2.jpg"
          ],
          [
           "fa2e5f01bbb642c49e4b2e19d2b39dcf.jpg"
          ],
          [
           "edb97bd2433fd9de301c8a44344777bb.jpg"
          ],
          [
           "eaf55e90d0e4295cb84cb0276e78c35c.jpg"
          ],
          [
           "cb096f17218f0e4ccd7424963e2cd0f8.jpg"
          ],
          [
           "cf3e938bf6d66c65ce94f8c206ed0809.jpg"
          ],
          [
           "2651ce313a5a3aedb7c566394a3b3b26.jpg"
          ],
          [
           "b48218a94e220c20373ed50dc4254093.jpg"
          ],
          [
           "747b170919791d6111847d3485b5b77b.jpg"
          ],
          [
           "4d6bf06ef01f80130a1ab28dfdeb7aa3.jpg"
          ],
          [
           "7d2883d833e215d3092c7f53572f870d.jpg"
          ],
          [
           "7821fb1cbf8d3bb294c3c20527119f15.jpg"
          ]
         ],
         "hovertemplate": "<b>%{hovertext}</b><br><br>Catégorie=Beauty and Personal Care<br>largeur=%{x}<br>hauteur=%{y}<br>fichier=%{customdata[0]}<extra></extra>",
         "hovertext": [
          "Burt s Bees Hair Repair Shea And Grapefruit Deep Conditioner",
          "Suave Naturals Everlasting Sunshine Conditioner",
          "Borse N16 Make Up And Jewellery Vanity Case",
          "RYTHMX FB NAIL POLISHES BLACK LIPSTICKS IMPORTANT COMBO 51",
          "RYTHMX FB NAIL POLISHES BLACK LIPSTICKS IMPORTANT COMBO 60",
          "Brillare Science Dandruff Control Shampoo & Intenso Creme Combo",
          "Mars Queen Eye Liner, Lip Gloss, EyeLiner",
          "RYTHMX FB NAIL POLISHES BLACK LIPSTICKS IMPORTANT COMBO 47",
          "Aroma Care Intense Color Nail Polish Combo 175057 49.5 ml",
          "KE GIFT BOX STOR JEWELLARY Vanity Jewellery",
          "Giorgio Armani SMOOTH SILK LIP PENCIL 12",
          "Kuber Industries Bangle Four Roll & Ring & Earing Box Jewellery Vanity Pouch",
          "Thar Handloom Stylish Multicolor Jewellery Box Jewellery and Makeup items Vanity Case",
          "Goldencollections GC4353 Makeup and Jewellery Vanity Pouch",
          "SOS COMPUTRISED LCD INTRFERENTIAL UNIT-125PROG. MUSCLE SPASM Electrotherapy Device",
          "Sally Hansen La Cross 5 Pcs Festival Grooming Kit",
          "Svayam Premium Manicure Duo - Stainless Steel",
          "Go Bonjour Stainless Steel 9 pc Manicure Kit",
          "Equinox EB-EQ 33 Body Fat Analyzer",
          "Wild Stone Red And Juice Combo Set",
          "Adidas Ice Drive and Dynamic Pulse Combo Set",
          "Vincent Valentine Paris Set of Dark Fire, Dark Fire & Majesty Deodorants Combo Set",
          "Denver RO,Black Code Gift Set  Combo Set",
          "Wild Stone Smoke And Juice Combo Set",
          "Archies VJ-552 Combo Set",
          "Denver Sport,Hamilton Combo Set",
          "Layer'r Shot Compact Impact ,Explode And Turbo Body Spray (Pack Of 3) Combo Set",
          "Archies VJ-556 Combo Set",
          "Anna Andre Paris Majesty & Floralina Combo Set",
          "Adidas Dynamic Pulse and Team Force Combo Set",
          "Park Avenue Believe Deodorant ,Orignal EDP Combo Set",
          "Kamasutra Combo Offer Pack Combo Set",
          "Arabian Nights Evolve Combo Set",
          "Adidas Get Ready and Natural Vitality Combo Set",
          "Engage Blush and Drizzle Combo Set",
          "Envy-1000 Force Combo Set",
          "Anna Andre Paris Majesty Deodorant Combo Set",
          "Yardley Red Roses and Lace Combo Set",
          "Nivea Fresh Power Boost Deo Combo Combo Set",
          "Playboy London And Berlin Combo Set",
          "Yardley Jasmine and Lace Satin Combo Set",
          "Spinz Combo Set",
          "Park Avenue Believe Spray ,Four Seasons EDP Combo Set",
          "Nike Casual Combo Set",
          "Aero Care La Royal Orange & Ice Combo Set",
          "Vincent Valentine Paris Set of New Dark & Dark Fire Deodorants Combo Set",
          "Aero Care Ice & Blue 4 Men Combo Set",
          "Beverly Hills Polo Club BLUE Gift Set  Combo Set",
          "Beverly Hills Polo Club RED Gift Set  Combo Set",
          "Denver Caliber,Pride Combo Set",
          "Anna Andre Paris Floralina & Red Horizon Combo Set",
          "Wild Stone Charge,Surge Combo Set",
          "Addiction Rio,Hawaii Combo Set",
          "Adidas Ice Dive Combo Set",
          "Denver Hamilton Pride Combo Set",
          "Nike Original Combo Set",
          "Engage Rush , Jump Combo Set",
          "Envy 1000 Intense,Magnetic Combo Set",
          "Vincent Valentine Paris Set of Dark Fire & Dark Magic Deodorants Combo Set",
          "Denver Rage Hamilton Honour Combo Set",
          "Archies VJ-580 Combo Set",
          "French Factor Man of the Year Deodorant Gift Set  Combo Set",
          "Fogg Dynamic,Magnetic Combo Set",
          "Anna Andre Paris Set of Dark Fire & Numero 1 Deodorants Combo Set",
          "Playboy New York Combo Set",
          "Wild Stone Drift,Wave Combo Set",
          "Engage Tease and Tease Combo Set",
          "Nike Orange Combo Set",
          "Denver Brave,Caliber Combo Set",
          "Denim Deo Combo Set",
          "Cinthol Deo Spray - Intense (Pack of 2) Combo Set",
          "Playboy London And Malibu Combo Set",
          "Denver Cool,Honour Combo Set",
          "Yardley Gold Combo Set",
          "Wild Stone Deodorant No-22 Combo Set",
          "Adidas Ice Dive and Adidas Victory League Combo Set",
          "Aero Care Blue 4 Lady Combo Set",
          "Denver RO,Spring Combo Set",
          "Playboy London And New York Combo Set",
          "Ajmal Titanium and Expedition Combo Set",
          "Playboy Berlin Combo Set",
          "Yardley 12 Combo Set",
          "Denim Deo Original & Passion 150ml Gift Set  Combo Set",
          "Clear Face Kesar Chandan Multivitamin Nourishing Skin Cream With Almond Honey Skin Cream",
          "Majik Styling Decoration Hair Clip",
          "HomeEdge Solid Wood King Bed",
          "NAMS 06 Fully Automatic Pulse Oximeter",
          "TIGI BED HEAD COLOUR GODDESS OIL INFUSED CONDITIONER",
          "Garnier Nutrisse Haircolor Hair Color",
          "OGX Sunkissed Blonde Lemon Highlights Conditioner",
          "Allin Exporters Fennel Oil (Co2 Extract)",
          "Allin Exporters Cumin Seed Oil (Co2 Extract)",
          "Soulful Threads Red Thread Aari Embroidered Black Net Clips Vanity Multi Purpose",
          "Aapno Rajasthan Lovely Jewellery Vanity Jewellery",
          "MohanJodero Jewellery Box Jewellery Vanity Jewellery",
          "Sarah Stylish Hair Claw",
          "VLCC Natural Sciences Oil Free Sunscreen Gel SPF 15 (Pack of 2) - SPF 15",
          "Lotus Safe Sun UV Screen MatteGel - SPF 50 PA+++",
          "Oshea Herbals UVSHIELD - Sunscreen Gel - SPF 20 PA+",
          "Richfeel Sunshield - SPF 30 PA++",
          "Keya Seth Umbrella Protex Heat Proof Sunscreen Solution - SPF 75 PA+++",
          "Jovees Anjeer & Carrot Sunblock (Pack of 2) - SPF 45",
          "Whiteherbs Ultra Protection Sunscreen Lotion - SPF 30 PA+",
          "Oriflame Sweden Sun Zone UV Protector Face and Exposed Areas High - SPF 50 PA++",
          "Aveeno Protect + Hydrate Broad Spectrum Spf 70 Sunscreen Lotion - SPF 70 PA+",
          "La Roche-Posay Anthelios XL Fluid Dry Touch Gel-Cream - SPF 50 PA+",
          "Foolzy Pack of 24 Lipsticks 84 g",
          "AntiqueShop ABKL_GRN_GRN_GRN",
          "AntiqueShop ABKL_PL_PNK_PNK",
          "AntiqueShop ABKL_PL_PL_PNK",
          "Mxofere Combo Papaya Aloevera Jasmine Rose Almond Honey Soap Kit",
          "Mxofere Combo Lavender Rose Jasmine Papaya Aloevera Soap Kit",
          "Oxyglow Fruit Massage Cream With Vitamin-E & Almond Under Eye Repair Care",
          "Oxyglow Saffron with vitamin-E Gold Massage Cream & Almond Under Eye Repair Care",
          "Mxofere Combo Orange Papaya Jasmine Lemongrass Almond Honey Soap Kit",
          "Mxofere Combo Rose Jasmine Almond Honey Aloevera Mixfruit Soap Kit",
          "Wild Ferns Manuka Honey Intensive Eye Creme",
          "Wild Ferns Lanolin Eye Creme with Collagen, Vitamins A & E",
          "Mxofere Combo Mix Fruit Soap And Aloevera Lemon Facewash Kit",
          "Oxyglow Golden Glow Oxy Bleach & Fruit Massage Cream With Vitamin-E 200gm",
          "Oxyglow Golden Glow Radiance Anti Acne Facial Kit & Fruit Massage Cream With Vitamin-E 200gm",
          "Oxyglow Fruit Massage Cream With Vitamin-E & Aleo Vera, Apple Face Massage Gel",
          "Oxyglow Fruit Massage Cream With Vitamin-E & Gold Facial Kit",
          "Oxyglow Fruit Massage Cream With Vitamin-E & Lip Balm",
          "Oxyglow Bearberry Face Wash & Fruit Massage Cream With Vitamin-E",
          "Mxofere Combo Papaya Mixfruit Almond Honey Orange Rose Soap Kit",
          "Mxofere Combo Sandal Turmeric Almond Honey Jasmine Aloevera Mixfruit Soap Kit",
          "Mxofere Combo Jasmine Papaya Almond Honey Orange Mixfruit Soap Kit",
          "Oxyglow Lacto Bleach & Fruit Massage Cream With Vitamin-E",
          "Oxyglow Fruit Massage Cream With Vitamin-E & Shea Butter & Kokum Butter",
          "Mxofere Combo Rose Soap And Aloevera Lemon Facewash Kit",
          "Sivanna Baking Powder Rouge  Highlighter",
          "SSCP Pine Oil",
          "KDS SURGICAL Tripod Walking Stick",
          "Loreal Diarichesse No- 5 Light Brown ( Pack of 3 )With 20 Vol 6 % Developer Hair Color",
          "Elfani Brilliance Lip Color 3.5 g",
          "Incolor Metalic Lipstick N15 3.8 g",
          "Organistick Silver Label Lipstick 10 g",
          "NYX Set Of 2 Soft Matte Lip Cream 06,22",
          "LOTTIE LONDON MAKE ME BLUSH",
          "Artist Haat Vanity Box Makeup and Jewellery Vanity Jewellery",
          "Craftuno Handcrafted Paper Mache Box - Set of 3 Showpiece Vanity Decorative",
          "Milani Runway shadow Wet/Dry Black Out 3 g",
          "e.l.f. Cosmetics Studio brow Kit Ash Brow Makeup Brush Mirror Girly Elf Fun Sexy 3 g",
          "Aster Luxury Arabic Oudh Bathing Bar - Pack of 4",
          "LAWMAN PG3 Striker,, Winger , Contender Deodorant Spray  -  For Men",
          "Good Way Peppermint Lip Balm Pepper",
          "OMRD RD6697 Hot and cold Pack",
          "Kerastase Nutritive Bain Satin 1 Complete Nutrition Shampoo",
          "Surgical e Sstudio S0004 Gown, Pant Hospital Scrub"
         ],
         "legendgroup": "Beauty and Personal Care",
         "marker": {
          "color": "rgb(170, 68, 153)",
          "line": {
           "color": "DarkSlateGrey",
           "width": 2
          },
          "size": 12,
          "symbol": "circle"
         },
         "mode": "markers",
         "name": "Beauty and Personal Care",
         "showlegend": true,
         "type": "scattergl",
         "x": {
          "bdata": "mQFYATcFTARMBM8C8AJMBCIGTARMBEwEcAVMBDYNkAExBOUCkAEKAxoDrwGpAlUDCgP1B7gD6gJjAigDTAQNBBYCjgJKAgoChgJNAjsERgFyAuEBTASiBpsCYwKtAocDfQRACmQCngb9A1sBBwOPBacCXQ4QAS4DiAMYA/UJEQFXA5gIQAIABg0IKgTYAjABCgg4AwsDcAGbAvkCJQHOAkwDAQNPA7oDTARMBAAGSQE5AhwEpgNyAUMMTASWA4UEQQPLAasBKwS7AQcE9QH8AY4B2ABMBAQI6AdYCCcFJgVMBEwEfwVJBS8CkAFMBEwETARMBEwETATLA9YE/QQ5BUwETARMBBgKTgQPAUwE8gVFBS4C+AkPAQAHAQZMBEwE/QLXBkwETATEAJEI",
          "dtype": "i2"
         },
         "xaxis": "x",
         "y": {
          "bdata": "TARMBFwHpwOnA0wEtAWuA1UErwL+AaECQAZ5Au8GyAFMBLQGVgFMBEwE8AFMBEwETARdC0wETARMBEwENANYBBMDTARMBEwETARMBIIEnAFMBNACNAOdCUwETARMBPUG1Ab7CkwEiwl5BMQBTASkCUwEuAvgAUwETARJBcQJ8QFMBMkJTASgCVwLTAQABJQBXAtMBEwE5QFMBEwElAFMBEwETARMBAQCTATeAnEFTARMBEwETARMBD0HaQOwBcACugNMBLwDxwRMBEwETARMBEwE9AE6A1AFOAWeBfAB8AEiAkkC8AHwAacB/wCeAxUCKgIVAikCrQJMBPAB8AHwAS0C+AJZA9gJNAtMBEwEggndCQEJkAjWBMID4AIKBPoDTASoBoADoQKQASEO",
          "dtype": "i2"
         },
         "yaxis": "y"
        },
        {
         "customdata": [
          [
           "d1899ab1d5c79ddaa311bc9f04d198ed.jpg"
          ],
          [
           "b4d35b6536b623c83b293eb3a1c02bba.jpg"
          ],
          [
           "6329ddb46087cb8c09ced95471dd9643.jpg"
          ],
          [
           "7e6ae1b372e8e0b509b83ba3658b8107.jpg"
          ],
          [
           "e2ae2af58ac50adf4881751ae84a9d8a.jpg"
          ],
          [
           "e8ee7868b0c3d1d04b482cd4f3ec5ccc.jpg"
          ],
          [
           "8e8f5dc78f80eff3c77a9714303f59d2.jpg"
          ],
          [
           "db6c79a1d852944a89e157793f392d67.jpg"
          ],
          [
           "a63eecfbb02004863fa1f29a0b8105fc.jpg"
          ],
          [
           "458c697fe5824552890b0e674cf5c109.jpg"
          ],
          [
           "64b463dc0b75ae40a848498c657041e6.jpg"
          ],
          [
           "c20bf28cd809790c04e78fdaf47c038f.jpg"
          ],
          [
           "fd2716d0e5dd7ffc367ca4dd9f97aaa0.jpg"
          ],
          [
           "5df72b5295dc5e6126693e640b50f3a2.jpg"
          ],
          [
           "f309bdd259c5b46a560bc1620e641947.jpg"
          ],
          [
           "a43fbae655e5d13215b9dd65339fa9d4.jpg"
          ],
          [
           "c75d6d827876b0d0127acb59e5a251ee.jpg"
          ],
          [
           "f3ad282dac6ef0e30585a49ac67a322b.jpg"
          ],
          [
           "cb0afa31d9ca796908fde019cd64044d.jpg"
          ],
          [
           "394c2c627914e1eed9b8ac343583a679.jpg"
          ],
          [
           "473b1ab1abe21826c41efa1584a88a63.jpg"
          ],
          [
           "d4b625befbbb7e8004e53c187f286e11.jpg"
          ],
          [
           "353ddb2c8ab6920d8ad1055abee87dda.jpg"
          ],
          [
           "6634de7b39a5b0658c74ab098450096d.jpg"
          ],
          [
           "9a993e1b59649c93f667d38227325066.jpg"
          ],
          [
           "fce2bd96b35d531a4784bc57e19aca4f.jpg"
          ],
          [
           "9743e6d1c9f3180483825fe4d2e97836.jpg"
          ],
          [
           "d43d9bb261aaaf818c81a645e727b2d3.jpg"
          ],
          [
           "7ba69836467fe0795bf0e1161fc481d9.jpg"
          ],
          [
           "02c63a087b298ec74042d557acf61be1.jpg"
          ],
          [
           "2670ba9bc61b42937773486ddcae442a.jpg"
          ],
          [
           "9438a0874e0486f46f3669cac6c2ac90.jpg"
          ],
          [
           "833a87b0af3b84fe246d2ebf271af177.jpg"
          ],
          [
           "b5b47b2ecf5cf5760051b0a980ed7a3f.jpg"
          ],
          [
           "c8e2c85eccdc9db55eeb2231385e4f1c.jpg"
          ],
          [
           "26989e846c2096a5b59b59cbea2cc7ab.jpg"
          ],
          [
           "b4327c9879644be2a04e9b2df963f6cb.jpg"
          ],
          [
           "884ff6050ff3d6b2c8f681c300a21b2a.jpg"
          ],
          [
           "53c4f1e5cb1767f1a6ba05d32dfaf107.jpg"
          ],
          [
           "2a20862f02555a44b0ab301bed987a0b.jpg"
          ],
          [
           "5c6b9db55291a68d99c4bb9a88266e27.jpg"
          ],
          [
           "534d9c3ae2342df2f4f9233622f90711.jpg"
          ],
          [
           "1eda39f01d0a8a2e5ce4b32fc7da1027.jpg"
          ],
          [
           "54754ccd18f2a75c53de68806176392a.jpg"
          ],
          [
           "ae19a81b730b48b87ca72521af8fb902.jpg"
          ],
          [
           "7fd12776e6d62da6e1dd3cbc9882ee5f.jpg"
          ],
          [
           "bd95002e0fea67f7ec2f2597814c5eaf.jpg"
          ],
          [
           "c2e71e7c97489d4efa5eab796ae354ac.jpg"
          ],
          [
           "215decf6f993d7b45d75520d9174493f.jpg"
          ],
          [
           "8720a25546a572b0217817a82bfd00a5.jpg"
          ],
          [
           "4fe24e100a5fcc33cf6054ef101067ed.jpg"
          ],
          [
           "b1c7aa8e0f50e7ee73ed30d12af1a961.jpg"
          ],
          [
           "dbf7c443a45d684944b5d9928eef051f.jpg"
          ],
          [
           "e39177ad1acf95e44ddd430bf969a86b.jpg"
          ],
          [
           "d36e6f157d1155369f763a0a434fb129.jpg"
          ],
          [
           "e365b55f806e5d0abe0094a9f2590e33.jpg"
          ],
          [
           "6c3768639e82ceaeab681e083b897672.jpg"
          ],
          [
           "f25d2701ff23f6749e8e69ca17987993.jpg"
          ],
          [
           "00e966a5049a262cfc72e6bbf68b80e7.jpg"
          ],
          [
           "60a7313ea1e0ee8d845a0a6dec6117cc.jpg"
          ],
          [
           "4735953b9c8504eb327675a14c6c33dd.jpg"
          ],
          [
           "9fb8662af03c957ade34d4c816d4e903.jpg"
          ],
          [
           "281dfd9b94b34362c295b3e5f8da5dfa.jpg"
          ],
          [
           "7f2f1f3039d1f5bc23226fc36577eab9.jpg"
          ],
          [
           "32f24a4303050f500dec7cb3608fe089.jpg"
          ],
          [
           "ea199e645da893f2ab0c45cf07face13.jpg"
          ],
          [
           "3ccceaae844f34180708cb6cba3441bf.jpg"
          ],
          [
           "d8ef80a8ba345dedc9f944cf21201988.jpg"
          ],
          [
           "d7fded8e211b3033e424fb450b97caec.jpg"
          ],
          [
           "8e961e4fd248c9496ca54808d2d2b25f.jpg"
          ],
          [
           "650e27dff8f645649353743f64e03f77.jpg"
          ],
          [
           "209bf06a732416f1ce5147a8b0524808.jpg"
          ],
          [
           "88ca277594f22bb7494f2d0bbc51f8ba.jpg"
          ],
          [
           "9f9bb0ef3bb8af571bcfbfa1a22150bd.jpg"
          ],
          [
           "a76bf8400b3dbcdbe5a5678f4a8ea0f6.jpg"
          ],
          [
           "a863d956964ed41b7c90f5138dc69db5.jpg"
          ],
          [
           "bb18279e9885136f1dbc8676d4af94e3.jpg"
          ],
          [
           "44b963eb856b4831dfdd21b666593c95.jpg"
          ],
          [
           "77f659d4d18381c991fb9210e05d9c1b.jpg"
          ],
          [
           "98659fb98a4fe903f21f5c315adbaede.jpg"
          ],
          [
           "0d02f4703fde00645704e15bba23e77d.jpg"
          ],
          [
           "5a5bb03499009f35759258263fc834a3.jpg"
          ],
          [
           "9a8fa4fd6524ada03411b033a9daadc1.jpg"
          ],
          [
           "964648862f322b2cc153239af04b22ef.jpg"
          ],
          [
           "a8e2698d5bd4347f8136c86104ae03e3.jpg"
          ],
          [
           "dfecd0265b899cb36fbb1fddc6f861a4.jpg"
          ],
          [
           "cd089e2ef349a7f00dcdbf28965914f6.jpg"
          ],
          [
           "8ccc970bf4c55e9b2710d5319161c357.jpg"
          ],
          [
           "2580f7559802e4e5e3695fda6cbfc317.jpg"
          ],
          [
           "379ebeb2ad76333ab67afe292688512d.jpg"
          ],
          [
           "9dc48a756ba86bbf6934ec6ddf9da03d.jpg"
          ],
          [
           "4e57e21d903b752a6b5aa496a43f1590.jpg"
          ],
          [
           "621a88993a7033df3440ec816c2e386f.jpg"
          ],
          [
           "291d5ff1e50dac3058cf10578f692085.jpg"
          ],
          [
           "85aec4bf3185da7ebcc45003429cbfe2.jpg"
          ],
          [
           "bcb8e456728013a90ba66ab3b1b783ad.jpg"
          ],
          [
           "aeb421e416716d5f037d50e8c3b14cd7.jpg"
          ],
          [
           "86a39f77de21aa9654e8ea03335244fc.jpg"
          ],
          [
           "470ff3c4e22d237f5a75ac07225e513e.jpg"
          ],
          [
           "fd53c8ed19e77c3e65d767e6aee5fad7.jpg"
          ],
          [
           "93f45475c82bdee6df73c6e08011b7da.jpg"
          ],
          [
           "9f141b3c3d9096f5a897d01b48e3b360.jpg"
          ],
          [
           "952a100cf3a5bdf2d655e9cdca0e9dd5.jpg"
          ],
          [
           "d86f260ff28af531443f822c11746521.jpg"
          ],
          [
           "4354b7418ee0fab2fd9f8eb493556529.jpg"
          ],
          [
           "95b0779b1a04ab70d62c72b53090c4b3.jpg"
          ],
          [
           "078b35be31e8ac99b0cbb817dab4c23f.jpg"
          ],
          [
           "6e7cc21610991cab64595af678e8eb5a.jpg"
          ],
          [
           "00ed03657cedbe4663eff2d7fa702a33.jpg"
          ],
          [
           "c5720509a67da707afcb6f4f0282d529.jpg"
          ],
          [
           "9a9402ad55d079c86c302521816b7b0e.jpg"
          ],
          [
           "28e3f1e490cfc4b47bfb50671ff93283.jpg"
          ],
          [
           "e426290a8f57e82680275bb91df91ad1.jpg"
          ],
          [
           "fc9a650d545a50c72556bed0df59efa1.jpg"
          ],
          [
           "812bfd40e47dfde2ff5326e899b42577.jpg"
          ],
          [
           "01089dc3618a0ab7304d784ef400b83d.jpg"
          ],
          [
           "de47d0cc0c4875fb97530f66d934c894.jpg"
          ],
          [
           "e86daf9ebcdfc5c5dd088cdb7f8f8db6.jpg"
          ],
          [
           "2c475daafe597ed93c1e27fcaa38d8cc.jpg"
          ],
          [
           "82466269245f199d7f850509307a497b.jpg"
          ],
          [
           "4f708bc74c4d29b2967dc38a1f5ae6d5.jpg"
          ],
          [
           "41dccf212ff447cd7213a2b1e669e406.jpg"
          ],
          [
           "c612bdfa459e1e2f20d57348336c24be.jpg"
          ],
          [
           "fc009e0b404034e5ea065ba980917f33.jpg"
          ],
          [
           "9da942796e9fac272db50b2f7546b94a.jpg"
          ],
          [
           "70af4c3c05688d8400632e134f258b98.jpg"
          ],
          [
           "146b0d570d5ab4e27629d48533b7680d.jpg"
          ],
          [
           "136f213080426c35520f1b1540c4a390.jpg"
          ],
          [
           "7cdc62f8d3f7ab8b9d2dddc14c86de83.jpg"
          ],
          [
           "568f331e1039bf2e0635b899c2b3248f.jpg"
          ],
          [
           "a41371b2f8859b015031f0d5eda5184c.jpg"
          ],
          [
           "fffa2117a4006d4a848eb7d5b80d4816.jpg"
          ],
          [
           "eedee8680f0ed35dcf612c6774affe83.jpg"
          ],
          [
           "6136976dc5a433cdf8e2559b8510bdce.jpg"
          ],
          [
           "ad08a6efe82576ab162a9336feff647f.jpg"
          ],
          [
           "832a66ce379b4c98fd3d748eebd7ae4c.jpg"
          ],
          [
           "19d2dbc1789653c58bce08c169662cf2.jpg"
          ],
          [
           "5bc04e6a0b6256dc78bb9cb22b39ef41.jpg"
          ],
          [
           "eeecf5d16fa6591290706f1fd0c6fc6e.jpg"
          ],
          [
           "6057d1b6682ab473a3fe2ca8b4577259.jpg"
          ],
          [
           "031c98cfde349d99fb6d5983f54c8751.jpg"
          ],
          [
           "8141b9d5af35017a907b1e88c17f7963.jpg"
          ],
          [
           "b7214d4c357e3f7acae72fcbe7d31afe.jpg"
          ],
          [
           "7fd3f7b35e8b4a66432c974c8cb5c46d.jpg"
          ],
          [
           "30ad2acaccdd2e1691a61c44079c2b5a.jpg"
          ],
          [
           "9b805665a791f40e7946a73dcea17e35.jpg"
          ],
          [
           "b5834f1e97c74d2833dbcb09a3f27926.jpg"
          ],
          [
           "7815fb39feb773db944c9f03bbdcbf64.jpg"
          ],
          [
           "d407ab825e1a266635214bfe893f29c4.jpg"
          ],
          [
           "5a54c78b52c984e56500809e5bc27ae1.jpg"
          ]
         ],
         "hovertemplate": "<b>%{hovertext}</b><br><br>Catégorie=Computers<br>largeur=%{x}<br>hauteur=%{y}<br>fichier=%{customdata[0]}<extra></extra>",
         "hovertext": [
          "D-Link DAP1320",
          "RoQ Slim Multimedia 105key Flexible Wired USB Flexible Keyboard",
          "JRB 1038 Smallest Mobile Powered By OTG Enabled Android Smart Phone Portable 1038 USB Fan",
          "JRB 1033 Smallest Mobile Powered By OTG Enabled Android Smart Phone Portable 1033 USB Fan",
          "JRB 1042 Smallest Mobile Powered By OTG Enabled Android Smart Phone Portable 1042 USB Fan",
          "Eureka.in GSEB Class VII",
          "Filink 310 Black Toner",
          "FRENEMY MPAD271 Mousepad",
          "Shopizone BMW Wheel 32 GB  Pen Drive",
          "I Ball IBCTDC 160/2gb/DDR2 with Dual Core 2 RAM 160 Hard Disk",
          "Linksys Smart Wi-Fi Router",
          "Intex W150D",
          "Asus Wireless AC2400 Dual-band Gigabit Router",
          "Apple MD199HN/A",
          "Tenda TE-F452",
          "Huawei WS331c -300 Mbps Wireless Range Extender",
          "TRENDnet TEW-752DRU",
          "Edimax BR-6428NC",
          "Asus RT-AC68U Dual-band Wireless-AC1900 Gigabit Router",
          "Asus RT-N12 LX 300Mbps Wireless Router",
          "TRENDnet N150 Wireless ADSL 2 Modem Router",
          "Binatone WR3000N",
          "Tenda A5",
          "D-Link DIR-816 Wireless AC750 Dual Band Router",
          "Edimax AR-7286WNA",
          "Belkin Share Modem (N) Router",
          "Apple AirPort Express Base Station Wireless Router",
          "TRENDnet THA-101 N300 Router",
          "Zyxel 3D 1440 - 3G Data Card",
          "Tenda TE-W368R",
          "TP-LINK TL-WR702N 150Mbps Wireless N Nano Router",
          "Edimax AR-7182WNA",
          "Zyxel PLA-4205",
          "Asus DSL-N10E Wireless-N150 ADSL Modem Router",
          "Edimax BR-6288ACL",
          "Tenda A6",
          "Tenda FH330",
          "TP-Link Archer C20 AC750 Dual Band Router",
          "Tenda 3G300M",
          "Netgear JWNR2010 N300 Wireless Router",
          "Edimax BR6524N N300 Wireless Router",
          "Netgear AC 750 Wi-Fi Range Extender",
          "iBall wr7011a",
          "Netis WF-2301",
          "TP-LINK 4-Port Cable/DSL/TL-R460",
          "Asus DSL-N10_C1",
          "TRENDnet TEW-737HRE",
          "Zyxel VMG1312-B10A VDSL2 Wireless N VDSL2 4-port Gateway with USB",
          "Netgear D3600 N600 Dual Band Gigabit Wi-Fi Modem Router",
          "D-Link DSL-2520U",
          "TP-LINK TD-W8970",
          "Airtel B310s-927",
          "TRENDnet N300 Wireless Home Router",
          "Asus RP-N53 Dual-Band Wireless-N600 Range Extender",
          "Digisol DG-BG4100N",
          "Tenda 3G622R+",
          "D-Link DSL-2750U Wireless N 300 ADSL2+ 4-Port Wi-Fi",
          "Netgear WN3000RP Universal Wi-Fi Range Extender",
          "YGS Keyboard Case for Asus Memo Pad 7in Tab",
          "Zingalalaa LP-50 50 lm LED Corded Portable Projector",
          "Smartpro 19.5v,3.9a Replacement Charger for Vaio Series VGN-CR540E/L 75 Adapter",
          "Smartpro 19.5v,3.9a Replacement Charger for Vaio Series VGN-CR309E 75 Adapter",
          "Smartpro 19.5v,3.9a Replacement Charger for Vaio Series VGN-CR490EBW 75 Adapter",
          "Smartpro 19.5v,3.9a Replacement Charger for Vaio Series VGN-CR13G/L 75 Adapter",
          "Smartpro 19.5v,3.9a Replacement Charger for Vaio Series VGN-CR305E/L 75 Adapter",
          "Smartpro 19.5v,3.9a Replacement Charger for Vaio Series VGN-CR190E/R 75 Adapter",
          "Smartpro 19.5v,3.9a Replacement Charger for Vaio Series VGN-CR390E/B 75 Adapter",
          "Hako 45W Magsafe Laptop Charger For APPLE MacBook Air 13 MB003JA 45 Adapter",
          "Hako 85W Magsafe Laptop Charger For APPLE MacBook Pro 17 MA897LLA 85 Adapter",
          "Hako 60W Magsafe Laptop Charger For APPLE MacBook Pro13 MB990XA 60 Adapter",
          "HP v220w 16 GB  Pen Drive",
          "Lapguard Toshiba Satellite Pro A200 6 Cell Laptop Battery",
          "HP Pavilion DV7t-6100 Series 6 Cell Laptop Battery",
          "Lapguard HP Pavilion DV7-6000 Series 6 Cell Laptop Battery",
          "ARB HP Pavilion dv5t-1000 Replacement 6 Cell Laptop Battery",
          "4D Lenovo IdeaPad Y430g 6 Cell Laptop Battery",
          "Clublaptop Lenovo L08O6C02 6 Cell Laptop Battery",
          "Lapguard Lenovo IdeaPad V470 6 Cell Laptop Battery",
          "HP Pavilion DV6-2070eo 6 Cell Laptop Battery",
          "Lapguard Dell U661H Compatible Black 6 Cell Laptop Battery",
          "Rega IT Hp Pavilion DV6-6080SF DV6-6081EI 12 Cell 12 Cell Laptop Battery",
          "Lapguard HP Pavilion DV4129EA Compatible Black 6 Cell Laptop Battery",
          "HP Compaq Presario CQ43 6 Cell Laptop Battery",
          "ARB Toshiba Dynabook SS MX/395LS Compatible Black 6 Cell Laptop Battery",
          "Rega IT Hp Pavilion DV6170EA DV6171CL 12 Cell 12 Cell Laptop Battery",
          "Lapguard Acer Aspire 4741G-5464G50Mn Replacement 6 Cell Laptop Battery",
          "Lapguard HP Pavilion dv5-1008ax 6 Cell Laptop Battery",
          "Rega IT Gateway MD7822 MD-7822 MD7822U 6 Cell Laptop Battery",
          "Rega IT Hp Pavilion DV2535TX DV2536TX 12 Cell 12 Cell Laptop Battery",
          "Lapguard HP Pavilion dv5-1015nr 6 Cell Laptop Battery",
          "Lapguard HP Pavilion dv5-1014tx 6 Cell Laptop Battery",
          "Lapguard HP Pavilion dv5-1020el 6 Cell Laptop Battery",
          "Shopfloor.XYZ Vacuum Cleaner for Computers, Laptops, Mobiles",
          "Saco Karbonn Smart Ta Fone A37 Hd Tablet Wired USB Tablet Keyboard",
          "HP 15-ac116TX (Notebook) (Core i3 (5th Gen)/ 4GB/ 1TB/ Win10/ 2GB Graph) (N8M19PA)",
          "HP 15-ac121tu (Notebook) (Core i3 (5th Gen)/ 4GB/ 1TB/ Win10) (N8M17PA)",
          "Sunlast 16 inch Laptop Backpack",
          "Intel 3.2 GHz LGA 1150 3250 Processor",
          "Canon Toner Cartridge 416 Black",
          "Pindia Apple Macbook Pro 13 13.3 Inch Mb990hn/A & Mb990ll/A USB Yellow Anti-dust Plug",
          "Lapguard SONY VAIO VGN-NW270DB_90 90 Adapter",
          "Rega IT Hp Pavilion G6-1240SG G6-1241EA (65) 65 Adapter",
          "Casotec Lightning 272017A USB USB Cable",
          "Fonokase SU100 SU100 USB USB Charger",
          "Memore Portable and Flexible MMULL-White USB Led Light",
          "Orico USB 3.0 Hub with Card Reader H3TS-U3-BK USB USB Hub",
          "Bigkik Flexible Lamp Mini Portable Designer USB Led Light",
          "Tapawire Portable USB Flexible Stick Dimmable Touch Switch 10 Super Bright LED Reading Lamp B00 USB Led Light",
          "Crystle Crystle01 CRSTL - Bluecensor USB Led Light, USB Cable",
          "Amaze Fashion Universal Portable Lamp PL014AMAZWH USB Led Light",
          "RRP Alpha X002 USB Led Light",
          "Casotec Plexible LED Light 275012 Led Light USB Led Light",
          "Techone+ Flexible SE122103-GREEN USB Led Light",
          "Himtek light led 1 USB Led Light",
          "RRP Born To Have Lxs-001 USB Led Light",
          "KLIQVIK SIX PORT USB HUB FOR I PHONE 4 MOBILES TR-256 USB USB Hub",
          "KLIQVIK SIX PORT USB HUB FOR SAMSUNG MOBILES TR-252 USB USB Hub",
          "Epresent Mfan 1 Fan USB USB Fan",
          "Task Logistics Audio Receiver H-366 USB Bluetooth",
          "LUV LUV MP3 PLAYER MP3 RED PLAYER USB Sound Card",
          "Rock Rocket Desktop Charger 6950290687051 USB USB Hub",
          "Generix HDMI Female To Female Coupler Jointer Adapter Extender Gender Changer gx-hdmi-coupler USB HDMI Connector",
          "QP360 Kid Fan 01 MLY2015 USB USB Fan",
          "Techone+ Portable Power Bank, and Laptops_2 set USB Led Light",
          "Zaicus Itag Bluetooth Tracer Anti Lost Alarm Remote Shutter Voice Recorder Connect With 10 Units 5692 USB Bluetooth",
          "Memore Portable and Flexible LED Light Lamp MMULL-SkyBlue USB Led Light",
          "RRP Lamp For Computer Keyboard Tslplt02 USB Led Light",
          "KLIQVIK SIX PORT USB HUB FOR ANDROID MOBILES TR-250 USB USB Hub",
          "Akshaj Lightweight Flexible Portable Adjustable With 50000 Hours Life For Keyboard Laptop Pc Notebook Power Bank, Book Reading Work Bed USB Led Light",
          "Lifestyle-You IG43_04 USB USB Fan",
          "99Gems Smart OTG Connection kit USB USB Cable",
          "De TechInn Flexible wire powered by 13 USB Led Light",
          "Crystle Crstl - Pink Crystle01 USB Led Light",
          "Dizionario Mini Perfume Fan Cooling Fancoolerbl USB USB Fan",
          "Kensington 33399EU USB USB Hub",
          "Techone+ Portable SE122103-WHITE USB Led Light",
          "RCE HP ProBook 4430s 6 Cell Laptop Battery",
          "APOLLO+ Pack Of 3 Flexible Led Light",
          "PRINT SHAPES red Heart Laptop Skin with Mouse pad Combo Set",
          "PRINT SHAPES Sony headphone Laptop Skin with Mouse pad Combo Set",
          "PRINT SHAPES Power of roman reigns Laptop Skin with Mouse pad Combo Set",
          "PRINT SHAPES roronoa Zora Laptop Skin with Mouse pad Combo Set",
          "Transcend Premium Memory DDR2 2 GB (1x2GB) PC SDRAM (JM800QLU-2G)",
          "PRINT SHAPES doraemon Laptop Skin with Mouse pad Combo Set",
          "PRINT SHAPES monster university party Laptop Skin with Mouse pad Combo Set",
          "PRINT SHAPES Graphic Dancer Laptop Skin with Mouse pad Combo Set",
          "PRINT SHAPES mary and max cartoon Laptop Skin with Mouse pad Combo Set",
          "PRINT SHAPES Peacock Feather Laptop Skin with Mouse pad Combo Set",
          "PRINT SHAPES despicable me 2 looking upwards Laptop Skin with Mouse pad Combo Set",
          "PRINT SHAPES Red bull Laptop Skin with Mouse pad Combo Set"
         ],
         "legendgroup": "Computers",
         "marker": {
          "color": "rgb(68, 170, 153)",
          "line": {
           "color": "DarkSlateGrey",
           "width": 2
          },
          "size": 12,
          "symbol": "circle"
         },
         "mode": "markers",
         "name": "Computers",
         "showlegend": true,
         "type": "scattergl",
         "x": {
          "bdata": "TARMBEUFRQVFBXQDnQxJBEwE2QHjAXcDvQH9A3gICQtJApABJgGYAfQBmAFwAuIBoQFEARYCkAHPAgoDkgTAApABYQF9AZYCTARMBOMCogKWAgsB3ABMBAAF4wEUBkwETATUAZIEGQT0ARAB5wb0AkkB/ADCA0wETARMBEwETARMBEwETASsBawFhQWnAUwEkAGQAVYFTARMBK4HUAU4A+EBUgOQAVID8AEuBZAB4AHwAZABkAGQAUwEeANMBEwEVgNMBJABTARAAhMCTAQABhwGTAT4AEwEFANxBfQBGQL7A1sGNgRMBEwEngIsBP8COARMBEwEoQBPAkwETARMBEwEmwVMBEwEbAfIA8kC6ACbBCgDygc4BjYGNwZ/BMoHygc2BsoHNQbKB8oH",
          "dtype": "i2"
         },
         "xaxis": "x",
         "y": {
          "bdata": "7AILAiIDIgMiA0wEqgdMBNIDTARPAUwEWQFMBMQJRQrlA8gDkAFmAaEBEAGoAr4B4wOQAR0CewFMBMkClQTfA2UBrQFMBHUDyANSA7sEkwLlAe4B0AEpA3YB8wG5B+QC9gIXATgETARyAZABVgcFA5ABkAFMBP4BJwMnAycDJwMnAycDJwNpAwcE6gSXBOEDXQFdAeMH/QEgA8MF+AO1A9cB4wNdAeMDCQH7B7oA9wAJAboAugC6ALQDMAXEAsMCOAVAAwsBKwTAAtsB4gMlBwwFcgJMBOgCfgn+A34FTARMBCYETAQfAh8CTARMBEwETARMA8MDTARMBEUDRAQfAkwE+gStAzUEYwZMBDkBvAc0A0wE8QfgBekF4AV3AfEH8QfpBfEH3QXxB/EH",
          "dtype": "i2"
         },
         "yaxis": "y"
        }
       ],
       "layout": {
        "font": {
         "color": "black",
         "family": "Segoe UI, Arial, Verdana, Helvetica, sans-serif",
         "size": 12
        },
        "height": 500,
        "legend": {
         "title": {
          "font": {
           "color": "black",
           "family": "Segoe UI, Arial, Verdana, Helvetica, sans-serif",
           "size": 13,
           "weight": "bold"
          },
          "text": "Catégories<br>(cliquez pour filtrer)"
         },
         "tracegroupgap": 0
        },
        "margin": {
         "t": 60
        },
        "template": {
         "data": {
          "bar": [
           {
            "error_x": {
             "color": "#2a3f5f"
            },
            "error_y": {
             "color": "#2a3f5f"
            },
            "marker": {
             "line": {
              "color": "#E5ECF6",
              "width": 0.5
             },
             "pattern": {
              "fillmode": "overlay",
              "size": 10,
              "solidity": 0.2
             }
            },
            "type": "bar"
           }
          ],
          "barpolar": [
           {
            "marker": {
             "line": {
              "color": "#E5ECF6",
              "width": 0.5
             },
             "pattern": {
              "fillmode": "overlay",
              "size": 10,
              "solidity": 0.2
             }
            },
            "type": "barpolar"
           }
          ],
          "carpet": [
           {
            "aaxis": {
             "endlinecolor": "#2a3f5f",
             "gridcolor": "white",
             "linecolor": "white",
             "minorgridcolor": "white",
             "startlinecolor": "#2a3f5f"
            },
            "baxis": {
             "endlinecolor": "#2a3f5f",
             "gridcolor": "white",
             "linecolor": "white",
             "minorgridcolor": "white",
             "startlinecolor": "#2a3f5f"
            },
            "type": "carpet"
           }
          ],
          "choropleth": [
           {
            "colorbar": {
             "outlinewidth": 0,
             "ticks": ""
            },
            "type": "choropleth"
           }
          ],
          "contour": [
           {
            "colorbar": {
             "outlinewidth": 0,
             "ticks": ""
            },
            "colorscale": [
             [
              0,
              "#0d0887"
             ],
             [
              0.1111111111111111,
              "#46039f"
             ],
             [
              0.2222222222222222,
              "#7201a8"
             ],
             [
              0.3333333333333333,
              "#9c179e"
             ],
             [
              0.4444444444444444,
              "#bd3786"
             ],
             [
              0.5555555555555556,
              "#d8576b"
             ],
             [
              0.6666666666666666,
              "#ed7953"
             ],
             [
              0.7777777777777778,
              "#fb9f3a"
             ],
             [
              0.8888888888888888,
              "#fdca26"
             ],
             [
              1,
              "#f0f921"
             ]
            ],
            "type": "contour"
           }
          ],
          "contourcarpet": [
           {
            "colorbar": {
             "outlinewidth": 0,
             "ticks": ""
            },
            "type": "contourcarpet"
           }
          ],
          "heatmap": [
           {
            "colorbar": {
             "outlinewidth": 0,
             "ticks": ""
            },
            "colorscale": [
             [
              0,
              "#0d0887"
             ],
             [
              0.1111111111111111,
              "#46039f"
             ],
             [
              0.2222222222222222,
              "#7201a8"
             ],
             [
              0.3333333333333333,
              "#9c179e"
             ],
             [
              0.4444444444444444,
              "#bd3786"
             ],
             [
              0.5555555555555556,
              "#d8576b"
             ],
             [
              0.6666666666666666,
              "#ed7953"
             ],
             [
              0.7777777777777778,
              "#fb9f3a"
             ],
             [
              0.8888888888888888,
              "#fdca26"
             ],
             [
              1,
              "#f0f921"
             ]
            ],
            "type": "heatmap"
           }
          ],
          "histogram": [
           {
            "marker": {
             "pattern": {
              "fillmode": "overlay",
              "size": 10,
              "solidity": 0.2
             }
            },
            "type": "histogram"
           }
          ],
          "histogram2d": [
           {
            "colorbar": {
             "outlinewidth": 0,
             "ticks": ""
            },
            "colorscale": [
             [
              0,
              "#0d0887"
             ],
             [
              0.1111111111111111,
              "#46039f"
             ],
             [
              0.2222222222222222,
              "#7201a8"
             ],
             [
              0.3333333333333333,
              "#9c179e"
             ],
             [
              0.4444444444444444,
              "#bd3786"
             ],
             [
              0.5555555555555556,
              "#d8576b"
             ],
             [
              0.6666666666666666,
              "#ed7953"
             ],
             [
              0.7777777777777778,
              "#fb9f3a"
             ],
             [
              0.8888888888888888,
              "#fdca26"
             ],
             [
              1,
              "#f0f921"
             ]
            ],
            "type": "histogram2d"
           }
          ],
          "histogram2dcontour": [
           {
            "colorbar": {
             "outlinewidth": 0,
             "ticks": ""
            },
            "colorscale": [
             [
              0,
              "#0d0887"
             ],
             [
              0.1111111111111111,
              "#46039f"
             ],
             [
              0.2222222222222222,
              "#7201a8"
             ],
             [
              0.3333333333333333,
              "#9c179e"
             ],
             [
              0.4444444444444444,
              "#bd3786"
             ],
             [
              0.5555555555555556,
              "#d8576b"
             ],
             [
              0.6666666666666666,
              "#ed7953"
             ],
             [
              0.7777777777777778,
              "#fb9f3a"
             ],
             [
              0.8888888888888888,
              "#fdca26"
             ],
             [
              1,
              "#f0f921"
             ]
            ],
            "type": "histogram2dcontour"
           }
          ],
          "mesh3d": [
           {
            "colorbar": {
             "outlinewidth": 0,
             "ticks": ""
            },
            "type": "mesh3d"
           }
          ],
          "parcoords": [
           {
            "line": {
             "colorbar": {
              "outlinewidth": 0,
              "ticks": ""
             }
            },
            "type": "parcoords"
           }
          ],
          "pie": [
           {
            "automargin": true,
            "type": "pie"
           }
          ],
          "scatter": [
           {
            "fillpattern": {
             "fillmode": "overlay",
             "size": 10,
             "solidity": 0.2
            },
            "type": "scatter"
           }
          ],
          "scatter3d": [
           {
            "line": {
             "colorbar": {
              "outlinewidth": 0,
              "ticks": ""
             }
            },
            "marker": {
             "colorbar": {
              "outlinewidth": 0,
              "ticks": ""
             }
            },
            "type": "scatter3d"
           }
          ],
          "scattercarpet": [
           {
            "marker": {
             "colorbar": {
              "outlinewidth": 0,
              "ticks": ""
             }
            },
            "type": "scattercarpet"
           }
          ],
          "scattergeo": [
           {
            "marker": {
             "colorbar": {
              "outlinewidth": 0,
              "ticks": ""
             }
            },
            "type": "scattergeo"
           }
          ],
          "scattergl": [
           {
            "marker": {
             "colorbar": {
              "outlinewidth": 0,
              "ticks": ""
             }
            },
            "type": "scattergl"
           }
          ],
          "scattermap": [
           {
            "marker": {
             "colorbar": {
              "outlinewidth": 0,
              "ticks": ""
             }
            },
            "type": "scattermap"
           }
          ],
          "scattermapbox": [
           {
            "marker": {
             "colorbar": {
              "outlinewidth": 0,
              "ticks": ""
             }
            },
            "type": "scattermapbox"
           }
          ],
          "scatterpolar": [
           {
            "marker": {
             "colorbar": {
              "outlinewidth": 0,
              "ticks": ""
             }
            },
            "type": "scatterpolar"
           }
          ],
          "scatterpolargl": [
           {
            "marker": {
             "colorbar": {
              "outlinewidth": 0,
              "ticks": ""
             }
            },
            "type": "scatterpolargl"
           }
          ],
          "scatterternary": [
           {
            "marker": {
             "colorbar": {
              "outlinewidth": 0,
              "ticks": ""
             }
            },
            "type": "scatterternary"
           }
          ],
          "surface": [
           {
            "colorbar": {
             "outlinewidth": 0,
             "ticks": ""
            },
            "colorscale": [
             [
              0,
              "#0d0887"
             ],
             [
              0.1111111111111111,
              "#46039f"
             ],
             [
              0.2222222222222222,
              "#7201a8"
             ],
             [
              0.3333333333333333,
              "#9c179e"
             ],
             [
              0.4444444444444444,
              "#bd3786"
             ],
             [
              0.5555555555555556,
              "#d8576b"
             ],
             [
              0.6666666666666666,
              "#ed7953"
             ],
             [
              0.7777777777777778,
              "#fb9f3a"
             ],
             [
              0.8888888888888888,
              "#fdca26"
             ],
             [
              1,
              "#f0f921"
             ]
            ],
            "type": "surface"
           }
          ],
          "table": [
           {
            "cells": {
             "fill": {
              "color": "#EBF0F8"
             },
             "line": {
              "color": "white"
             }
            },
            "header": {
             "fill": {
              "color": "#C8D4E3"
             },
             "line": {
              "color": "white"
             }
            },
            "type": "table"
           }
          ]
         },
         "layout": {
          "annotationdefaults": {
           "arrowcolor": "#2a3f5f",
           "arrowhead": 0,
           "arrowwidth": 1
          },
          "autotypenumbers": "strict",
          "coloraxis": {
           "colorbar": {
            "outlinewidth": 0,
            "ticks": ""
           }
          },
          "colorscale": {
           "diverging": [
            [
             0,
             "#8e0152"
            ],
            [
             0.1,
             "#c51b7d"
            ],
            [
             0.2,
             "#de77ae"
            ],
            [
             0.3,
             "#f1b6da"
            ],
            [
             0.4,
             "#fde0ef"
            ],
            [
             0.5,
             "#f7f7f7"
            ],
            [
             0.6,
             "#e6f5d0"
            ],
            [
             0.7,
             "#b8e186"
            ],
            [
             0.8,
             "#7fbc41"
            ],
            [
             0.9,
             "#4d9221"
            ],
            [
             1,
             "#276419"
            ]
           ],
           "sequential": [
            [
             0,
             "#0d0887"
            ],
            [
             0.1111111111111111,
             "#46039f"
            ],
            [
             0.2222222222222222,
             "#7201a8"
            ],
            [
             0.3333333333333333,
             "#9c179e"
            ],
            [
             0.4444444444444444,
             "#bd3786"
            ],
            [
             0.5555555555555556,
             "#d8576b"
            ],
            [
             0.6666666666666666,
             "#ed7953"
            ],
            [
             0.7777777777777778,
             "#fb9f3a"
            ],
            [
             0.8888888888888888,
             "#fdca26"
            ],
            [
             1,
             "#f0f921"
            ]
           ],
           "sequentialminus": [
            [
             0,
             "#0d0887"
            ],
            [
             0.1111111111111111,
             "#46039f"
            ],
            [
             0.2222222222222222,
             "#7201a8"
            ],
            [
             0.3333333333333333,
             "#9c179e"
            ],
            [
             0.4444444444444444,
             "#bd3786"
            ],
            [
             0.5555555555555556,
             "#d8576b"
            ],
            [
             0.6666666666666666,
             "#ed7953"
            ],
            [
             0.7777777777777778,
             "#fb9f3a"
            ],
            [
             0.8888888888888888,
             "#fdca26"
            ],
            [
             1,
             "#f0f921"
            ]
           ]
          },
          "colorway": [
           "#636efa",
           "#EF553B",
           "#00cc96",
           "#ab63fa",
           "#FFA15A",
           "#19d3f3",
           "#FF6692",
           "#B6E880",
           "#FF97FF",
           "#FECB52"
          ],
          "font": {
           "color": "#2a3f5f"
          },
          "geo": {
           "bgcolor": "white",
           "lakecolor": "white",
           "landcolor": "#E5ECF6",
           "showlakes": true,
           "showland": true,
           "subunitcolor": "white"
          },
          "hoverlabel": {
           "align": "left"
          },
          "hovermode": "closest",
          "mapbox": {
           "style": "light"
          },
          "paper_bgcolor": "white",
          "plot_bgcolor": "#E5ECF6",
          "polar": {
           "angularaxis": {
            "gridcolor": "white",
            "linecolor": "white",
            "ticks": ""
           },
           "bgcolor": "#E5ECF6",
           "radialaxis": {
            "gridcolor": "white",
            "linecolor": "white",
            "ticks": ""
           }
          },
          "scene": {
           "xaxis": {
            "backgroundcolor": "#E5ECF6",
            "gridcolor": "white",
            "gridwidth": 2,
            "linecolor": "white",
            "showbackground": true,
            "ticks": "",
            "zerolinecolor": "white"
           },
           "yaxis": {
            "backgroundcolor": "#E5ECF6",
            "gridcolor": "white",
            "gridwidth": 2,
            "linecolor": "white",
            "showbackground": true,
            "ticks": "",
            "zerolinecolor": "white"
           },
           "zaxis": {
            "backgroundcolor": "#E5ECF6",
            "gridcolor": "white",
            "gridwidth": 2,
            "linecolor": "white",
            "showbackground": true,
            "ticks": "",
            "zerolinecolor": "white"
           }
          },
          "shapedefaults": {
           "line": {
            "color": "#2a3f5f"
           }
          },
          "ternary": {
           "aaxis": {
            "gridcolor": "white",
            "linecolor": "white",
            "ticks": ""
           },
           "baxis": {
            "gridcolor": "white",
            "linecolor": "white",
            "ticks": ""
           },
           "bgcolor": "#E5ECF6",
           "caxis": {
            "gridcolor": "white",
            "linecolor": "white",
            "ticks": ""
           }
          },
          "title": {
           "x": 0.05
          },
          "xaxis": {
           "automargin": true,
           "gridcolor": "white",
           "linecolor": "white",
           "ticks": "",
           "title": {
            "standoff": 15
           },
           "zerolinecolor": "white",
           "zerolinewidth": 2
          },
          "yaxis": {
           "automargin": true,
           "gridcolor": "white",
           "linecolor": "white",
           "ticks": "",
           "title": {
            "standoff": 15
           },
           "zerolinecolor": "white",
           "zerolinewidth": 2
          }
         }
        },
        "title": {
         "font": {
          "color": "black",
          "family": "Segoe UI, Arial, Verdana, Helvetica, sans-serif",
          "size": 16,
          "weight": "bold"
         },
         "text": "Résolution des images",
         "x": 0.4,
         "xanchor": "center"
        },
        "width": 850,
        "xaxis": {
         "anchor": "y",
         "domain": [
          0,
          1
         ],
         "title": {
          "text": "Largeur (pixels)"
         }
        },
        "yaxis": {
         "anchor": "x",
         "domain": [
          0,
          1
         ],
         "title": {
          "text": "Hauteur (pixels)"
         }
        }
       }
      }
     },
     "metadata": {},
     "output_type": "display_data"
    }
   ],
   "source": [
    "\n",
    "font_family = \"Segoe UI, Arial, Verdana, Helvetica, sans-serif\"\n",
    "\n",
    "# Draw a scatter plot with height and width from df_dashboard as x and y axis\n",
    "fig = px.scatter(\n",
    "    df_dashboard,\n",
    "    x=\"largeur\",\n",
    "    y=\"hauteur\",\n",
    "    color=\"Catégorie\",\n",
    "    hover_name=\"Nom du produit\",\n",
    "    hover_data=[\"fichier\"],\n",
    "    color_discrete_sequence=px.colors.qualitative.Safe,  # Colorblind-friendly palette\n",
    ")\n",
    "fig.update_traces(marker=dict(size=12, line=dict(width=2, color=\"DarkSlateGrey\")))\n",
    "fig.update_layout(\n",
    "    title=dict(\n",
    "        text=\"Résolution des images\",\n",
    "        font=dict(size=16, color=\"black\", family=font_family, weight=\"bold\"),\n",
    "        xanchor=\"center\",\n",
    "        x=0.4,\n",
    "    ),\n",
    "    width=850,\n",
    "    height=500,\n",
    "    xaxis_title=\"Largeur (pixels)\",\n",
    "    yaxis_title=\"Hauteur (pixels)\",\n",
    "    legend_title=dict(\n",
    "        text=\"Catégories<br>(cliquez pour filtrer)\",\n",
    "        font=dict(size=13, color=\"black\", family=font_family, weight=\"bold\"),\n",
    "    ),\n",
    "    font=dict(\n",
    "        family=font_family,\n",
    "        size=12,\n",
    "        color=\"black\",\n",
    "    ),\n",
    ")"
   ]
  },
  {
   "cell_type": "code",
   "execution_count": 4,
   "id": "f947c668",
   "metadata": {},
   "outputs": [
    {
     "data": {
      "application/vnd.plotly.v1+json": {
       "config": {
        "plotlyServerURL": "https://plot.ly"
       },
       "data": [
        {
         "hovertemplate": "Catégorie=%{x}<br>fréquence=%{y}<extra></extra>",
         "legendgroup": "Baby Care",
         "marker": {
          "color": "rgb(136, 204, 238)",
          "pattern": {
           "shape": ""
          }
         },
         "name": "Baby Care",
         "orientation": "v",
         "showlegend": true,
         "textposition": "auto",
         "type": "bar",
         "x": [
          "Baby Care"
         ],
         "xaxis": "x",
         "y": {
          "bdata": "lgA=",
          "dtype": "i2"
         },
         "yaxis": "y"
        },
        {
         "hovertemplate": "Catégorie=%{x}<br>fréquence=%{y}<extra></extra>",
         "legendgroup": "Beauty and Personal Care",
         "marker": {
          "color": "rgb(204, 102, 119)",
          "pattern": {
           "shape": ""
          }
         },
         "name": "Beauty and Personal Care",
         "orientation": "v",
         "showlegend": true,
         "textposition": "auto",
         "type": "bar",
         "x": [
          "Beauty and Personal Care"
         ],
         "xaxis": "x",
         "y": {
          "bdata": "lgA=",
          "dtype": "i2"
         },
         "yaxis": "y"
        },
        {
         "hovertemplate": "Catégorie=%{x}<br>fréquence=%{y}<extra></extra>",
         "legendgroup": "Computers",
         "marker": {
          "color": "rgb(221, 204, 119)",
          "pattern": {
           "shape": ""
          }
         },
         "name": "Computers",
         "orientation": "v",
         "showlegend": true,
         "textposition": "auto",
         "type": "bar",
         "x": [
          "Computers"
         ],
         "xaxis": "x",
         "y": {
          "bdata": "lgA=",
          "dtype": "i2"
         },
         "yaxis": "y"
        },
        {
         "hovertemplate": "Catégorie=%{x}<br>fréquence=%{y}<extra></extra>",
         "legendgroup": "Home Decor & Festive Needs",
         "marker": {
          "color": "rgb(17, 119, 51)",
          "pattern": {
           "shape": ""
          }
         },
         "name": "Home Decor & Festive Needs",
         "orientation": "v",
         "showlegend": true,
         "textposition": "auto",
         "type": "bar",
         "x": [
          "Home Decor & Festive Needs"
         ],
         "xaxis": "x",
         "y": {
          "bdata": "lgA=",
          "dtype": "i2"
         },
         "yaxis": "y"
        },
        {
         "hovertemplate": "Catégorie=%{x}<br>fréquence=%{y}<extra></extra>",
         "legendgroup": "Home Furnishing",
         "marker": {
          "color": "rgb(51, 34, 136)",
          "pattern": {
           "shape": ""
          }
         },
         "name": "Home Furnishing",
         "orientation": "v",
         "showlegend": true,
         "textposition": "auto",
         "type": "bar",
         "x": [
          "Home Furnishing"
         ],
         "xaxis": "x",
         "y": {
          "bdata": "lgA=",
          "dtype": "i2"
         },
         "yaxis": "y"
        },
        {
         "hovertemplate": "Catégorie=%{x}<br>fréquence=%{y}<extra></extra>",
         "legendgroup": "Kitchen & Dining",
         "marker": {
          "color": "rgb(170, 68, 153)",
          "pattern": {
           "shape": ""
          }
         },
         "name": "Kitchen & Dining",
         "orientation": "v",
         "showlegend": true,
         "textposition": "auto",
         "type": "bar",
         "x": [
          "Kitchen & Dining"
         ],
         "xaxis": "x",
         "y": {
          "bdata": "lgA=",
          "dtype": "i2"
         },
         "yaxis": "y"
        },
        {
         "hovertemplate": "Catégorie=%{x}<br>fréquence=%{y}<extra></extra>",
         "legendgroup": "Watches",
         "marker": {
          "color": "rgb(68, 170, 153)",
          "pattern": {
           "shape": ""
          }
         },
         "name": "Watches",
         "orientation": "v",
         "showlegend": true,
         "textposition": "auto",
         "type": "bar",
         "x": [
          "Watches"
         ],
         "xaxis": "x",
         "y": {
          "bdata": "lgA=",
          "dtype": "i2"
         },
         "yaxis": "y"
        }
       ],
       "layout": {
        "barmode": "relative",
        "font": {
         "color": "black",
         "family": "Segoe UI, Arial, Verdana, Helvetica, sans-serif",
         "size": 12
        },
        "height": 500,
        "legend": {
         "title": {
          "font": {
           "color": "black",
           "family": "Segoe UI, Arial, Verdana, Helvetica, sans-serif",
           "size": 13,
           "weight": "bold"
          },
          "text": "Catégories<br>(cliquez pour filtrer)"
         },
         "tracegroupgap": 0
        },
        "margin": {
         "t": 60
        },
        "template": {
         "data": {
          "bar": [
           {
            "error_x": {
             "color": "#2a3f5f"
            },
            "error_y": {
             "color": "#2a3f5f"
            },
            "marker": {
             "line": {
              "color": "#E5ECF6",
              "width": 0.5
             },
             "pattern": {
              "fillmode": "overlay",
              "size": 10,
              "solidity": 0.2
             }
            },
            "type": "bar"
           }
          ],
          "barpolar": [
           {
            "marker": {
             "line": {
              "color": "#E5ECF6",
              "width": 0.5
             },
             "pattern": {
              "fillmode": "overlay",
              "size": 10,
              "solidity": 0.2
             }
            },
            "type": "barpolar"
           }
          ],
          "carpet": [
           {
            "aaxis": {
             "endlinecolor": "#2a3f5f",
             "gridcolor": "white",
             "linecolor": "white",
             "minorgridcolor": "white",
             "startlinecolor": "#2a3f5f"
            },
            "baxis": {
             "endlinecolor": "#2a3f5f",
             "gridcolor": "white",
             "linecolor": "white",
             "minorgridcolor": "white",
             "startlinecolor": "#2a3f5f"
            },
            "type": "carpet"
           }
          ],
          "choropleth": [
           {
            "colorbar": {
             "outlinewidth": 0,
             "ticks": ""
            },
            "type": "choropleth"
           }
          ],
          "contour": [
           {
            "colorbar": {
             "outlinewidth": 0,
             "ticks": ""
            },
            "colorscale": [
             [
              0,
              "#0d0887"
             ],
             [
              0.1111111111111111,
              "#46039f"
             ],
             [
              0.2222222222222222,
              "#7201a8"
             ],
             [
              0.3333333333333333,
              "#9c179e"
             ],
             [
              0.4444444444444444,
              "#bd3786"
             ],
             [
              0.5555555555555556,
              "#d8576b"
             ],
             [
              0.6666666666666666,
              "#ed7953"
             ],
             [
              0.7777777777777778,
              "#fb9f3a"
             ],
             [
              0.8888888888888888,
              "#fdca26"
             ],
             [
              1,
              "#f0f921"
             ]
            ],
            "type": "contour"
           }
          ],
          "contourcarpet": [
           {
            "colorbar": {
             "outlinewidth": 0,
             "ticks": ""
            },
            "type": "contourcarpet"
           }
          ],
          "heatmap": [
           {
            "colorbar": {
             "outlinewidth": 0,
             "ticks": ""
            },
            "colorscale": [
             [
              0,
              "#0d0887"
             ],
             [
              0.1111111111111111,
              "#46039f"
             ],
             [
              0.2222222222222222,
              "#7201a8"
             ],
             [
              0.3333333333333333,
              "#9c179e"
             ],
             [
              0.4444444444444444,
              "#bd3786"
             ],
             [
              0.5555555555555556,
              "#d8576b"
             ],
             [
              0.6666666666666666,
              "#ed7953"
             ],
             [
              0.7777777777777778,
              "#fb9f3a"
             ],
             [
              0.8888888888888888,
              "#fdca26"
             ],
             [
              1,
              "#f0f921"
             ]
            ],
            "type": "heatmap"
           }
          ],
          "histogram": [
           {
            "marker": {
             "pattern": {
              "fillmode": "overlay",
              "size": 10,
              "solidity": 0.2
             }
            },
            "type": "histogram"
           }
          ],
          "histogram2d": [
           {
            "colorbar": {
             "outlinewidth": 0,
             "ticks": ""
            },
            "colorscale": [
             [
              0,
              "#0d0887"
             ],
             [
              0.1111111111111111,
              "#46039f"
             ],
             [
              0.2222222222222222,
              "#7201a8"
             ],
             [
              0.3333333333333333,
              "#9c179e"
             ],
             [
              0.4444444444444444,
              "#bd3786"
             ],
             [
              0.5555555555555556,
              "#d8576b"
             ],
             [
              0.6666666666666666,
              "#ed7953"
             ],
             [
              0.7777777777777778,
              "#fb9f3a"
             ],
             [
              0.8888888888888888,
              "#fdca26"
             ],
             [
              1,
              "#f0f921"
             ]
            ],
            "type": "histogram2d"
           }
          ],
          "histogram2dcontour": [
           {
            "colorbar": {
             "outlinewidth": 0,
             "ticks": ""
            },
            "colorscale": [
             [
              0,
              "#0d0887"
             ],
             [
              0.1111111111111111,
              "#46039f"
             ],
             [
              0.2222222222222222,
              "#7201a8"
             ],
             [
              0.3333333333333333,
              "#9c179e"
             ],
             [
              0.4444444444444444,
              "#bd3786"
             ],
             [
              0.5555555555555556,
              "#d8576b"
             ],
             [
              0.6666666666666666,
              "#ed7953"
             ],
             [
              0.7777777777777778,
              "#fb9f3a"
             ],
             [
              0.8888888888888888,
              "#fdca26"
             ],
             [
              1,
              "#f0f921"
             ]
            ],
            "type": "histogram2dcontour"
           }
          ],
          "mesh3d": [
           {
            "colorbar": {
             "outlinewidth": 0,
             "ticks": ""
            },
            "type": "mesh3d"
           }
          ],
          "parcoords": [
           {
            "line": {
             "colorbar": {
              "outlinewidth": 0,
              "ticks": ""
             }
            },
            "type": "parcoords"
           }
          ],
          "pie": [
           {
            "automargin": true,
            "type": "pie"
           }
          ],
          "scatter": [
           {
            "fillpattern": {
             "fillmode": "overlay",
             "size": 10,
             "solidity": 0.2
            },
            "type": "scatter"
           }
          ],
          "scatter3d": [
           {
            "line": {
             "colorbar": {
              "outlinewidth": 0,
              "ticks": ""
             }
            },
            "marker": {
             "colorbar": {
              "outlinewidth": 0,
              "ticks": ""
             }
            },
            "type": "scatter3d"
           }
          ],
          "scattercarpet": [
           {
            "marker": {
             "colorbar": {
              "outlinewidth": 0,
              "ticks": ""
             }
            },
            "type": "scattercarpet"
           }
          ],
          "scattergeo": [
           {
            "marker": {
             "colorbar": {
              "outlinewidth": 0,
              "ticks": ""
             }
            },
            "type": "scattergeo"
           }
          ],
          "scattergl": [
           {
            "marker": {
             "colorbar": {
              "outlinewidth": 0,
              "ticks": ""
             }
            },
            "type": "scattergl"
           }
          ],
          "scattermap": [
           {
            "marker": {
             "colorbar": {
              "outlinewidth": 0,
              "ticks": ""
             }
            },
            "type": "scattermap"
           }
          ],
          "scattermapbox": [
           {
            "marker": {
             "colorbar": {
              "outlinewidth": 0,
              "ticks": ""
             }
            },
            "type": "scattermapbox"
           }
          ],
          "scatterpolar": [
           {
            "marker": {
             "colorbar": {
              "outlinewidth": 0,
              "ticks": ""
             }
            },
            "type": "scatterpolar"
           }
          ],
          "scatterpolargl": [
           {
            "marker": {
             "colorbar": {
              "outlinewidth": 0,
              "ticks": ""
             }
            },
            "type": "scatterpolargl"
           }
          ],
          "scatterternary": [
           {
            "marker": {
             "colorbar": {
              "outlinewidth": 0,
              "ticks": ""
             }
            },
            "type": "scatterternary"
           }
          ],
          "surface": [
           {
            "colorbar": {
             "outlinewidth": 0,
             "ticks": ""
            },
            "colorscale": [
             [
              0,
              "#0d0887"
             ],
             [
              0.1111111111111111,
              "#46039f"
             ],
             [
              0.2222222222222222,
              "#7201a8"
             ],
             [
              0.3333333333333333,
              "#9c179e"
             ],
             [
              0.4444444444444444,
              "#bd3786"
             ],
             [
              0.5555555555555556,
              "#d8576b"
             ],
             [
              0.6666666666666666,
              "#ed7953"
             ],
             [
              0.7777777777777778,
              "#fb9f3a"
             ],
             [
              0.8888888888888888,
              "#fdca26"
             ],
             [
              1,
              "#f0f921"
             ]
            ],
            "type": "surface"
           }
          ],
          "table": [
           {
            "cells": {
             "fill": {
              "color": "#EBF0F8"
             },
             "line": {
              "color": "white"
             }
            },
            "header": {
             "fill": {
              "color": "#C8D4E3"
             },
             "line": {
              "color": "white"
             }
            },
            "type": "table"
           }
          ]
         },
         "layout": {
          "annotationdefaults": {
           "arrowcolor": "#2a3f5f",
           "arrowhead": 0,
           "arrowwidth": 1
          },
          "autotypenumbers": "strict",
          "coloraxis": {
           "colorbar": {
            "outlinewidth": 0,
            "ticks": ""
           }
          },
          "colorscale": {
           "diverging": [
            [
             0,
             "#8e0152"
            ],
            [
             0.1,
             "#c51b7d"
            ],
            [
             0.2,
             "#de77ae"
            ],
            [
             0.3,
             "#f1b6da"
            ],
            [
             0.4,
             "#fde0ef"
            ],
            [
             0.5,
             "#f7f7f7"
            ],
            [
             0.6,
             "#e6f5d0"
            ],
            [
             0.7,
             "#b8e186"
            ],
            [
             0.8,
             "#7fbc41"
            ],
            [
             0.9,
             "#4d9221"
            ],
            [
             1,
             "#276419"
            ]
           ],
           "sequential": [
            [
             0,
             "#0d0887"
            ],
            [
             0.1111111111111111,
             "#46039f"
            ],
            [
             0.2222222222222222,
             "#7201a8"
            ],
            [
             0.3333333333333333,
             "#9c179e"
            ],
            [
             0.4444444444444444,
             "#bd3786"
            ],
            [
             0.5555555555555556,
             "#d8576b"
            ],
            [
             0.6666666666666666,
             "#ed7953"
            ],
            [
             0.7777777777777778,
             "#fb9f3a"
            ],
            [
             0.8888888888888888,
             "#fdca26"
            ],
            [
             1,
             "#f0f921"
            ]
           ],
           "sequentialminus": [
            [
             0,
             "#0d0887"
            ],
            [
             0.1111111111111111,
             "#46039f"
            ],
            [
             0.2222222222222222,
             "#7201a8"
            ],
            [
             0.3333333333333333,
             "#9c179e"
            ],
            [
             0.4444444444444444,
             "#bd3786"
            ],
            [
             0.5555555555555556,
             "#d8576b"
            ],
            [
             0.6666666666666666,
             "#ed7953"
            ],
            [
             0.7777777777777778,
             "#fb9f3a"
            ],
            [
             0.8888888888888888,
             "#fdca26"
            ],
            [
             1,
             "#f0f921"
            ]
           ]
          },
          "colorway": [
           "#636efa",
           "#EF553B",
           "#00cc96",
           "#ab63fa",
           "#FFA15A",
           "#19d3f3",
           "#FF6692",
           "#B6E880",
           "#FF97FF",
           "#FECB52"
          ],
          "font": {
           "color": "#2a3f5f"
          },
          "geo": {
           "bgcolor": "white",
           "lakecolor": "white",
           "landcolor": "#E5ECF6",
           "showlakes": true,
           "showland": true,
           "subunitcolor": "white"
          },
          "hoverlabel": {
           "align": "left"
          },
          "hovermode": "closest",
          "mapbox": {
           "style": "light"
          },
          "paper_bgcolor": "white",
          "plot_bgcolor": "#E5ECF6",
          "polar": {
           "angularaxis": {
            "gridcolor": "white",
            "linecolor": "white",
            "ticks": ""
           },
           "bgcolor": "#E5ECF6",
           "radialaxis": {
            "gridcolor": "white",
            "linecolor": "white",
            "ticks": ""
           }
          },
          "scene": {
           "xaxis": {
            "backgroundcolor": "#E5ECF6",
            "gridcolor": "white",
            "gridwidth": 2,
            "linecolor": "white",
            "showbackground": true,
            "ticks": "",
            "zerolinecolor": "white"
           },
           "yaxis": {
            "backgroundcolor": "#E5ECF6",
            "gridcolor": "white",
            "gridwidth": 2,
            "linecolor": "white",
            "showbackground": true,
            "ticks": "",
            "zerolinecolor": "white"
           },
           "zaxis": {
            "backgroundcolor": "#E5ECF6",
            "gridcolor": "white",
            "gridwidth": 2,
            "linecolor": "white",
            "showbackground": true,
            "ticks": "",
            "zerolinecolor": "white"
           }
          },
          "shapedefaults": {
           "line": {
            "color": "#2a3f5f"
           }
          },
          "ternary": {
           "aaxis": {
            "gridcolor": "white",
            "linecolor": "white",
            "ticks": ""
           },
           "baxis": {
            "gridcolor": "white",
            "linecolor": "white",
            "ticks": ""
           },
           "bgcolor": "#E5ECF6",
           "caxis": {
            "gridcolor": "white",
            "linecolor": "white",
            "ticks": ""
           }
          },
          "title": {
           "x": 0.05
          },
          "xaxis": {
           "automargin": true,
           "gridcolor": "white",
           "linecolor": "white",
           "ticks": "",
           "title": {
            "standoff": 15
           },
           "zerolinecolor": "white",
           "zerolinewidth": 2
          },
          "yaxis": {
           "automargin": true,
           "gridcolor": "white",
           "linecolor": "white",
           "ticks": "",
           "title": {
            "standoff": 15
           },
           "zerolinecolor": "white",
           "zerolinewidth": 2
          }
         }
        },
        "title": {
         "font": {
          "color": "black",
          "family": "Segoe UI, Arial, Verdana, Helvetica, sans-serif",
          "size": 16,
          "weight": "bold"
         },
         "text": "Nombre d'images par catégorie",
         "x": 0.4,
         "xanchor": "center"
        },
        "width": 850,
        "xaxis": {
         "anchor": "y",
         "categoryarray": [
          "Baby Care",
          "Beauty and Personal Care",
          "Computers",
          "Home Decor & Festive Needs",
          "Home Furnishing",
          "Kitchen & Dining",
          "Watches"
         ],
         "categoryorder": "array",
         "domain": [
          0,
          1
         ],
         "title": {
          "text": "Catégorie"
         }
        },
        "yaxis": {
         "anchor": "x",
         "domain": [
          0,
          1
         ],
         "title": {
          "text": "Nombre d'images"
         }
        }
       }
      }
     },
     "metadata": {},
     "output_type": "display_data"
    }
   ],
   "source": [
    "# draw a bar plot with the number of images per class (all bars same height, no image names)\n",
    "df_bar = df_dashboard.groupby(\"Catégorie\", observed=False).size().reset_index(name=\"fréquence\")\n",
    "fig2 = px.bar(\n",
    "    df_bar,\n",
    "    x=\"Catégorie\",\n",
    "    y=\"fréquence\",\n",
    "    color=\"Catégorie\",\n",
    "    color_discrete_sequence=px.colors.qualitative.Safe,\n",
    ")\n",
    "fig2.update_layout(\n",
    "    title=dict(\n",
    "        text=\"Nombre d'images par catégorie\",\n",
    "        font=dict(size=16, color=\"black\", family=font_family, weight=\"bold\"),\n",
    "        xanchor=\"center\",\n",
    "        x=0.4,\n",
    "    ),\n",
    "    width=850,\n",
    "    height=500,\n",
    "    xaxis_title=\"Catégorie\",\n",
    "    yaxis_title=\"Nombre d'images\",\n",
    "    legend_title=dict(\n",
    "        text=\"Catégories<br>(cliquez pour filtrer)\",\n",
    "        font=dict(size=13, color=\"black\", family=font_family, weight=\"bold\"),\n",
    "    ),\n",
    "    font=dict(\n",
    "        family=font_family,\n",
    "        size=12,\n",
    "        color=\"black\",\n",
    "    ),\n",
    ")"
   ]
  },
  {
   "cell_type": "markdown",
   "id": "fe9be878",
   "metadata": {},
   "source": [
    "# BLOCK CLASSIFIER"
   ]
  },
  {
   "cell_type": "code",
   "execution_count": 5,
   "id": "fbb25188",
   "metadata": {},
   "outputs": [],
   "source": [
    "df = pd.read_csv(\"sampled.csv\")\n",
    "files = os.listdir(CLOUD_FOLDER / \"images\")\n",
    "filename2path = {filename: CLOUD_FOLDER / \"images\" / filename for filename in files}\n",
    "id2filename = {\n",
    "    df.loc[df[\"image\"] == filename, \"image_renamed\"].values[0]: filename\n",
    "    for filename in files\n",
    "}"
   ]
  },
  {
   "cell_type": "code",
   "execution_count": 6,
   "id": "95b42b69",
   "metadata": {},
   "outputs": [],
   "source": [
    "def load_image(name: str) -> Path:\n",
    "    \"\"\"\n",
    "    Load an image from the specified path.\n",
    "    \"\"\"\n",
    "    filename = id2filename.get(name)\n",
    "    filepath = filename2path.get(filename)\n",
    "    return Image.open(filepath)"
   ]
  },
  {
   "cell_type": "code",
   "execution_count": 7,
   "id": "920c40e7",
   "metadata": {},
   "outputs": [],
   "source": [
    "# Function to decode base64 string to image\n",
    "def decode_base64_to_image(base64_str: str) -> Image.Image:\n",
    "    image_bytes = base64.b64decode(base64_str)\n",
    "    return Image.open(BytesIO(image_bytes))\n",
    "\n",
    "\n",
    "# Function to convert image to base64 string\n",
    "def img_to_base64(img):\n",
    "    buffer = BytesIO()\n",
    "    img.save(buffer, format=\"JPEG\")\n",
    "    return base64.b64encode(buffer.getvalue()).decode(\"utf-8\")"
   ]
  },
  {
   "cell_type": "code",
   "execution_count": 8,
   "id": "9e4db334",
   "metadata": {},
   "outputs": [],
   "source": [
    "def classify_image(image_name: str) -> str:\n",
    "    \"\"\"\n",
    "    Predict the label of the image using a dummy model.\n",
    "    \"\"\"\n",
    "    # Simulate a prediction\n",
    "    img = load_image(image_name)\n",
    "    img_b64 = img_to_base64(img)\n",
    "    # Send the image to the API\n",
    "    content = send_image_to_api(img_b64, \"predict\")\n",
    "    # Extract the label from the response\n",
    "    label = content.get(\"predicted_label\", \"Unknown\")\n",
    "    probs = content.get(\"probabilities\", \"Unknown\")\n",
    "    df_probs: pd.DataFrame = pd.DataFrame({\"Catégorie\": probs.keys(), \"Probabilité\": probs.values()})\n",
    "    return label, df_probs"
   ]
  },
  {
   "cell_type": "code",
   "execution_count": 9,
   "id": "5b0dd2b5",
   "metadata": {},
   "outputs": [],
   "source": [
    "def transform_image(image_name: str) -> str:\n",
    "    \"\"\"\n",
    "    Transform the image using a dummy model.\n",
    "    \"\"\"\n",
    "    img = load_image(image_name)\n",
    "    img_b64 = img_to_base64(img)\n",
    "    content = send_image_to_api(img_b64, \"normalize\")\n",
    "    # Extract the transformed image from the response\n",
    "    transformed_img_b64 = content.get(\"image_normalized\", \"Unknown\")\n",
    "    # Decode the base64 string to an image\n",
    "    # Convert the image to PIL\n",
    "    transformed_img = Image.open(BytesIO(base64.b64decode(transformed_img_b64)))\n",
    "    return transformed_img"
   ]
  },
  {
   "cell_type": "code",
   "execution_count": 10,
   "id": "8329a233",
   "metadata": {},
   "outputs": [],
   "source": [
    "# Create a request with the img_b64 as a payload to the API\n",
    "def send_image_to_api(image_b64: str, endpoint: str, api_url: str = API_URL) -> str:\n",
    "    url = f\"{api_url}/{endpoint}/\"\n",
    "    headers = {\"Content-Type\": \"application/json\"}\n",
    "    payload = json.dumps({\"image\": image_b64})\n",
    "    response = requests.post(url, headers=headers, data=payload)\n",
    "    return response.json()"
   ]
  },
  {
   "cell_type": "code",
   "execution_count": 11,
   "id": "7d03fd96",
   "metadata": {},
   "outputs": [],
   "source": [
    "df = pd.read_csv(\"sampled.csv\")\n",
    "files = os.listdir(CLOUD_FOLDER / \"images\")\n",
    "filename2path = {filename: CLOUD_FOLDER / \"images\" / filename for filename in files}\n",
    "id2filename = {\n",
    "    df.loc[df[\"image\"] == filename, \"image_renamed\"].values[0]: filename\n",
    "    for filename in files\n",
    "}"
   ]
  },
  {
   "cell_type": "code",
   "execution_count": 12,
   "id": "42e2a9df",
   "metadata": {},
   "outputs": [
    {
     "name": "stdout",
     "output_type": "stream",
     "text": [
      "* Running on local URL:  http://127.0.0.1:7860\n",
      "* To create a public link, set `share=True` in `launch()`.\n"
     ]
    },
    {
     "data": {
      "text/plain": []
     },
     "execution_count": 12,
     "metadata": {},
     "output_type": "execute_result"
    }
   ],
   "source": [
    "# Gradio code pour l'interface utilisateur\n",
    "with gr.Blocks(\n",
    "    css=\"#image_input {border: 2px solid #ccc;}\",\n",
    "    # TODO : Eventuellement modifier le tooltip de l'image par sa description ?\n",
    "    js=\"\"\"\n",
    "    () => {\n",
    "        setTimeout(() => {\n",
    "            // Tooltip pour l'image\n",
    "            const img = document.querySelector('#image_input img');\n",
    "            if (img) {\n",
    "                img.title = \"image à classifier\";\n",
    "            }\n",
    "            // Tooltip pour bloc avec la catégorie prédite\n",
    "            const label = document.querySelector('#image_label');\n",
    "            if (label) {\n",
    "                label.title = \"Catégorie prédite\";\n",
    "            }\n",
    "            // Tooltip pour le bouton \"Classifier l'image\"\n",
    "            const btns = document.querySelectorAll('button');\n",
    "            btns.forEach(btn => {\n",
    "                if (btn.innerText.trim() === \"Classifier l'image\") {\n",
    "                    btn.setAttribute('title', \"Classifier l'image\");\n",
    "                }\n",
    "            });\n",
    "        }, 500);\n",
    "    }\n",
    "    \"\"\"\n",
    ") as demo:\n",
    "    # Application title. TODO : Ajouter la description de l'app\n",
    "    gr.Markdown(\n",
    "        \"\"\"\n",
    "        <h1 style=\"text-align: center; color: #4CAF50;\">Mon App</h1>\n",
    "        \"\"\",\n",
    "        elem_id=\"title\",  # ID pour le CSS\n",
    "        elem_classes=\"title\",  # Classes CSS pour le style\n",
    "    )\n",
    "    #####################\n",
    "    # Classifier tab  #\n",
    "    #####################\n",
    "    with gr.Tab(\"Classification\"):\n",
    "        gr.Markdown(\n",
    "            \"\"\"\n",
    "            <h2 style=\"text-align: left;\">Interface applicative pour utiliser le modèle de classification d'image.</h2>\n",
    "            <p style=\"text-align: left;\">Instructions ...</p>\n",
    "            \"\"\",\n",
    "            elem_id=\"classifier_title\",  # ID pour le CSS\n",
    "            elem_classes=\"classifier-title\",  # Classes CSS pour le style\n",
    "        )\n",
    "        # List of images to classify\n",
    "        with gr.Row():\n",
    "            dropdown = gr.Dropdown(\n",
    "                label=\"Choisissez un produit dans la liste déroulante à afficher\",\n",
    "                choices=list(id2filename.keys()),  # Liste des labels\n",
    "                value=list(id2filename.keys())[0],  # Valeur par défaut\n",
    "            )\n",
    "        # Block to display the image and the predicted label\n",
    "        with gr.Row():\n",
    "            with gr.Column():\n",
    "                image_input = gr.Image(\n",
    "                    value=list(filename2path.values())[0],\n",
    "                    type=\"filepath\",\n",
    "                    label=\"Image à classifier\",\n",
    "                    elem_id=\"image_input\",  # ID pour le CSS\n",
    "                    elem_classes=\"image-input\",  # Classes CSS pour le style\n",
    "                    height=300,\n",
    "                    width=300,\n",
    "                )\n",
    "            with gr.Column():\n",
    "                with gr.Row():\n",
    "                    image_label = gr.Label(\n",
    "                        label=\"Catégorie prédite\",\n",
    "                        elem_id=\"image_label\",  # ID pour le CSS\n",
    "                        elem_classes=\"image-label\",  # Classes CSS pour le style\n",
    "                    )\n",
    "                with gr.Row():\n",
    "                    # Display the predicted probabilities for each class with a bar chart\n",
    "                    df_output = gr.BarPlot(\n",
    "                    label=\"Scores par classe\",\n",
    "                    y=\"Catégorie\",\n",
    "                    x=\"Probabilité\",\n",
    "                    )\n",
    "\n",
    "            # Charger l'exemple sélectionné\n",
    "            dropdown.change(fn=load_image, inputs=dropdown, outputs=image_input)\n",
    "        # Button to launch the classification\n",
    "        with gr.Row():\n",
    "            # Bouton pour lancer la segmentation\n",
    "            submit_btn = gr.Button(\"Classifier l'image\")\n",
    "            submit_btn.click(classify_image, inputs=dropdown, outputs=[image_label, df_output])\n",
    "\n",
    "    #################\n",
    "    # Dashboard tab #\n",
    "    #################\n",
    "    with gr.Tab(\"Dashboard\"):\n",
    "        gr.Markdown(\n",
    "            \"\"\"\n",
    "            <h2 style=\"text-align: left;\">Dashboard de présentation du dataset Flipkart.</h2>\n",
    "            <p style=\"text-align: left;\">Instructions ...</p>\n",
    "            \"\"\",\n",
    "            elem_id=\"dashboard_title\",  # ID pour le CSS\n",
    "            elem_classes=\"dashboard-title\",  # Classes CSS pour le style\n",
    "        )\n",
    "        with gr.Row():\n",
    "            gr.Markdown(\n",
    "                \"\"\"\n",
    "                <h3 style=\"text-align: left;\">Résolution des images</h3>\n",
    "                <p style=\"text-align: left;\">Instructions ...</p>\n",
    "                \"\"\",\n",
    "                elem_id=\"scatterplot_title\",  # ID pour le CSS\n",
    "                elem_classes=\"scatterplot-title\",  # Classes CSS pour le style\n",
    "            )\n",
    "        with gr.Row():\n",
    "            gr.Plot(\n",
    "                value=fig,\n",
    "                label=\"Scatterplot des tailles d'images\",\n",
    "                elem_id=\"scatterplot_dashboard\",\n",
    "                elem_classes=\"scatterplot-dashboard\",  # Classes CSS pour le style\n",
    "            )\n",
    "        with gr.Row():\n",
    "            gr.Markdown(\n",
    "                \"\"\"\n",
    "                <h3 style=\"text-align: left;\">Nombre d'images par catégorie</h3>\n",
    "                <p style=\"text-align: left;\">Instructions ...</p>\n",
    "                \"\"\",\n",
    "                elem_id=\"barplot_title\",  # ID pour le CSS\n",
    "                elem_classes=\"barplot-title\",  # Classes CSS pour le style\n",
    "            )\n",
    "        with gr.Row():\n",
    "            gr.Plot(\n",
    "                value=fig2,\n",
    "                label=\"Histogramme du nombre d'images par catégorie\",\n",
    "                elem_id=\"barplot_dashboard\",\n",
    "                elem_classes=\"barplot-dashboard\",  # Classes CSS pour le style\n",
    "            )\n",
    "        # Block to display the image and the transformed image\n",
    "        with gr.Row():\n",
    "            gr.Markdown(\n",
    "                \"\"\"\n",
    "                <h3 style=\"text-align: left;\">Image transformée</h3>\n",
    "                <p style=\"text-align: left;\">Instructions ...</p>\n",
    "                \"\"\",\n",
    "                elem_id=\"image_transformed_title\",  # ID pour le CSS\n",
    "                elem_classes=\"image_transformed_title\",  # Classes CSS pour le style\n",
    "            )\n",
    "        # List of images to classify\n",
    "        with gr.Row():\n",
    "            dropdown = gr.Dropdown(\n",
    "                label=\"Choisissez un produit dans la liste déroulante à afficher\",\n",
    "                choices=list(id2filename.keys()),  # Liste des labels\n",
    "                value=list(id2filename.keys())[0],  # Valeur par défaut\n",
    "            )\n",
    "        with gr.Row():\n",
    "            image_input = gr.Image(\n",
    "                    value=list(filename2path.values())[0],\n",
    "                    type=\"filepath\",\n",
    "                    label=\"Image à classifier\",\n",
    "                    elem_id=\"image_input\",  # ID pour le CSS\n",
    "                    elem_classes=\"image-input\",  # Classes CSS pour le style\n",
    "                    height=300,\n",
    "                    width=300,\n",
    "                )\n",
    "            image_transformed = gr.Image(\n",
    "                    type=\"pil\",\n",
    "                    label=\"Image transformée\",\n",
    "                    elem_id=\"image_input\",  # ID pour le CSS\n",
    "                    elem_classes=\"image-input\",  # Classes CSS pour le style\n",
    "                    height=300,\n",
    "                    width=300,\n",
    "                )\n",
    "            # Charger l'exemple sélectionné\n",
    "            dropdown.change(fn=load_image, inputs=dropdown, outputs=image_input)\n",
    "        # Button to launch the classification\n",
    "        with gr.Row():\n",
    "            # Bouton pour lancer la segmentation\n",
    "            submit_btn = gr.Button(\"Transformer l'image\")\n",
    "            submit_btn.click(transform_image, inputs=dropdown, outputs=[image_transformed])\n",
    "\n",
    "\n",
    "demo.launch(inline=False)"
   ]
  }
 ],
 "metadata": {
  "kernelspec": {
   "display_name": ".venv",
   "language": "python",
   "name": "python3"
  },
  "language_info": {
   "codemirror_mode": {
    "name": "ipython",
    "version": 3
   },
   "file_extension": ".py",
   "mimetype": "text/x-python",
   "name": "python",
   "nbconvert_exporter": "python",
   "pygments_lexer": "ipython3",
   "version": "3.11.11"
  }
 },
 "nbformat": 4,
 "nbformat_minor": 5
}
