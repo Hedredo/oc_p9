{
 "cells": [
  {
   "cell_type": "code",
   "execution_count": null,
   "id": "65a37f1f",
   "metadata": {},
   "outputs": [],
   "source": [
    "# TODO: Continuer à travailler la classe pour l'évaluation sur le jeu de test et finir le pipeline\n",
    "# TODO: Intégrer les métriques du jeu de test"
   ]
  },
  {
   "cell_type": "markdown",
   "id": "16bda673",
   "metadata": {},
   "source": [
    "# README\n",
    "\n",
    "#TODO Ce notebook présente une analyse de données sur les ventes de jeux vidéo. L'objectif est d'explorer les tendances des ventes en fonction de la plateforme, du genre et de la région."
   ]
  },
  {
   "cell_type": "markdown",
   "id": "a2b7fc58",
   "metadata": {},
   "source": [
    "# PRE-REQUIS\n",
    "\n",
    "Ce bloc contient tout ce qui est nécessaire pour le fonctionnement des expériences."
   ]
  },
  {
   "cell_type": "markdown",
   "id": "cae5ce0b",
   "metadata": {},
   "source": [
    "## Imports & Configurations"
   ]
  },
  {
   "cell_type": "code",
   "execution_count": 2,
   "id": "93f0c07c",
   "metadata": {},
   "outputs": [
    {
     "name": "stderr",
     "output_type": "stream",
     "text": [
      "2025-05-02 23:20:13.141256: E external/local_xla/xla/stream_executor/cuda/cuda_fft.cc:467] Unable to register cuFFT factory: Attempting to register factory for plugin cuFFT when one has already been registered\n",
      "WARNING: All log messages before absl::InitializeLog() is called are written to STDERR\n",
      "E0000 00:00:1746220813.163599    8553 cuda_dnn.cc:8579] Unable to register cuDNN factory: Attempting to register factory for plugin cuDNN when one has already been registered\n",
      "E0000 00:00:1746220813.170160    8553 cuda_blas.cc:1407] Unable to register cuBLAS factory: Attempting to register factory for plugin cuBLAS when one has already been registered\n",
      "W0000 00:00:1746220813.184601    8553 computation_placer.cc:177] computation placer already registered. Please check linkage and avoid linking the same target more than once.\n",
      "W0000 00:00:1746220813.184625    8553 computation_placer.cc:177] computation placer already registered. Please check linkage and avoid linking the same target more than once.\n",
      "W0000 00:00:1746220813.184626    8553 computation_placer.cc:177] computation placer already registered. Please check linkage and avoid linking the same target more than once.\n",
      "W0000 00:00:1746220813.184627    8553 computation_placer.cc:177] computation placer already registered. Please check linkage and avoid linking the same target more than once.\n",
      "2025-05-02 23:20:13.188791: I tensorflow/core/platform/cpu_feature_guard.cc:210] This TensorFlow binary is optimized to use available CPU instructions in performance-critical operations.\n",
      "To enable the following instructions: AVX2 FMA, in other operations, rebuild TensorFlow with the appropriate compiler flags.\n"
     ]
    }
   ],
   "source": [
    "import os\n",
    "import warnings\n",
    "from time import time\n",
    "from datetime import datetime\n",
    "\n",
    "import pandas as pd\n",
    "import numpy as np\n",
    "from PIL import Image\n",
    "\n",
    "import matplotlib.pyplot as plt\n",
    "\n",
    "import tensorflow as tf\n",
    "from tensorflow.keras.applications import EfficientNetB0\n",
    "from tensorflow.keras.models import Model\n",
    "from tensorflow.keras.applications.efficientnet import preprocess_input\n",
    "\n",
    "from sklearn.model_selection import train_test_split\n",
    "from sklearn.preprocessing import LabelEncoder\n",
    "from sklearn.metrics import classification_report\n",
    "from sklearn.metrics import ConfusionMatrixDisplay\n",
    "\n",
    "from constants import ROOT_FOLDER, IMAGE_FOLDER, ARTIFACTS_FOLDER, DATASET_PATH\n",
    "from constants import SEED, VAL_SIZE, TEST_SIZE, BATCH_SIZE, SAMPLING, INPUT_RESOLUTION"
   ]
  },
  {
   "cell_type": "markdown",
   "id": "3cc1f6e8",
   "metadata": {},
   "source": [
    "## Préparation des données"
   ]
  },
  {
   "cell_type": "markdown",
   "id": "add7b38c",
   "metadata": {},
   "source": [
    "### Chargement du dataset"
   ]
  },
  {
   "cell_type": "code",
   "execution_count": 3,
   "id": "61bfcfd2",
   "metadata": {},
   "outputs": [
    {
     "name": "stdout",
     "output_type": "stream",
     "text": [
      "Dataset shape: (1050, 2)\n",
      "Dataset columns: Index(['image', 'class'], dtype='object')\n",
      "Number of classes: 7\n",
      "Classes: ['Baby Care', 'Beauty and Personal Care', 'Computers', 'Home Decor & Festive Needs', 'Home Furnishing', 'Kitchen & Dining', 'Watches']\n"
     ]
    }
   ],
   "source": [
    "# Loading the pickle dataset_cleaned used with the previous project as a pandas df\n",
    "df = pd.read_pickle(DATASET_PATH).drop(columns=[\"product_name\", \"description\"])\n",
    "print(f\"Dataset shape: {df.shape}\")\n",
    "print(f\"Dataset columns: {df.columns}\")\n",
    "\n",
    "# Encode the labels with LabelEncoder\n",
    "le = LabelEncoder()\n",
    "le.fit(df[\"class\"])\n",
    "N_CLASSES = len(le.classes_)\n",
    "CLASSES = le.classes_.tolist()\n",
    "print(f\"Number of classes: {N_CLASSES}\")\n",
    "print(f\"Classes: {CLASSES}\")\n",
    "\n",
    "# Finally transform the class column to the encoded labels\n",
    "df[\"class\"] = le.transform(df[\"class\"])"
   ]
  },
  {
   "cell_type": "markdown",
   "id": "4da4a89e",
   "metadata": {},
   "source": [
    "### Séparation des données (train/validation/test)"
   ]
  },
  {
   "cell_type": "code",
   "execution_count": 4,
   "id": "120caf66",
   "metadata": {},
   "outputs": [
    {
     "name": "stdout",
     "output_type": "stream",
     "text": [
      "Train shape: (32, 2)\n",
      "Val shape: (32, 2)\n",
      "Test shape: (32, 2)\n"
     ]
    }
   ],
   "source": [
    "# Splitting the datasets into train, val and test sets\n",
    "X_temp, X_test, y_temp, y_test = train_test_split(\n",
    "    df[\"image\"],\n",
    "    df[\"class\"],\n",
    "    test_size=TEST_SIZE,\n",
    "    random_state=SEED,\n",
    "    stratify=df[\"class\"],\n",
    "    shuffle=True,\n",
    ")\n",
    "X_train, X_val, y_train, y_val = train_test_split(\n",
    "    X_temp, y_temp, test_size=VAL_SIZE, random_state=SEED, stratify=y_temp, shuffle=True\n",
    ")\n",
    "\n",
    "# Concat X and y for each set\n",
    "train = (\n",
    "    pd.concat([X_train, y_train], axis=1).sample(SAMPLING)\n",
    "    if SAMPLING\n",
    "    else pd.concat([X_train, y_train], axis=1)\n",
    ")\n",
    "val = (\n",
    "    pd.concat([X_val, y_val], axis=1).sample(SAMPLING)\n",
    "    if SAMPLING\n",
    "    else pd.concat([X_val, y_val], axis=1)\n",
    ")\n",
    "test = (\n",
    "    pd.concat([X_test, y_test], axis=1).sample(SAMPLING)\n",
    "    if SAMPLING\n",
    "    else pd.concat([X_test, y_test], axis=1)\n",
    ")\n",
    "\n",
    "# Print the shape of each set\n",
    "print(f\"Train shape: {train.shape}\")\n",
    "print(f\"Val shape: {val.shape}\")\n",
    "print(f\"Test shape: {test.shape}\")"
   ]
  },
  {
   "cell_type": "code",
   "execution_count": 5,
   "id": "f0e30435",
   "metadata": {},
   "outputs": [
    {
     "data": {
      "application/vnd.microsoft.datawrangler.viewer.v0+json": {
       "columns": [
        {
         "name": "index",
         "rawType": "int64",
         "type": "integer"
        },
        {
         "name": "image",
         "rawType": "object",
         "type": "string"
        },
        {
         "name": "class",
         "rawType": "int64",
         "type": "integer"
        }
       ],
       "conversionMethod": "pd.DataFrame",
       "ref": "ded734e3-7545-4e79-826b-190b71ba3667",
       "rows": [
        [
         "64",
         "80e9cb3d2d7f9ff7bc497c34df366d03.jpg",
         "5"
        ],
        [
         "549",
         "8a15fa23b8c39ac1c7eaac94cbbe6fc6.jpg",
         "6"
        ],
        [
         "907",
         "480d24adbc304a52a4e01e45bf8bbccc.jpg",
         "0"
        ],
        [
         "56",
         "24e85c590481a7cedfe66597f253f2b2.jpg",
         "1"
        ],
        [
         "550",
         "321f2ab0dd243778c87ac63ace6639f4.jpg",
         "6"
        ]
       ],
       "shape": {
        "columns": 2,
        "rows": 5
       }
      },
      "text/html": [
       "<div>\n",
       "<style scoped>\n",
       "    .dataframe tbody tr th:only-of-type {\n",
       "        vertical-align: middle;\n",
       "    }\n",
       "\n",
       "    .dataframe tbody tr th {\n",
       "        vertical-align: top;\n",
       "    }\n",
       "\n",
       "    .dataframe thead th {\n",
       "        text-align: right;\n",
       "    }\n",
       "</style>\n",
       "<table border=\"1\" class=\"dataframe\">\n",
       "  <thead>\n",
       "    <tr style=\"text-align: right;\">\n",
       "      <th></th>\n",
       "      <th>image</th>\n",
       "      <th>class</th>\n",
       "    </tr>\n",
       "  </thead>\n",
       "  <tbody>\n",
       "    <tr>\n",
       "      <th>64</th>\n",
       "      <td>80e9cb3d2d7f9ff7bc497c34df366d03.jpg</td>\n",
       "      <td>5</td>\n",
       "    </tr>\n",
       "    <tr>\n",
       "      <th>549</th>\n",
       "      <td>8a15fa23b8c39ac1c7eaac94cbbe6fc6.jpg</td>\n",
       "      <td>6</td>\n",
       "    </tr>\n",
       "    <tr>\n",
       "      <th>907</th>\n",
       "      <td>480d24adbc304a52a4e01e45bf8bbccc.jpg</td>\n",
       "      <td>0</td>\n",
       "    </tr>\n",
       "    <tr>\n",
       "      <th>56</th>\n",
       "      <td>24e85c590481a7cedfe66597f253f2b2.jpg</td>\n",
       "      <td>1</td>\n",
       "    </tr>\n",
       "    <tr>\n",
       "      <th>550</th>\n",
       "      <td>321f2ab0dd243778c87ac63ace6639f4.jpg</td>\n",
       "      <td>6</td>\n",
       "    </tr>\n",
       "  </tbody>\n",
       "</table>\n",
       "</div>"
      ],
      "text/plain": [
       "                                    image  class\n",
       "64   80e9cb3d2d7f9ff7bc497c34df366d03.jpg      5\n",
       "549  8a15fa23b8c39ac1c7eaac94cbbe6fc6.jpg      6\n",
       "907  480d24adbc304a52a4e01e45bf8bbccc.jpg      0\n",
       "56   24e85c590481a7cedfe66597f253f2b2.jpg      1\n",
       "550  321f2ab0dd243778c87ac63ace6639f4.jpg      6"
      ]
     },
     "execution_count": 5,
     "metadata": {},
     "output_type": "execute_result"
    }
   ],
   "source": [
    "train.head(5)"
   ]
  },
  {
   "cell_type": "code",
   "execution_count": 6,
   "id": "4b854797",
   "metadata": {},
   "outputs": [
    {
     "data": {
      "application/vnd.microsoft.datawrangler.viewer.v0+json": {
       "columns": [
        {
         "name": "index",
         "rawType": "int64",
         "type": "integer"
        },
        {
         "name": "image",
         "rawType": "object",
         "type": "string"
        },
        {
         "name": "class",
         "rawType": "int64",
         "type": "integer"
        }
       ],
       "conversionMethod": "pd.DataFrame",
       "ref": "48f32e5c-3a86-4cb6-b975-885d8a0b9f51",
       "rows": [
        [
         "791",
         "4676a8f96abb86c5d1dc5b06c7a11d95.jpg",
         "1"
        ],
        [
         "204",
         "6775e3b91baa4d368f6d91eb7c24578b.jpg",
         "5"
        ],
        [
         "489",
         "5a5bb03499009f35759258263fc834a3.jpg",
         "2"
        ],
        [
         "324",
         "a43fbae655e5d13215b9dd65339fa9d4.jpg",
         "2"
        ],
        [
         "979",
         "c44a5dc5b5ebe5b3e0535b7c2b7921e4.jpg",
         "0"
        ]
       ],
       "shape": {
        "columns": 2,
        "rows": 5
       }
      },
      "text/html": [
       "<div>\n",
       "<style scoped>\n",
       "    .dataframe tbody tr th:only-of-type {\n",
       "        vertical-align: middle;\n",
       "    }\n",
       "\n",
       "    .dataframe tbody tr th {\n",
       "        vertical-align: top;\n",
       "    }\n",
       "\n",
       "    .dataframe thead th {\n",
       "        text-align: right;\n",
       "    }\n",
       "</style>\n",
       "<table border=\"1\" class=\"dataframe\">\n",
       "  <thead>\n",
       "    <tr style=\"text-align: right;\">\n",
       "      <th></th>\n",
       "      <th>image</th>\n",
       "      <th>class</th>\n",
       "    </tr>\n",
       "  </thead>\n",
       "  <tbody>\n",
       "    <tr>\n",
       "      <th>791</th>\n",
       "      <td>4676a8f96abb86c5d1dc5b06c7a11d95.jpg</td>\n",
       "      <td>1</td>\n",
       "    </tr>\n",
       "    <tr>\n",
       "      <th>204</th>\n",
       "      <td>6775e3b91baa4d368f6d91eb7c24578b.jpg</td>\n",
       "      <td>5</td>\n",
       "    </tr>\n",
       "    <tr>\n",
       "      <th>489</th>\n",
       "      <td>5a5bb03499009f35759258263fc834a3.jpg</td>\n",
       "      <td>2</td>\n",
       "    </tr>\n",
       "    <tr>\n",
       "      <th>324</th>\n",
       "      <td>a43fbae655e5d13215b9dd65339fa9d4.jpg</td>\n",
       "      <td>2</td>\n",
       "    </tr>\n",
       "    <tr>\n",
       "      <th>979</th>\n",
       "      <td>c44a5dc5b5ebe5b3e0535b7c2b7921e4.jpg</td>\n",
       "      <td>0</td>\n",
       "    </tr>\n",
       "  </tbody>\n",
       "</table>\n",
       "</div>"
      ],
      "text/plain": [
       "                                    image  class\n",
       "791  4676a8f96abb86c5d1dc5b06c7a11d95.jpg      1\n",
       "204  6775e3b91baa4d368f6d91eb7c24578b.jpg      5\n",
       "489  5a5bb03499009f35759258263fc834a3.jpg      2\n",
       "324  a43fbae655e5d13215b9dd65339fa9d4.jpg      2\n",
       "979  c44a5dc5b5ebe5b3e0535b7c2b7921e4.jpg      0"
      ]
     },
     "execution_count": 6,
     "metadata": {},
     "output_type": "execute_result"
    }
   ],
   "source": [
    "val.head(5)"
   ]
  },
  {
   "cell_type": "code",
   "execution_count": 7,
   "id": "0f3dd379",
   "metadata": {},
   "outputs": [
    {
     "data": {
      "application/vnd.microsoft.datawrangler.viewer.v0+json": {
       "columns": [
        {
         "name": "index",
         "rawType": "int64",
         "type": "integer"
        },
        {
         "name": "image",
         "rawType": "object",
         "type": "string"
        },
        {
         "name": "class",
         "rawType": "int64",
         "type": "integer"
        }
       ],
       "conversionMethod": "pd.DataFrame",
       "ref": "607fff7c-a461-4ed7-832b-7c6d5e12ba77",
       "rows": [
        [
         "858",
         "fffa2117a4006d4a848eb7d5b80d4816.jpg",
         "2"
        ],
        [
         "188",
         "ffbf3794aa8cb6bb8d3f313d0a549a09.jpg",
         "5"
        ],
        [
         "948",
         "c417f408340252f170f05dadf88160d7.jpg",
         "3"
        ],
        [
         "1027",
         "362714cbba2f5ae412d2f26bae99a266.jpg",
         "4"
        ],
        [
         "875",
         "e56ffc10078972b5f4e7302383db8d72.jpg",
         "4"
        ]
       ],
       "shape": {
        "columns": 2,
        "rows": 5
       }
      },
      "text/html": [
       "<div>\n",
       "<style scoped>\n",
       "    .dataframe tbody tr th:only-of-type {\n",
       "        vertical-align: middle;\n",
       "    }\n",
       "\n",
       "    .dataframe tbody tr th {\n",
       "        vertical-align: top;\n",
       "    }\n",
       "\n",
       "    .dataframe thead th {\n",
       "        text-align: right;\n",
       "    }\n",
       "</style>\n",
       "<table border=\"1\" class=\"dataframe\">\n",
       "  <thead>\n",
       "    <tr style=\"text-align: right;\">\n",
       "      <th></th>\n",
       "      <th>image</th>\n",
       "      <th>class</th>\n",
       "    </tr>\n",
       "  </thead>\n",
       "  <tbody>\n",
       "    <tr>\n",
       "      <th>858</th>\n",
       "      <td>fffa2117a4006d4a848eb7d5b80d4816.jpg</td>\n",
       "      <td>2</td>\n",
       "    </tr>\n",
       "    <tr>\n",
       "      <th>188</th>\n",
       "      <td>ffbf3794aa8cb6bb8d3f313d0a549a09.jpg</td>\n",
       "      <td>5</td>\n",
       "    </tr>\n",
       "    <tr>\n",
       "      <th>948</th>\n",
       "      <td>c417f408340252f170f05dadf88160d7.jpg</td>\n",
       "      <td>3</td>\n",
       "    </tr>\n",
       "    <tr>\n",
       "      <th>1027</th>\n",
       "      <td>362714cbba2f5ae412d2f26bae99a266.jpg</td>\n",
       "      <td>4</td>\n",
       "    </tr>\n",
       "    <tr>\n",
       "      <th>875</th>\n",
       "      <td>e56ffc10078972b5f4e7302383db8d72.jpg</td>\n",
       "      <td>4</td>\n",
       "    </tr>\n",
       "  </tbody>\n",
       "</table>\n",
       "</div>"
      ],
      "text/plain": [
       "                                     image  class\n",
       "858   fffa2117a4006d4a848eb7d5b80d4816.jpg      2\n",
       "188   ffbf3794aa8cb6bb8d3f313d0a549a09.jpg      5\n",
       "948   c417f408340252f170f05dadf88160d7.jpg      3\n",
       "1027  362714cbba2f5ae412d2f26bae99a266.jpg      4\n",
       "875   e56ffc10078972b5f4e7302383db8d72.jpg      4"
      ]
     },
     "execution_count": 7,
     "metadata": {},
     "output_type": "execute_result"
    }
   ],
   "source": [
    "test.head(5)"
   ]
  },
  {
   "cell_type": "markdown",
   "id": "b151b55f",
   "metadata": {},
   "source": [
    "## Classes et Fonctions"
   ]
  },
  {
   "cell_type": "markdown",
   "id": "f719df23",
   "metadata": {},
   "source": [
    "### DataLoader\n",
    "\n",
    "[ ] ***TODO*** :"
   ]
  },
  {
   "cell_type": "code",
   "execution_count": 70,
   "id": "ad5ce122",
   "metadata": {},
   "outputs": [],
   "source": [
    "# Block DataLoader\n",
    "from pathlib import PosixPath\n",
    "\n",
    "class ImageDataset(tf.keras.utils.Sequence):\n",
    "    def __init__(\n",
    "        self,\n",
    "        dataframe: pd.DataFrame,\n",
    "        image_dir: PosixPath,\n",
    "        processor = None,\n",
    "        **kwargs,\n",
    "    ):\n",
    "        \"\"\"\n",
    "        Args:\n",
    "            dataframe (pd.DataFrame): DataFrame containing image file names and labels.\n",
    "            image_dir (PosixPath): Directory where images are stored.\n",
    "            processor (AutoImageProcessor, optional): Hugging Face processor for image preprocessing. Defaults to None.\n",
    "        \"\"\"\n",
    "        super().__init__(**kwargs)\n",
    "        self.dataframe = dataframe\n",
    "        self.image_dir = image_dir\n",
    "        self.processor = processor\n",
    "\n",
    "    def __len__(self):\n",
    "        return int(np.ceil(len(self.dataframe) / BATCH_SIZE))\n",
    "\n",
    "    def __getitem__(self, idx):\n",
    "        batch_data = self.dataframe.iloc[idx * BATCH_SIZE:(idx + 1) * BATCH_SIZE]\n",
    "        images = []\n",
    "        labels = []\n",
    "\n",
    "        for _, row in batch_data.iterrows():\n",
    "            img_name = self.image_dir / row[0]  # Assuming image file names are in the first column\n",
    "            image = Image.open(img_name).convert(\"RGB\")  # Ensure consistent color format\n",
    "            image = image.resize((INPUT_RESOLUTION[0], INPUT_RESOLUTION[1]), Image.Resampling.BILINEAR)  # Resize to model input size\n",
    "\n",
    "            label = row[1]  # Assuming labels are in the second column\n",
    "\n",
    "            if self.processor:\n",
    "                image = self.processor(image)\n",
    "\n",
    "            images.append(np.array(image))\n",
    "            labels.append(label)\n",
    "\n",
    "        # Convert to TensorFlow tensors\n",
    "        images = tf.convert_to_tensor(images)\n",
    "        labels = tf.convert_to_tensor(labels)\n",
    "\n",
    "        return images, labels"
   ]
  },
  {
   "cell_type": "code",
   "execution_count": 77,
   "id": "5d389b40",
   "metadata": {},
   "outputs": [
    {
     "data": {
      "text/plain": [
       "(224, 224, 3)"
      ]
     },
     "execution_count": 77,
     "metadata": {},
     "output_type": "execute_result"
    }
   ],
   "source": [
    "INPUT_RESOLUTION"
   ]
  },
  {
   "cell_type": "code",
   "execution_count": 78,
   "id": "cce60842",
   "metadata": {},
   "outputs": [],
   "source": [
    "class EfficientNetModel(tf.keras.Model):\n",
    "    def __init__(self, num_classes, input_resolution, weights=None):\n",
    "        super().__init__()\n",
    "        self.base_model = EfficientNetB0(**{\n",
    "            'include_top': True,\n",
    "            'weights': None,\n",
    "            'input_shape': INPUT_RESOLUTION,\n",
    "            'classes': N_CLASSES,\n",
    "            'classifier_activation': 'softmax'\n",
    "            }\n",
    "        )\n",
    "        self.base_model.load_weights(weights) if weights else None\n",
    "        self.pooling = tf.keras.layers.GlobalAveragePooling2D(name=\"avg_pool\")\n",
    "        self.fc1 = tf.keras.layers.Dense(1024, activation=\"relu\", name=\"fc1\")\n",
    "        self.fc2 = tf.keras.layers.Dense(num_classes, activation=\"softmax\", name=\"predictions\")\n",
    "\n",
    "    def call(self, inputs):\n",
    "        x = self.base_model(inputs)\n",
    "        x = self.pooling(x)\n",
    "        x = self.fc1(x)\n",
    "        predictions = self.fc2(x)\n",
    "        return predictions\n"
   ]
  },
  {
   "cell_type": "code",
   "execution_count": 75,
   "id": "a3ef9e33",
   "metadata": {},
   "outputs": [],
   "source": [
    "model = EfficientNetModel(\n",
    "    num_classes=N_CLASSES,\n",
    "    input_resolution=INPUT_RESOLUTION,\n",
    "    weights= ARTIFACTS_FOLDER / \"effnet.weights.h5\",\n",
    ")"
   ]
  },
  {
   "cell_type": "code",
   "execution_count": 79,
   "id": "f6ce18f4",
   "metadata": {},
   "outputs": [],
   "source": [
    "test_dataset = ImageDataset(\n",
    "    dataframe=test,\n",
    "    image_dir=IMAGE_FOLDER,\n",
    "    processor=preprocess_input,  # Assuming no processor is needed for this model\n",
    ")"
   ]
  },
  {
   "cell_type": "code",
   "execution_count": 80,
   "id": "095fe3e9",
   "metadata": {},
   "outputs": [
    {
     "name": "stderr",
     "output_type": "stream",
     "text": [
      "/tmp/ipykernel_8553/300332428.py:32: FutureWarning: Series.__getitem__ treating keys as positions is deprecated. In a future version, integer keys will always be treated as labels (consistent with DataFrame behavior). To access a value by position, use `ser.iloc[pos]`\n",
      "  img_name = self.image_dir / row[0]  # Assuming image file names are in the first column\n",
      "/tmp/ipykernel_8553/300332428.py:36: FutureWarning: Series.__getitem__ treating keys as positions is deprecated. In a future version, integer keys will always be treated as labels (consistent with DataFrame behavior). To access a value by position, use `ser.iloc[pos]`\n",
      "  label = row[1]  # Assuming labels are in the second column\n"
     ]
    },
    {
     "name": "stdout",
     "output_type": "stream",
     "text": [
      "\u001b[1m4/4\u001b[0m \u001b[32m━━━━━━━━━━━━━━━━━━━━\u001b[0m\u001b[37m\u001b[0m \u001b[1m15s\u001b[0m 385ms/step - accuracy: 0.0417 - loss: 2.0999\n",
      "Test Loss: 2.054971933364868\n",
      "Test Accuracy: 0.0625\n",
      "\u001b[1m4/4\u001b[0m \u001b[32m━━━━━━━━━━━━━━━━━━━━\u001b[0m\u001b[37m\u001b[0m \u001b[1m10s\u001b[0m 375ms/step\n",
      "                            precision    recall  f1-score   support\n",
      "\n",
      "                 Baby Care       0.12      0.67      0.20         3\n",
      "  Beauty and Personal Care       0.00      0.00      0.00         3\n",
      "                 Computers       0.00      0.00      0.00         8\n",
      "Home Decor & Festive Needs       0.00      0.00      0.00         4\n",
      "           Home Furnishing       0.00      0.00      0.00         8\n",
      "          Kitchen & Dining       0.00      0.00      0.00         3\n",
      "                   Watches       0.00      0.00      0.00         3\n",
      "\n",
      "                  accuracy                           0.06        32\n",
      "                 macro avg       0.02      0.10      0.03        32\n",
      "              weighted avg       0.01      0.06      0.02        32\n",
      "\n"
     ]
    },
    {
     "name": "stderr",
     "output_type": "stream",
     "text": [
      "/home/hedredo/github/oc_p9/notebook-tf/.venv/lib/python3.11/site-packages/sklearn/metrics/_classification.py:1565: UndefinedMetricWarning: Precision is ill-defined and being set to 0.0 in labels with no predicted samples. Use `zero_division` parameter to control this behavior.\n",
      "  _warn_prf(average, modifier, f\"{metric.capitalize()} is\", len(result))\n",
      "/home/hedredo/github/oc_p9/notebook-tf/.venv/lib/python3.11/site-packages/sklearn/metrics/_classification.py:1565: UndefinedMetricWarning: Precision is ill-defined and being set to 0.0 in labels with no predicted samples. Use `zero_division` parameter to control this behavior.\n",
      "  _warn_prf(average, modifier, f\"{metric.capitalize()} is\", len(result))\n",
      "/home/hedredo/github/oc_p9/notebook-tf/.venv/lib/python3.11/site-packages/sklearn/metrics/_classification.py:1565: UndefinedMetricWarning: Precision is ill-defined and being set to 0.0 in labels with no predicted samples. Use `zero_division` parameter to control this behavior.\n",
      "  _warn_prf(average, modifier, f\"{metric.capitalize()} is\", len(result))\n"
     ]
    },
    {
     "data": {
      "text/plain": [
       "<Figure size 1000x800 with 0 Axes>"
      ]
     },
     "metadata": {},
     "output_type": "display_data"
    },
    {
     "data": {
      "image/png": "[encoded data removed]",
      "text/plain": [
       "<Figure size 640x480 with 2 Axes>"
      ]
     },
     "metadata": {},
     "output_type": "display_data"
    }
   ],
   "source": [
    "model.compile(\n",
    "    optimizer=tf.keras.optimizers.Adam(learning_rate=1e-4),\n",
    "    loss=tf.keras.losses.SparseCategoricalCrossentropy(from_logits=False),\n",
    "    metrics=[\"accuracy\"],\n",
    ")\n",
    "# Evaluate the model on the test dataset\n",
    "test_loss, test_accuracy = model.evaluate(test_dataset, verbose=1)\n",
    "print(f\"Test Loss: {test_loss}\")\n",
    "print(f\"Test Accuracy: {test_accuracy}\")\n",
    "# Generate predictions\n",
    "predictions = model.predict(test_dataset)\n",
    "predicted_classes = np.argmax(predictions, axis=1)\n",
    "# Get true labels\n",
    "true_labels = test[\"class\"].values\n",
    "# Generate classification report\n",
    "report = classification_report(true_labels, predicted_classes, target_names=CLASSES)\n",
    "print(report)\n",
    "# Generate confusion matrix\n",
    "cm = tf.math.confusion_matrix(true_labels, predicted_classes, num_classes=N_CLASSES)\n",
    "# Plot confusion matrix\n",
    "plt.figure(figsize=(10, 8))\n",
    "ConfusionMatrixDisplay(confusion_matrix=cm.numpy(), display_labels=CLASSES).plot(cmap=\"Blues\")\n",
    "plt.title(\"Confusion Matrix\")\n",
    "plt.show()"
   ]
  },
  {
   "cell_type": "code",
   "execution_count": null,
   "id": "02480bbd",
   "metadata": {},
   "outputs": [
    {
     "name": "stderr",
     "output_type": "stream",
     "text": [
      "I0000 00:00:1745666803.165664   38835 gpu_device.cc:2019] Created device /job:localhost/replica:0/task:0/device:GPU:0 with 2246 MB memory:  -> device: 0, name: NVIDIA GeForce GTX 1650, pci bus id: 0000:01:00.0, compute capability: 7.5\n",
      "WARNING: All log messages before absl::InitializeLog() is called are written to STDERR\n",
      "I0000 00:00:1745666808.012181   39239 service.cc:152] XLA service 0x7fa2ac002ac0 initialized for platform CUDA (this does not guarantee that XLA will be used). Devices:\n",
      "I0000 00:00:1745666808.012247   39239 service.cc:160]   StreamExecutor device (0): NVIDIA GeForce GTX 1650, Compute Capability 7.5\n",
      "2025-04-26 13:26:48.146253: I tensorflow/compiler/mlir/tensorflow/utils/dump_mlir_util.cc:269] disabling MLIR crash reproducer, set env var `MLIR_CRASH_REPRODUCER_DIRECTORY` to enable.\n",
      "I0000 00:00:1745666808.828308   39239 cuda_dnn.cc:529] Loaded cuDNN version 90300\n"
     ]
    },
    {
     "name": "stdout",
     "output_type": "stream",
     "text": [
      "\u001b[1m1/1\u001b[0m \u001b[32m━━━━━━━━━━━━━━━━━━━━\u001b[0m\u001b[37m\u001b[0m \u001b[1m10s\u001b[0m 10s/step\n"
     ]
    },
    {
     "name": "stderr",
     "output_type": "stream",
     "text": [
      "I0000 00:00:1745666815.847296   39239 device_compiler.h:188] Compiled cluster using XLA!  This line is logged at most once for the lifetime of the process.\n"
     ]
    },
    {
     "data": {
      "text/plain": [
       "(1, 7)"
      ]
     },
     "execution_count": 4,
     "metadata": {},
     "output_type": "execute_result"
    }
   ],
   "source": [
    "# Enregistre les paramètres du modèle\n",
    "model_params = {\n",
    "    'include_top': False,\n",
    "    'weights': 'imagenet',\n",
    "    'input_shape': (224, 224, 3)\n",
    "}\n",
    "\n",
    "# Charge le modèle EfficientNetB0\n",
    "model = EfficientNetB0(**model_params)\n",
    "# Ajoute les dernières couches denses du modèle\n",
    "x = tf.keras.layers.GlobalAveragePooling2D(name=\"avg_pool\")(model.output)\n",
    "x = tf.keras.layers.Dense(1024, activation='relu')(x)\n",
    "predictions = tf.keras.layers.Dense(N_CLASSES, activation='softmax', name='predictions')(x)\n",
    "\n",
    "# Crée un modèle à partir des inputs et des outputs\n",
    "model = Model(inputs=model.input, outputs=predictions)\n",
    "img = PIL.Image.open(img_test)\n",
    "img_resized = img.resize((224, 224))\n",
    "img_preprocessed = preprocess_input(img_resized)\n",
    "img_batch = np.expand_dims(img_preprocessed, axis=0)\n",
    "prediction = model.predict(img_batch)\n",
    "prediction.shape"
   ]
  }
 ],
 "metadata": {
  "kernelspec": {
   "display_name": ".venv",
   "language": "python",
   "name": "python3"
  },
  "language_info": {
   "codemirror_mode": {
    "name": "ipython",
    "version": 3
   },
   "file_extension": ".py",
   "mimetype": "text/x-python",
   "name": "python",
   "nbconvert_exporter": "python",
   "pygments_lexer": "ipython3",
   "version": "3.11.11"
  }
 },
 "nbformat": 4,
 "nbformat_minor": 5
}
